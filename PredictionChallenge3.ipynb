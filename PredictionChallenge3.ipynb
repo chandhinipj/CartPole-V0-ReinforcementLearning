{
  "nbformat": 4,
  "nbformat_minor": 0,
  "metadata": {
    "colab": {
      "provenance": [],
      "toc_visible": true,
      "include_colab_link": true
    },
    "kernelspec": {
      "name": "python3",
      "display_name": "Python 3"
    }
  },
  "cells": [
    {
      "cell_type": "markdown",
      "metadata": {
        "id": "view-in-github",
        "colab_type": "text"
      },
      "source": [
        "<a href=\"https://colab.research.google.com/github/chandhinipj/CartPole-V0-ReinforcementLearning/blob/main/PredictionChallenge3.ipynb\" target=\"_parent\"><img src=\"https://colab.research.google.com/assets/colab-badge.svg\" alt=\"Open In Colab\"/></a>"
      ]
    },
    {
      "cell_type": "markdown",
      "metadata": {
        "id": "VKK5DA390wRe"
      },
      "source": [
        "# Skeleton Code for Prediction Challenge 3\n",
        "Below is partial code to get you started on prediction challenge 3. You need to select values for the parameters that have question marks."
      ]
    },
    {
      "cell_type": "code",
      "source": [
        "!pip install keras-rl2"
      ],
      "metadata": {
        "colab": {
          "base_uri": "https://localhost:8080/"
        },
        "id": "DNGTghHEhyW4",
        "outputId": "f5aa8824-2264-43a3-aedf-9e9fbe219d55"
      },
      "execution_count": 1,
      "outputs": [
        {
          "output_type": "stream",
          "name": "stdout",
          "text": [
            "Looking in indexes: https://pypi.org/simple, https://us-python.pkg.dev/colab-wheels/public/simple/\n",
            "Collecting keras-rl2\n",
            "  Downloading keras_rl2-1.0.5-py3-none-any.whl (52 kB)\n",
            "\u001b[2K     \u001b[90m━━━━━━━━━━━━━━━━━━━━━━━━━━━━━━━━━━━━━━━━\u001b[0m \u001b[32m52.1/52.1 KB\u001b[0m \u001b[31m1.8 MB/s\u001b[0m eta \u001b[36m0:00:00\u001b[0m\n",
            "\u001b[?25hRequirement already satisfied: tensorflow in /usr/local/lib/python3.9/dist-packages (from keras-rl2) (2.11.0)\n",
            "Requirement already satisfied: numpy>=1.20 in /usr/local/lib/python3.9/dist-packages (from tensorflow->keras-rl2) (1.22.4)\n",
            "Requirement already satisfied: protobuf<3.20,>=3.9.2 in /usr/local/lib/python3.9/dist-packages (from tensorflow->keras-rl2) (3.19.6)\n",
            "Requirement already satisfied: tensorflow-estimator<2.12,>=2.11.0 in /usr/local/lib/python3.9/dist-packages (from tensorflow->keras-rl2) (2.11.0)\n",
            "Requirement already satisfied: tensorflow-io-gcs-filesystem>=0.23.1 in /usr/local/lib/python3.9/dist-packages (from tensorflow->keras-rl2) (0.31.0)\n",
            "Requirement already satisfied: packaging in /usr/local/lib/python3.9/dist-packages (from tensorflow->keras-rl2) (23.0)\n",
            "Requirement already satisfied: opt-einsum>=2.3.2 in /usr/local/lib/python3.9/dist-packages (from tensorflow->keras-rl2) (3.3.0)\n",
            "Requirement already satisfied: h5py>=2.9.0 in /usr/local/lib/python3.9/dist-packages (from tensorflow->keras-rl2) (3.1.0)\n",
            "Requirement already satisfied: google-pasta>=0.1.1 in /usr/local/lib/python3.9/dist-packages (from tensorflow->keras-rl2) (0.2.0)\n",
            "Requirement already satisfied: gast<=0.4.0,>=0.2.1 in /usr/local/lib/python3.9/dist-packages (from tensorflow->keras-rl2) (0.4.0)\n",
            "Requirement already satisfied: setuptools in /usr/local/lib/python3.9/dist-packages (from tensorflow->keras-rl2) (57.4.0)\n",
            "Requirement already satisfied: tensorboard<2.12,>=2.11 in /usr/local/lib/python3.9/dist-packages (from tensorflow->keras-rl2) (2.11.2)\n",
            "Requirement already satisfied: six>=1.12.0 in /usr/local/lib/python3.9/dist-packages (from tensorflow->keras-rl2) (1.15.0)\n",
            "Requirement already satisfied: astunparse>=1.6.0 in /usr/local/lib/python3.9/dist-packages (from tensorflow->keras-rl2) (1.6.3)\n",
            "Requirement already satisfied: absl-py>=1.0.0 in /usr/local/lib/python3.9/dist-packages (from tensorflow->keras-rl2) (1.4.0)\n",
            "Requirement already satisfied: grpcio<2.0,>=1.24.3 in /usr/local/lib/python3.9/dist-packages (from tensorflow->keras-rl2) (1.51.3)\n",
            "Requirement already satisfied: libclang>=13.0.0 in /usr/local/lib/python3.9/dist-packages (from tensorflow->keras-rl2) (15.0.6.1)\n",
            "Requirement already satisfied: typing-extensions>=3.6.6 in /usr/local/lib/python3.9/dist-packages (from tensorflow->keras-rl2) (4.5.0)\n",
            "Requirement already satisfied: termcolor>=1.1.0 in /usr/local/lib/python3.9/dist-packages (from tensorflow->keras-rl2) (2.2.0)\n",
            "Requirement already satisfied: flatbuffers>=2.0 in /usr/local/lib/python3.9/dist-packages (from tensorflow->keras-rl2) (23.3.3)\n",
            "Requirement already satisfied: keras<2.12,>=2.11.0 in /usr/local/lib/python3.9/dist-packages (from tensorflow->keras-rl2) (2.11.0)\n",
            "Requirement already satisfied: wrapt>=1.11.0 in /usr/local/lib/python3.9/dist-packages (from tensorflow->keras-rl2) (1.15.0)\n",
            "Requirement already satisfied: wheel<1.0,>=0.23.0 in /usr/local/lib/python3.9/dist-packages (from astunparse>=1.6.0->tensorflow->keras-rl2) (0.38.4)\n",
            "Requirement already satisfied: tensorboard-plugin-wit>=1.6.0 in /usr/local/lib/python3.9/dist-packages (from tensorboard<2.12,>=2.11->tensorflow->keras-rl2) (1.8.1)\n",
            "Requirement already satisfied: markdown>=2.6.8 in /usr/local/lib/python3.9/dist-packages (from tensorboard<2.12,>=2.11->tensorflow->keras-rl2) (3.4.1)\n",
            "Requirement already satisfied: requests<3,>=2.21.0 in /usr/local/lib/python3.9/dist-packages (from tensorboard<2.12,>=2.11->tensorflow->keras-rl2) (2.25.1)\n",
            "Requirement already satisfied: werkzeug>=1.0.1 in /usr/local/lib/python3.9/dist-packages (from tensorboard<2.12,>=2.11->tensorflow->keras-rl2) (2.2.3)\n",
            "Requirement already satisfied: google-auth<3,>=1.6.3 in /usr/local/lib/python3.9/dist-packages (from tensorboard<2.12,>=2.11->tensorflow->keras-rl2) (2.16.2)\n",
            "Requirement already satisfied: tensorboard-data-server<0.7.0,>=0.6.0 in /usr/local/lib/python3.9/dist-packages (from tensorboard<2.12,>=2.11->tensorflow->keras-rl2) (0.6.1)\n",
            "Requirement already satisfied: google-auth-oauthlib<0.5,>=0.4.1 in /usr/local/lib/python3.9/dist-packages (from tensorboard<2.12,>=2.11->tensorflow->keras-rl2) (0.4.6)\n",
            "Requirement already satisfied: pyasn1-modules>=0.2.1 in /usr/local/lib/python3.9/dist-packages (from google-auth<3,>=1.6.3->tensorboard<2.12,>=2.11->tensorflow->keras-rl2) (0.2.8)\n",
            "Requirement already satisfied: cachetools<6.0,>=2.0.0 in /usr/local/lib/python3.9/dist-packages (from google-auth<3,>=1.6.3->tensorboard<2.12,>=2.11->tensorflow->keras-rl2) (5.3.0)\n",
            "Requirement already satisfied: rsa<5,>=3.1.4 in /usr/local/lib/python3.9/dist-packages (from google-auth<3,>=1.6.3->tensorboard<2.12,>=2.11->tensorflow->keras-rl2) (4.9)\n",
            "Requirement already satisfied: requests-oauthlib>=0.7.0 in /usr/local/lib/python3.9/dist-packages (from google-auth-oauthlib<0.5,>=0.4.1->tensorboard<2.12,>=2.11->tensorflow->keras-rl2) (1.3.1)\n",
            "Requirement already satisfied: importlib-metadata>=4.4 in /usr/local/lib/python3.9/dist-packages (from markdown>=2.6.8->tensorboard<2.12,>=2.11->tensorflow->keras-rl2) (6.0.0)\n",
            "Requirement already satisfied: urllib3<1.27,>=1.21.1 in /usr/local/lib/python3.9/dist-packages (from requests<3,>=2.21.0->tensorboard<2.12,>=2.11->tensorflow->keras-rl2) (1.26.14)\n",
            "Requirement already satisfied: idna<3,>=2.5 in /usr/local/lib/python3.9/dist-packages (from requests<3,>=2.21.0->tensorboard<2.12,>=2.11->tensorflow->keras-rl2) (2.10)\n",
            "Requirement already satisfied: certifi>=2017.4.17 in /usr/local/lib/python3.9/dist-packages (from requests<3,>=2.21.0->tensorboard<2.12,>=2.11->tensorflow->keras-rl2) (2022.12.7)\n",
            "Requirement already satisfied: chardet<5,>=3.0.2 in /usr/local/lib/python3.9/dist-packages (from requests<3,>=2.21.0->tensorboard<2.12,>=2.11->tensorflow->keras-rl2) (4.0.0)\n",
            "Requirement already satisfied: MarkupSafe>=2.1.1 in /usr/local/lib/python3.9/dist-packages (from werkzeug>=1.0.1->tensorboard<2.12,>=2.11->tensorflow->keras-rl2) (2.1.2)\n",
            "Requirement already satisfied: zipp>=0.5 in /usr/local/lib/python3.9/dist-packages (from importlib-metadata>=4.4->markdown>=2.6.8->tensorboard<2.12,>=2.11->tensorflow->keras-rl2) (3.15.0)\n",
            "Requirement already satisfied: pyasn1<0.5.0,>=0.4.6 in /usr/local/lib/python3.9/dist-packages (from pyasn1-modules>=0.2.1->google-auth<3,>=1.6.3->tensorboard<2.12,>=2.11->tensorflow->keras-rl2) (0.4.8)\n",
            "Requirement already satisfied: oauthlib>=3.0.0 in /usr/local/lib/python3.9/dist-packages (from requests-oauthlib>=0.7.0->google-auth-oauthlib<0.5,>=0.4.1->tensorboard<2.12,>=2.11->tensorflow->keras-rl2) (3.2.2)\n",
            "Installing collected packages: keras-rl2\n",
            "Successfully installed keras-rl2-1.0.5\n"
          ]
        }
      ]
    },
    {
      "cell_type": "code",
      "source": [
        "!pip install gym"
      ],
      "metadata": {
        "colab": {
          "base_uri": "https://localhost:8080/"
        },
        "id": "eQ_dXOCKh0jV",
        "outputId": "c74ee187-0e5c-423b-c08f-f9f053ea274c"
      },
      "execution_count": 2,
      "outputs": [
        {
          "output_type": "stream",
          "name": "stdout",
          "text": [
            "Looking in indexes: https://pypi.org/simple, https://us-python.pkg.dev/colab-wheels/public/simple/\n",
            "Requirement already satisfied: gym in /usr/local/lib/python3.9/dist-packages (0.25.2)\n",
            "Requirement already satisfied: numpy>=1.18.0 in /usr/local/lib/python3.9/dist-packages (from gym) (1.22.4)\n",
            "Requirement already satisfied: gym-notices>=0.0.4 in /usr/local/lib/python3.9/dist-packages (from gym) (0.0.8)\n",
            "Requirement already satisfied: importlib-metadata>=4.8.0 in /usr/local/lib/python3.9/dist-packages (from gym) (6.0.0)\n",
            "Requirement already satisfied: cloudpickle>=1.2.0 in /usr/local/lib/python3.9/dist-packages (from gym) (2.2.1)\n",
            "Requirement already satisfied: zipp>=0.5 in /usr/local/lib/python3.9/dist-packages (from importlib-metadata>=4.8.0->gym) (3.15.0)\n"
          ]
        }
      ]
    },
    {
      "cell_type": "code",
      "source": [
        "# load the gym module\n",
        "import gym\n",
        "import matplotlib.pyplot as plt\n",
        "# import the usual Keras modules for creating deep neural networks\n",
        "from keras import Sequential\n",
        "from keras.layers import Input, Flatten, Dense\n",
        "from keras.optimizers import Adam\n",
        "\n",
        "ENV_NAME = 'CartPole-v0'\n",
        "env = gym.make(ENV_NAME)"
      ],
      "metadata": {
        "colab": {
          "base_uri": "https://localhost:8080/"
        },
        "id": "75Phf54nh2y_",
        "outputId": "8813905b-18c2-4a1f-e4f7-5bedd3361034"
      },
      "execution_count": 3,
      "outputs": [
        {
          "output_type": "stream",
          "name": "stderr",
          "text": [
            "/usr/local/lib/python3.9/dist-packages/gym/envs/registration.py:593: UserWarning: \u001b[33mWARN: The environment CartPole-v0 is out of date. You should consider upgrading to version `v1`.\u001b[0m\n",
            "  logger.warn(\n",
            "/usr/local/lib/python3.9/dist-packages/gym/core.py:317: DeprecationWarning: \u001b[33mWARN: Initializing wrapper in old step API which returns one bool instead of two. It is recommended to set `new_step_api=True` to use new step API. This will be the default behaviour in future.\u001b[0m\n",
            "  deprecation(\n",
            "/usr/local/lib/python3.9/dist-packages/gym/wrappers/step_api_compatibility.py:39: DeprecationWarning: \u001b[33mWARN: Initializing environment in old step API which returns one bool instead of two. It is recommended to set `new_step_api=True` to use new step API. This will be the default behaviour in future.\u001b[0m\n",
            "  deprecation(\n"
          ]
        }
      ]
    },
    {
      "cell_type": "code",
      "source": [
        "import rl\n",
        "from rl.memory import SequentialMemory  # import the exerience replay buffer module\n",
        "from rl.policy import LinearAnnealedPolicy, EpsGreedyQPolicy  # import the policy\n",
        "from rl.agents.dqn import DQNAgent      # import the DQN agent"
      ],
      "metadata": {
        "id": "KsGYDOrDh58e"
      },
      "execution_count": 4,
      "outputs": []
    },
    {
      "cell_type": "code",
      "source": [
        "# Q-Network\n",
        "model = Sequential()\n",
        "model.add(Input(shape=(1,env.observation_space.shape[0])))  # The input is 1 observation vector, and the number of observations in that vector \n",
        "model.add(Flatten())\n",
        "# add extra layers here\n",
        "model.add(Dense(16, activation='relu'))\n",
        "# model.add(Dense(32, activation='relu'))\n",
        "model.add(Dense(env.action_space.n, activation='linear'))   # the output is the number of actions in the action space\n",
        "print(model.summary())"
      ],
      "metadata": {
        "colab": {
          "base_uri": "https://localhost:8080/"
        },
        "id": "i5dvD8xTio0U",
        "outputId": "fcd9a542-56ec-4870-9b40-b140580e105b"
      },
      "execution_count": 5,
      "outputs": [
        {
          "output_type": "stream",
          "name": "stdout",
          "text": [
            "Model: \"sequential\"\n",
            "_________________________________________________________________\n",
            " Layer (type)                Output Shape              Param #   \n",
            "=================================================================\n",
            " flatten (Flatten)           (None, 4)                 0         \n",
            "                                                                 \n",
            " dense (Dense)               (None, 16)                80        \n",
            "                                                                 \n",
            " dense_1 (Dense)             (None, 2)                 34        \n",
            "                                                                 \n",
            "=================================================================\n",
            "Total params: 114\n",
            "Trainable params: 114\n",
            "Non-trainable params: 0\n",
            "_________________________________________________________________\n",
            "None\n"
          ]
        }
      ]
    },
    {
      "cell_type": "code",
      "metadata": {
        "id": "R8ZiiRbxlH2D",
        "colab": {
          "base_uri": "https://localhost:8080/"
        },
        "outputId": "a36ce0f1-b560-4443-ef24-0ea686b03e39"
      },
      "source": [
        "memory = SequentialMemory(limit=10000, window_length=1)\n",
        "\n",
        "# define the policy\n",
        "policy =  LinearAnnealedPolicy(inner_policy=EpsGreedyQPolicy(), \n",
        "                               attr='eps',            \n",
        "                               value_max=1.0,\n",
        "                               value_min=0.1, \n",
        "                               value_test=.05,\n",
        "                               nb_steps=10000)\n",
        "\n",
        "\n",
        "# define the agent\n",
        "dqn = DQNAgent(model=model, \n",
        "               nb_actions=env.action_space.n,\n",
        "               memory=memory,\n",
        "               nb_steps_warmup=20,\n",
        "               target_model_update=1e-2, \n",
        "               policy=policy) \n",
        "\n",
        "dqn.compile(Adam(lr=1e-3), metrics=['mae'])\n",
        "\n",
        "history = dqn.fit(env, nb_steps=10000, visualize=False, verbose=2)\n",
        "\n"
      ],
      "execution_count": 6,
      "outputs": [
        {
          "output_type": "stream",
          "name": "stderr",
          "text": [
            "/usr/local/lib/python3.9/dist-packages/keras/optimizers/optimizer_v2/adam.py:117: UserWarning: The `lr` argument is deprecated, use `learning_rate` instead.\n",
            "  super().__init__(name, **kwargs)\n",
            "WARNING:tensorflow:From /usr/local/lib/python3.9/dist-packages/tensorflow/python/autograph/pyct/static_analysis/liveness.py:83: Analyzer.lamba_check (from tensorflow.python.autograph.pyct.static_analysis.liveness) is deprecated and will be removed after 2023-09-23.\n",
            "Instructions for updating:\n",
            "Lambda fuctions will be no more assumed to be used in the statement where they are used, or at least in the same block. https://github.com/tensorflow/tensorflow/issues/56089\n",
            "/usr/local/lib/python3.9/dist-packages/keras/engine/training_v1.py:2357: UserWarning: `Model.state_updates` will be removed in a future version. This property should not be used in TensorFlow 2.0, as `updates` are applied automatically.\n",
            "  updates=self.state_updates,\n"
          ]
        },
        {
          "output_type": "stream",
          "name": "stdout",
          "text": [
            "Training for 10000 steps ...\n"
          ]
        },
        {
          "output_type": "stream",
          "name": "stderr",
          "text": [
            "/usr/local/lib/python3.9/dist-packages/rl/memory.py:37: UserWarning: Not enough entries to sample without replacement. Consider increasing your warm-up phase to avoid oversampling!\n",
            "  warnings.warn('Not enough entries to sample without replacement. Consider increasing your warm-up phase to avoid oversampling!')\n",
            "/usr/local/lib/python3.9/dist-packages/rl/memory.py:38: DeprecationWarning: This function is deprecated. Please call randint(1, 20 + 1) instead\n",
            "  batch_idxs = np.random.random_integers(low, high - 1, size=size)\n",
            "/usr/local/lib/python3.9/dist-packages/rl/memory.py:38: DeprecationWarning: This function is deprecated. Please call randint(1, 21 + 1) instead\n",
            "  batch_idxs = np.random.random_integers(low, high - 1, size=size)\n",
            "/usr/local/lib/python3.9/dist-packages/rl/memory.py:38: DeprecationWarning: This function is deprecated. Please call randint(1, 22 + 1) instead\n",
            "  batch_idxs = np.random.random_integers(low, high - 1, size=size)\n",
            "/usr/local/lib/python3.9/dist-packages/rl/memory.py:38: DeprecationWarning: This function is deprecated. Please call randint(1, 23 + 1) instead\n",
            "  batch_idxs = np.random.random_integers(low, high - 1, size=size)\n",
            "/usr/local/lib/python3.9/dist-packages/rl/memory.py:38: DeprecationWarning: This function is deprecated. Please call randint(1, 24 + 1) instead\n",
            "  batch_idxs = np.random.random_integers(low, high - 1, size=size)\n",
            "/usr/local/lib/python3.9/dist-packages/rl/memory.py:38: DeprecationWarning: This function is deprecated. Please call randint(1, 25 + 1) instead\n",
            "  batch_idxs = np.random.random_integers(low, high - 1, size=size)\n",
            "/usr/local/lib/python3.9/dist-packages/rl/memory.py:38: DeprecationWarning: This function is deprecated. Please call randint(1, 26 + 1) instead\n",
            "  batch_idxs = np.random.random_integers(low, high - 1, size=size)\n",
            "/usr/local/lib/python3.9/dist-packages/rl/memory.py:38: DeprecationWarning: This function is deprecated. Please call randint(1, 27 + 1) instead\n",
            "  batch_idxs = np.random.random_integers(low, high - 1, size=size)\n",
            "/usr/local/lib/python3.9/dist-packages/rl/memory.py:38: DeprecationWarning: This function is deprecated. Please call randint(1, 28 + 1) instead\n",
            "  batch_idxs = np.random.random_integers(low, high - 1, size=size)\n",
            "/usr/local/lib/python3.9/dist-packages/rl/memory.py:38: DeprecationWarning: This function is deprecated. Please call randint(1, 29 + 1) instead\n",
            "  batch_idxs = np.random.random_integers(low, high - 1, size=size)\n",
            "/usr/local/lib/python3.9/dist-packages/rl/memory.py:38: DeprecationWarning: This function is deprecated. Please call randint(1, 30 + 1) instead\n",
            "  batch_idxs = np.random.random_integers(low, high - 1, size=size)\n",
            "/usr/local/lib/python3.9/dist-packages/rl/memory.py:38: DeprecationWarning: This function is deprecated. Please call randint(1, 31 + 1) instead\n",
            "  batch_idxs = np.random.random_integers(low, high - 1, size=size)\n"
          ]
        },
        {
          "output_type": "stream",
          "name": "stdout",
          "text": [
            "   37/10000: episode: 1, duration: 1.027s, episode steps:  37, steps per second:  36, episode reward: 37.000, mean reward:  1.000 [ 1.000,  1.000], mean action: 0.676 [0.000, 1.000],  loss: 0.657054, mae: 0.656707, mean_q: 0.242061, mean_eps: 0.997435\n",
            "   61/10000: episode: 2, duration: 0.234s, episode steps:  24, steps per second: 103, episode reward: 24.000, mean reward:  1.000 [ 1.000,  1.000], mean action: 0.458 [0.000, 1.000],  loss: 0.592835, mae: 0.659373, mean_q: 0.452474, mean_eps: 0.995635\n",
            "   98/10000: episode: 3, duration: 0.315s, episode steps:  37, steps per second: 118, episode reward: 37.000, mean reward:  1.000 [ 1.000,  1.000], mean action: 0.486 [0.000, 1.000],  loss: 0.449781, mae: 0.591318, mean_q: 0.519009, mean_eps: 0.992890\n",
            "  127/10000: episode: 4, duration: 0.232s, episode steps:  29, steps per second: 125, episode reward: 29.000, mean reward:  1.000 [ 1.000,  1.000], mean action: 0.483 [0.000, 1.000],  loss: 0.371907, mae: 0.622583, mean_q: 0.654143, mean_eps: 0.989920\n",
            "  157/10000: episode: 5, duration: 0.230s, episode steps:  30, steps per second: 130, episode reward: 30.000, mean reward:  1.000 [ 1.000,  1.000], mean action: 0.600 [0.000, 1.000],  loss: 0.319391, mae: 0.675189, mean_q: 0.817135, mean_eps: 0.987265\n",
            "  173/10000: episode: 6, duration: 0.109s, episode steps:  16, steps per second: 147, episode reward: 16.000, mean reward:  1.000 [ 1.000,  1.000], mean action: 0.438 [0.000, 1.000],  loss: 0.298468, mae: 0.751597, mean_q: 1.012656, mean_eps: 0.985195\n",
            "  204/10000: episode: 7, duration: 0.237s, episode steps:  31, steps per second: 131, episode reward: 31.000, mean reward:  1.000 [ 1.000,  1.000], mean action: 0.484 [0.000, 1.000],  loss: 0.257330, mae: 0.794384, mean_q: 1.156076, mean_eps: 0.983080\n",
            "  223/10000: episode: 8, duration: 0.136s, episode steps:  19, steps per second: 140, episode reward: 19.000, mean reward:  1.000 [ 1.000,  1.000], mean action: 0.579 [0.000, 1.000],  loss: 0.211918, mae: 0.869196, mean_q: 1.317602, mean_eps: 0.980830\n",
            "  241/10000: episode: 9, duration: 0.132s, episode steps:  18, steps per second: 137, episode reward: 18.000, mean reward:  1.000 [ 1.000,  1.000], mean action: 0.667 [0.000, 1.000],  loss: 0.210811, mae: 0.942496, mean_q: 1.465827, mean_eps: 0.979165\n",
            "  273/10000: episode: 10, duration: 0.227s, episode steps:  32, steps per second: 141, episode reward: 32.000, mean reward:  1.000 [ 1.000,  1.000], mean action: 0.656 [0.000, 1.000],  loss: 0.179790, mae: 1.018635, mean_q: 1.704994, mean_eps: 0.976915\n",
            "  299/10000: episode: 11, duration: 0.192s, episode steps:  26, steps per second: 136, episode reward: 26.000, mean reward:  1.000 [ 1.000,  1.000], mean action: 0.538 [0.000, 1.000],  loss: 0.193260, mae: 1.145157, mean_q: 1.980237, mean_eps: 0.974305\n",
            "  309/10000: episode: 12, duration: 0.070s, episode steps:  10, steps per second: 144, episode reward: 10.000, mean reward:  1.000 [ 1.000,  1.000], mean action: 0.300 [0.000, 1.000],  loss: 0.154180, mae: 1.194798, mean_q: 2.085965, mean_eps: 0.972685\n",
            "  329/10000: episode: 13, duration: 0.130s, episode steps:  20, steps per second: 154, episode reward: 20.000, mean reward:  1.000 [ 1.000,  1.000], mean action: 0.400 [0.000, 1.000],  loss: 0.211015, mae: 1.281918, mean_q: 2.275414, mean_eps: 0.971335\n",
            "  353/10000: episode: 14, duration: 0.165s, episode steps:  24, steps per second: 145, episode reward: 24.000, mean reward:  1.000 [ 1.000,  1.000], mean action: 0.542 [0.000, 1.000],  loss: 0.176740, mae: 1.351629, mean_q: 2.415598, mean_eps: 0.969355\n",
            "  377/10000: episode: 15, duration: 0.217s, episode steps:  24, steps per second: 111, episode reward: 24.000, mean reward:  1.000 [ 1.000,  1.000], mean action: 0.542 [0.000, 1.000],  loss: 0.181532, mae: 1.447470, mean_q: 2.622877, mean_eps: 0.967195\n",
            "  388/10000: episode: 16, duration: 0.115s, episode steps:  11, steps per second:  96, episode reward: 11.000, mean reward:  1.000 [ 1.000,  1.000], mean action: 0.545 [0.000, 1.000],  loss: 0.192532, mae: 1.525369, mean_q: 2.813273, mean_eps: 0.965620\n",
            "  399/10000: episode: 17, duration: 0.207s, episode steps:  11, steps per second:  53, episode reward: 11.000, mean reward:  1.000 [ 1.000,  1.000], mean action: 0.273 [0.000, 1.000],  loss: 0.184390, mae: 1.584318, mean_q: 2.964572, mean_eps: 0.964630\n",
            "  453/10000: episode: 18, duration: 1.508s, episode steps:  54, steps per second:  36, episode reward: 54.000, mean reward:  1.000 [ 1.000,  1.000], mean action: 0.500 [0.000, 1.000],  loss: 0.198003, mae: 1.705162, mean_q: 3.222985, mean_eps: 0.961705\n",
            "  464/10000: episode: 19, duration: 0.291s, episode steps:  11, steps per second:  38, episode reward: 11.000, mean reward:  1.000 [ 1.000,  1.000], mean action: 0.182 [0.000, 1.000],  loss: 0.222074, mae: 1.819749, mean_q: 3.453820, mean_eps: 0.958780\n",
            "  488/10000: episode: 20, duration: 0.859s, episode steps:  24, steps per second:  28, episode reward: 24.000, mean reward:  1.000 [ 1.000,  1.000], mean action: 0.417 [0.000, 1.000],  loss: 0.296372, mae: 1.947298, mean_q: 3.688720, mean_eps: 0.957205\n",
            "  528/10000: episode: 21, duration: 0.934s, episode steps:  40, steps per second:  43, episode reward: 40.000, mean reward:  1.000 [ 1.000,  1.000], mean action: 0.400 [0.000, 1.000],  loss: 0.278704, mae: 2.087272, mean_q: 3.983718, mean_eps: 0.954325\n",
            "  542/10000: episode: 22, duration: 0.221s, episode steps:  14, steps per second:  63, episode reward: 14.000, mean reward:  1.000 [ 1.000,  1.000], mean action: 0.571 [0.000, 1.000],  loss: 0.221859, mae: 2.216831, mean_q: 4.333735, mean_eps: 0.951895\n",
            "  565/10000: episode: 23, duration: 0.328s, episode steps:  23, steps per second:  70, episode reward: 23.000, mean reward:  1.000 [ 1.000,  1.000], mean action: 0.478 [0.000, 1.000],  loss: 0.256732, mae: 2.302363, mean_q: 4.503735, mean_eps: 0.950230\n",
            "  575/10000: episode: 24, duration: 0.181s, episode steps:  10, steps per second:  55, episode reward: 10.000, mean reward:  1.000 [ 1.000,  1.000], mean action: 0.800 [0.000, 1.000],  loss: 0.251258, mae: 2.412958, mean_q: 4.745848, mean_eps: 0.948745\n",
            "  598/10000: episode: 25, duration: 0.276s, episode steps:  23, steps per second:  83, episode reward: 23.000, mean reward:  1.000 [ 1.000,  1.000], mean action: 0.522 [0.000, 1.000],  loss: 0.407700, mae: 2.548647, mean_q: 4.943770, mean_eps: 0.947260\n",
            "  614/10000: episode: 26, duration: 0.228s, episode steps:  16, steps per second:  70, episode reward: 16.000, mean reward:  1.000 [ 1.000,  1.000], mean action: 0.438 [0.000, 1.000],  loss: 0.513238, mae: 2.641493, mean_q: 5.074296, mean_eps: 0.945505\n",
            "  626/10000: episode: 27, duration: 0.160s, episode steps:  12, steps per second:  75, episode reward: 12.000, mean reward:  1.000 [ 1.000,  1.000], mean action: 0.417 [0.000, 1.000],  loss: 0.705856, mae: 2.784917, mean_q: 5.262593, mean_eps: 0.944245\n",
            "  654/10000: episode: 28, duration: 0.506s, episode steps:  28, steps per second:  55, episode reward: 28.000, mean reward:  1.000 [ 1.000,  1.000], mean action: 0.464 [0.000, 1.000],  loss: 0.640676, mae: 2.846141, mean_q: 5.395127, mean_eps: 0.942445\n",
            "  698/10000: episode: 29, duration: 0.576s, episode steps:  44, steps per second:  76, episode reward: 44.000, mean reward:  1.000 [ 1.000,  1.000], mean action: 0.477 [0.000, 1.000],  loss: 0.643063, mae: 3.023370, mean_q: 5.827774, mean_eps: 0.939205\n",
            "  712/10000: episode: 30, duration: 0.168s, episode steps:  14, steps per second:  83, episode reward: 14.000, mean reward:  1.000 [ 1.000,  1.000], mean action: 0.714 [0.000, 1.000],  loss: 0.689665, mae: 3.160243, mean_q: 6.044417, mean_eps: 0.936595\n",
            "  723/10000: episode: 31, duration: 0.164s, episode steps:  11, steps per second:  67, episode reward: 11.000, mean reward:  1.000 [ 1.000,  1.000], mean action: 0.273 [0.000, 1.000],  loss: 0.930753, mae: 3.298393, mean_q: 6.290752, mean_eps: 0.935470\n",
            "  745/10000: episode: 32, duration: 0.246s, episode steps:  22, steps per second:  89, episode reward: 22.000, mean reward:  1.000 [ 1.000,  1.000], mean action: 0.364 [0.000, 1.000],  loss: 0.607500, mae: 3.226783, mean_q: 6.226134, mean_eps: 0.933985\n",
            "  770/10000: episode: 33, duration: 0.374s, episode steps:  25, steps per second:  67, episode reward: 25.000, mean reward:  1.000 [ 1.000,  1.000], mean action: 0.480 [0.000, 1.000],  loss: 0.583068, mae: 3.365455, mean_q: 6.616795, mean_eps: 0.931870\n",
            "  812/10000: episode: 34, duration: 0.826s, episode steps:  42, steps per second:  51, episode reward: 42.000, mean reward:  1.000 [ 1.000,  1.000], mean action: 0.476 [0.000, 1.000],  loss: 0.927163, mae: 3.601364, mean_q: 7.047204, mean_eps: 0.928855\n",
            "  822/10000: episode: 35, duration: 0.185s, episode steps:  10, steps per second:  54, episode reward: 10.000, mean reward:  1.000 [ 1.000,  1.000], mean action: 0.200 [0.000, 1.000],  loss: 0.488929, mae: 3.623859, mean_q: 7.164305, mean_eps: 0.926515\n",
            "  861/10000: episode: 36, duration: 0.594s, episode steps:  39, steps per second:  66, episode reward: 39.000, mean reward:  1.000 [ 1.000,  1.000], mean action: 0.436 [0.000, 1.000],  loss: 0.931611, mae: 3.911748, mean_q: 7.743780, mean_eps: 0.924310\n",
            "  893/10000: episode: 37, duration: 0.508s, episode steps:  32, steps per second:  63, episode reward: 32.000, mean reward:  1.000 [ 1.000,  1.000], mean action: 0.500 [0.000, 1.000],  loss: 1.196082, mae: 4.093555, mean_q: 8.031318, mean_eps: 0.921115\n",
            "  930/10000: episode: 38, duration: 0.694s, episode steps:  37, steps per second:  53, episode reward: 37.000, mean reward:  1.000 [ 1.000,  1.000], mean action: 0.486 [0.000, 1.000],  loss: 1.549167, mae: 4.286797, mean_q: 8.339491, mean_eps: 0.918010\n",
            "  961/10000: episode: 39, duration: 0.478s, episode steps:  31, steps per second:  65, episode reward: 31.000, mean reward:  1.000 [ 1.000,  1.000], mean action: 0.484 [0.000, 1.000],  loss: 1.108453, mae: 4.470855, mean_q: 8.718478, mean_eps: 0.914950\n",
            "  981/10000: episode: 40, duration: 0.265s, episode steps:  20, steps per second:  76, episode reward: 20.000, mean reward:  1.000 [ 1.000,  1.000], mean action: 0.400 [0.000, 1.000],  loss: 1.670378, mae: 4.648306, mean_q: 9.092888, mean_eps: 0.912655\n",
            "  998/10000: episode: 41, duration: 0.187s, episode steps:  17, steps per second:  91, episode reward: 17.000, mean reward:  1.000 [ 1.000,  1.000], mean action: 0.353 [0.000, 1.000],  loss: 1.873047, mae: 4.754202, mean_q: 9.120468, mean_eps: 0.910990\n",
            " 1019/10000: episode: 42, duration: 0.280s, episode steps:  21, steps per second:  75, episode reward: 21.000, mean reward:  1.000 [ 1.000,  1.000], mean action: 0.667 [0.000, 1.000],  loss: 0.846192, mae: 4.713805, mean_q: 9.310493, mean_eps: 0.909280\n",
            " 1036/10000: episode: 43, duration: 0.278s, episode steps:  17, steps per second:  61, episode reward: 17.000, mean reward:  1.000 [ 1.000,  1.000], mean action: 0.529 [0.000, 1.000],  loss: 2.162859, mae: 4.992244, mean_q: 9.709544, mean_eps: 0.907570\n",
            " 1053/10000: episode: 44, duration: 0.250s, episode steps:  17, steps per second:  68, episode reward: 17.000, mean reward:  1.000 [ 1.000,  1.000], mean action: 0.706 [0.000, 1.000],  loss: 1.540087, mae: 4.976576, mean_q: 9.605366, mean_eps: 0.906040\n",
            " 1066/10000: episode: 45, duration: 0.162s, episode steps:  13, steps per second:  80, episode reward: 13.000, mean reward:  1.000 [ 1.000,  1.000], mean action: 0.308 [0.000, 1.000],  loss: 2.055435, mae: 5.104141, mean_q: 9.858790, mean_eps: 0.904690\n",
            " 1110/10000: episode: 46, duration: 0.458s, episode steps:  44, steps per second:  96, episode reward: 44.000, mean reward:  1.000 [ 1.000,  1.000], mean action: 0.500 [0.000, 1.000],  loss: 2.068703, mae: 5.208419, mean_q: 10.049099, mean_eps: 0.902125\n",
            " 1134/10000: episode: 47, duration: 0.333s, episode steps:  24, steps per second:  72, episode reward: 24.000, mean reward:  1.000 [ 1.000,  1.000], mean action: 0.333 [0.000, 1.000],  loss: 1.695314, mae: 5.331563, mean_q: 10.358123, mean_eps: 0.899065\n",
            " 1146/10000: episode: 48, duration: 0.153s, episode steps:  12, steps per second:  79, episode reward: 12.000, mean reward:  1.000 [ 1.000,  1.000], mean action: 0.250 [0.000, 1.000],  loss: 2.318979, mae: 5.541557, mean_q: 10.742860, mean_eps: 0.897445\n",
            " 1161/10000: episode: 49, duration: 0.388s, episode steps:  15, steps per second:  39, episode reward: 15.000, mean reward:  1.000 [ 1.000,  1.000], mean action: 0.467 [0.000, 1.000],  loss: 1.961466, mae: 5.547022, mean_q: 10.718864, mean_eps: 0.896230\n",
            " 1176/10000: episode: 50, duration: 0.542s, episode steps:  15, steps per second:  28, episode reward: 15.000, mean reward:  1.000 [ 1.000,  1.000], mean action: 0.400 [0.000, 1.000],  loss: 1.966882, mae: 5.565006, mean_q: 10.765720, mean_eps: 0.894880\n",
            " 1188/10000: episode: 51, duration: 0.451s, episode steps:  12, steps per second:  27, episode reward: 12.000, mean reward:  1.000 [ 1.000,  1.000], mean action: 0.250 [0.000, 1.000],  loss: 2.337716, mae: 5.701114, mean_q: 11.092413, mean_eps: 0.893665\n",
            " 1203/10000: episode: 52, duration: 0.699s, episode steps:  15, steps per second:  21, episode reward: 15.000, mean reward:  1.000 [ 1.000,  1.000], mean action: 0.600 [0.000, 1.000],  loss: 2.253379, mae: 5.715869, mean_q: 11.194565, mean_eps: 0.892450\n",
            " 1264/10000: episode: 53, duration: 1.504s, episode steps:  61, steps per second:  41, episode reward: 61.000, mean reward:  1.000 [ 1.000,  1.000], mean action: 0.410 [0.000, 1.000],  loss: 2.307463, mae: 5.899971, mean_q: 11.340794, mean_eps: 0.889030\n",
            " 1281/10000: episode: 54, duration: 0.228s, episode steps:  17, steps per second:  75, episode reward: 17.000, mean reward:  1.000 [ 1.000,  1.000], mean action: 0.294 [0.000, 1.000],  loss: 1.948211, mae: 6.026511, mean_q: 11.734609, mean_eps: 0.885520\n",
            " 1295/10000: episode: 55, duration: 0.210s, episode steps:  14, steps per second:  67, episode reward: 14.000, mean reward:  1.000 [ 1.000,  1.000], mean action: 0.286 [0.000, 1.000],  loss: 2.029257, mae: 6.126420, mean_q: 11.935547, mean_eps: 0.884125\n",
            " 1311/10000: episode: 56, duration: 0.255s, episode steps:  16, steps per second:  63, episode reward: 16.000, mean reward:  1.000 [ 1.000,  1.000], mean action: 0.312 [0.000, 1.000],  loss: 2.760222, mae: 6.267467, mean_q: 12.097750, mean_eps: 0.882775\n",
            " 1343/10000: episode: 57, duration: 0.411s, episode steps:  32, steps per second:  78, episode reward: 32.000, mean reward:  1.000 [ 1.000,  1.000], mean action: 0.406 [0.000, 1.000],  loss: 3.094145, mae: 6.409452, mean_q: 12.190443, mean_eps: 0.880615\n",
            " 1355/10000: episode: 58, duration: 0.135s, episode steps:  12, steps per second:  89, episode reward: 12.000, mean reward:  1.000 [ 1.000,  1.000], mean action: 0.250 [0.000, 1.000],  loss: 2.099218, mae: 6.342498, mean_q: 12.324943, mean_eps: 0.878635\n",
            " 1369/10000: episode: 59, duration: 0.187s, episode steps:  14, steps per second:  75, episode reward: 14.000, mean reward:  1.000 [ 1.000,  1.000], mean action: 0.571 [0.000, 1.000],  loss: 2.657395, mae: 6.508866, mean_q: 12.518900, mean_eps: 0.877465\n",
            " 1384/10000: episode: 60, duration: 0.187s, episode steps:  15, steps per second:  80, episode reward: 15.000, mean reward:  1.000 [ 1.000,  1.000], mean action: 0.400 [0.000, 1.000],  loss: 2.642855, mae: 6.505772, mean_q: 12.581814, mean_eps: 0.876160\n",
            " 1400/10000: episode: 61, duration: 0.236s, episode steps:  16, steps per second:  68, episode reward: 16.000, mean reward:  1.000 [ 1.000,  1.000], mean action: 0.500 [0.000, 1.000],  loss: 3.841456, mae: 6.669038, mean_q: 12.544280, mean_eps: 0.874765\n",
            " 1428/10000: episode: 62, duration: 0.299s, episode steps:  28, steps per second:  94, episode reward: 28.000, mean reward:  1.000 [ 1.000,  1.000], mean action: 0.500 [0.000, 1.000],  loss: 3.038174, mae: 6.685201, mean_q: 12.622097, mean_eps: 0.872785\n",
            " 1438/10000: episode: 63, duration: 0.106s, episode steps:  10, steps per second:  94, episode reward: 10.000, mean reward:  1.000 [ 1.000,  1.000], mean action: 0.300 [0.000, 1.000],  loss: 3.764587, mae: 6.762422, mean_q: 12.866333, mean_eps: 0.871075\n",
            " 1466/10000: episode: 64, duration: 0.350s, episode steps:  28, steps per second:  80, episode reward: 28.000, mean reward:  1.000 [ 1.000,  1.000], mean action: 0.357 [0.000, 1.000],  loss: 2.708933, mae: 6.749330, mean_q: 12.946558, mean_eps: 0.869365\n",
            " 1485/10000: episode: 65, duration: 0.269s, episode steps:  19, steps per second:  71, episode reward: 19.000, mean reward:  1.000 [ 1.000,  1.000], mean action: 0.421 [0.000, 1.000],  loss: 2.728157, mae: 6.820074, mean_q: 13.144166, mean_eps: 0.867250\n",
            " 1501/10000: episode: 66, duration: 0.298s, episode steps:  16, steps per second:  54, episode reward: 16.000, mean reward:  1.000 [ 1.000,  1.000], mean action: 0.688 [0.000, 1.000],  loss: 3.267495, mae: 6.946811, mean_q: 13.180814, mean_eps: 0.865675\n",
            " 1515/10000: episode: 67, duration: 0.267s, episode steps:  14, steps per second:  53, episode reward: 14.000, mean reward:  1.000 [ 1.000,  1.000], mean action: 0.143 [0.000, 1.000],  loss: 2.898121, mae: 6.933484, mean_q: 13.114442, mean_eps: 0.864325\n",
            " 1530/10000: episode: 68, duration: 0.125s, episode steps:  15, steps per second: 120, episode reward: 15.000, mean reward:  1.000 [ 1.000,  1.000], mean action: 0.733 [0.000, 1.000],  loss: 3.026996, mae: 7.034908, mean_q: 13.298761, mean_eps: 0.863020\n",
            " 1544/10000: episode: 69, duration: 0.106s, episode steps:  14, steps per second: 132, episode reward: 14.000, mean reward:  1.000 [ 1.000,  1.000], mean action: 0.643 [0.000, 1.000],  loss: 2.877114, mae: 7.047937, mean_q: 13.266257, mean_eps: 0.861715\n",
            " 1565/10000: episode: 70, duration: 0.148s, episode steps:  21, steps per second: 141, episode reward: 21.000, mean reward:  1.000 [ 1.000,  1.000], mean action: 0.714 [0.000, 1.000],  loss: 2.765758, mae: 7.054199, mean_q: 13.404955, mean_eps: 0.860140\n",
            " 1592/10000: episode: 71, duration: 0.221s, episode steps:  27, steps per second: 122, episode reward: 27.000, mean reward:  1.000 [ 1.000,  1.000], mean action: 0.444 [0.000, 1.000],  loss: 2.615164, mae: 7.115293, mean_q: 13.590885, mean_eps: 0.857980\n",
            " 1601/10000: episode: 72, duration: 0.083s, episode steps:   9, steps per second: 108, episode reward:  9.000, mean reward:  1.000 [ 1.000,  1.000], mean action: 0.222 [0.000, 1.000],  loss: 3.343595, mae: 7.207678, mean_q: 13.626373, mean_eps: 0.856360\n",
            " 1613/10000: episode: 73, duration: 0.094s, episode steps:  12, steps per second: 127, episode reward: 12.000, mean reward:  1.000 [ 1.000,  1.000], mean action: 0.250 [0.000, 1.000],  loss: 2.475479, mae: 7.198993, mean_q: 13.687015, mean_eps: 0.855415\n",
            " 1633/10000: episode: 74, duration: 0.179s, episode steps:  20, steps per second: 111, episode reward: 20.000, mean reward:  1.000 [ 1.000,  1.000], mean action: 0.300 [0.000, 1.000],  loss: 3.651075, mae: 7.308425, mean_q: 13.801390, mean_eps: 0.853975\n",
            " 1652/10000: episode: 75, duration: 0.153s, episode steps:  19, steps per second: 124, episode reward: 19.000, mean reward:  1.000 [ 1.000,  1.000], mean action: 0.474 [0.000, 1.000],  loss: 2.496832, mae: 7.239839, mean_q: 13.770439, mean_eps: 0.852220\n",
            " 1667/10000: episode: 76, duration: 0.117s, episode steps:  15, steps per second: 128, episode reward: 15.000, mean reward:  1.000 [ 1.000,  1.000], mean action: 0.333 [0.000, 1.000],  loss: 3.844867, mae: 7.394794, mean_q: 13.824117, mean_eps: 0.850690\n",
            " 1697/10000: episode: 77, duration: 0.222s, episode steps:  30, steps per second: 135, episode reward: 30.000, mean reward:  1.000 [ 1.000,  1.000], mean action: 0.500 [0.000, 1.000],  loss: 3.886168, mae: 7.429594, mean_q: 13.747891, mean_eps: 0.848665\n",
            " 1730/10000: episode: 78, duration: 0.252s, episode steps:  33, steps per second: 131, episode reward: 33.000, mean reward:  1.000 [ 1.000,  1.000], mean action: 0.455 [0.000, 1.000],  loss: 3.481605, mae: 7.454946, mean_q: 13.865874, mean_eps: 0.845830\n",
            " 1765/10000: episode: 79, duration: 0.264s, episode steps:  35, steps per second: 133, episode reward: 35.000, mean reward:  1.000 [ 1.000,  1.000], mean action: 0.457 [0.000, 1.000],  loss: 3.055157, mae: 7.483138, mean_q: 14.103896, mean_eps: 0.842770\n",
            " 1821/10000: episode: 80, duration: 0.440s, episode steps:  56, steps per second: 127, episode reward: 56.000, mean reward:  1.000 [ 1.000,  1.000], mean action: 0.482 [0.000, 1.000],  loss: 3.764479, mae: 7.572412, mean_q: 14.047824, mean_eps: 0.838675\n",
            " 1876/10000: episode: 81, duration: 0.446s, episode steps:  55, steps per second: 123, episode reward: 55.000, mean reward:  1.000 [ 1.000,  1.000], mean action: 0.509 [0.000, 1.000],  loss: 3.210715, mae: 7.620137, mean_q: 14.329160, mean_eps: 0.833680\n",
            " 1897/10000: episode: 82, duration: 0.149s, episode steps:  21, steps per second: 141, episode reward: 21.000, mean reward:  1.000 [ 1.000,  1.000], mean action: 0.571 [0.000, 1.000],  loss: 3.373763, mae: 7.715795, mean_q: 14.512282, mean_eps: 0.830260\n",
            " 1916/10000: episode: 83, duration: 0.153s, episode steps:  19, steps per second: 124, episode reward: 19.000, mean reward:  1.000 [ 1.000,  1.000], mean action: 0.526 [0.000, 1.000],  loss: 3.865839, mae: 7.724232, mean_q: 14.417792, mean_eps: 0.828460\n",
            " 1958/10000: episode: 84, duration: 0.279s, episode steps:  42, steps per second: 151, episode reward: 42.000, mean reward:  1.000 [ 1.000,  1.000], mean action: 0.452 [0.000, 1.000],  loss: 3.568584, mae: 7.774122, mean_q: 14.562600, mean_eps: 0.825715\n",
            " 1970/10000: episode: 85, duration: 0.077s, episode steps:  12, steps per second: 156, episode reward: 12.000, mean reward:  1.000 [ 1.000,  1.000], mean action: 0.333 [0.000, 1.000],  loss: 3.510088, mae: 7.767888, mean_q: 14.595817, mean_eps: 0.823285\n",
            " 2014/10000: episode: 86, duration: 0.293s, episode steps:  44, steps per second: 150, episode reward: 44.000, mean reward:  1.000 [ 1.000,  1.000], mean action: 0.523 [0.000, 1.000],  loss: 3.272095, mae: 7.807354, mean_q: 14.715610, mean_eps: 0.820765\n",
            " 2083/10000: episode: 87, duration: 0.431s, episode steps:  69, steps per second: 160, episode reward: 69.000, mean reward:  1.000 [ 1.000,  1.000], mean action: 0.507 [0.000, 1.000],  loss: 3.245747, mae: 7.919131, mean_q: 14.957597, mean_eps: 0.815680\n",
            " 2100/10000: episode: 88, duration: 0.118s, episode steps:  17, steps per second: 144, episode reward: 17.000, mean reward:  1.000 [ 1.000,  1.000], mean action: 0.529 [0.000, 1.000],  loss: 3.057809, mae: 7.994518, mean_q: 15.262387, mean_eps: 0.811810\n",
            " 2113/10000: episode: 89, duration: 0.092s, episode steps:  13, steps per second: 142, episode reward: 13.000, mean reward:  1.000 [ 1.000,  1.000], mean action: 0.462 [0.000, 1.000],  loss: 3.157801, mae: 8.068948, mean_q: 15.398480, mean_eps: 0.810460\n",
            " 2129/10000: episode: 90, duration: 0.104s, episode steps:  16, steps per second: 154, episode reward: 16.000, mean reward:  1.000 [ 1.000,  1.000], mean action: 0.438 [0.000, 1.000],  loss: 3.042697, mae: 8.019205, mean_q: 15.330290, mean_eps: 0.809155\n",
            " 2148/10000: episode: 91, duration: 0.137s, episode steps:  19, steps per second: 138, episode reward: 19.000, mean reward:  1.000 [ 1.000,  1.000], mean action: 0.421 [0.000, 1.000],  loss: 2.616997, mae: 8.069024, mean_q: 15.477581, mean_eps: 0.807580\n",
            " 2174/10000: episode: 92, duration: 0.164s, episode steps:  26, steps per second: 158, episode reward: 26.000, mean reward:  1.000 [ 1.000,  1.000], mean action: 0.500 [0.000, 1.000],  loss: 3.774167, mae: 8.207334, mean_q: 15.587629, mean_eps: 0.805555\n",
            " 2200/10000: episode: 93, duration: 0.171s, episode steps:  26, steps per second: 152, episode reward: 26.000, mean reward:  1.000 [ 1.000,  1.000], mean action: 0.500 [0.000, 1.000],  loss: 3.547305, mae: 8.229078, mean_q: 15.679577, mean_eps: 0.803215\n",
            " 2219/10000: episode: 94, duration: 0.124s, episode steps:  19, steps per second: 153, episode reward: 19.000, mean reward:  1.000 [ 1.000,  1.000], mean action: 0.632 [0.000, 1.000],  loss: 4.329961, mae: 8.307121, mean_q: 15.666490, mean_eps: 0.801190\n",
            " 2289/10000: episode: 95, duration: 0.428s, episode steps:  70, steps per second: 164, episode reward: 70.000, mean reward:  1.000 [ 1.000,  1.000], mean action: 0.471 [0.000, 1.000],  loss: 3.219767, mae: 8.324750, mean_q: 15.852067, mean_eps: 0.797185\n",
            " 2299/10000: episode: 96, duration: 0.072s, episode steps:  10, steps per second: 140, episode reward: 10.000, mean reward:  1.000 [ 1.000,  1.000], mean action: 0.400 [0.000, 1.000],  loss: 3.404978, mae: 8.397185, mean_q: 15.958216, mean_eps: 0.793585\n",
            " 2329/10000: episode: 97, duration: 0.205s, episode steps:  30, steps per second: 147, episode reward: 30.000, mean reward:  1.000 [ 1.000,  1.000], mean action: 0.433 [0.000, 1.000],  loss: 4.022142, mae: 8.466514, mean_q: 15.970230, mean_eps: 0.791785\n",
            " 2387/10000: episode: 98, duration: 0.408s, episode steps:  58, steps per second: 142, episode reward: 58.000, mean reward:  1.000 [ 1.000,  1.000], mean action: 0.534 [0.000, 1.000],  loss: 3.606836, mae: 8.524668, mean_q: 16.271144, mean_eps: 0.787825\n",
            " 2421/10000: episode: 99, duration: 0.337s, episode steps:  34, steps per second: 101, episode reward: 34.000, mean reward:  1.000 [ 1.000,  1.000], mean action: 0.529 [0.000, 1.000],  loss: 4.222366, mae: 8.657952, mean_q: 16.380957, mean_eps: 0.783685\n",
            " 2462/10000: episode: 100, duration: 0.377s, episode steps:  41, steps per second: 109, episode reward: 41.000, mean reward:  1.000 [ 1.000,  1.000], mean action: 0.512 [0.000, 1.000],  loss: 3.904503, mae: 8.731763, mean_q: 16.610414, mean_eps: 0.780310\n",
            " 2486/10000: episode: 101, duration: 0.234s, episode steps:  24, steps per second: 102, episode reward: 24.000, mean reward:  1.000 [ 1.000,  1.000], mean action: 0.625 [0.000, 1.000],  loss: 4.261286, mae: 8.793331, mean_q: 16.777251, mean_eps: 0.777385\n",
            " 2521/10000: episode: 102, duration: 0.385s, episode steps:  35, steps per second:  91, episode reward: 35.000, mean reward:  1.000 [ 1.000,  1.000], mean action: 0.486 [0.000, 1.000],  loss: 3.923964, mae: 8.861458, mean_q: 16.902188, mean_eps: 0.774730\n",
            " 2542/10000: episode: 103, duration: 0.225s, episode steps:  21, steps per second:  93, episode reward: 21.000, mean reward:  1.000 [ 1.000,  1.000], mean action: 0.619 [0.000, 1.000],  loss: 5.015467, mae: 8.954413, mean_q: 17.062792, mean_eps: 0.772210\n",
            " 2573/10000: episode: 104, duration: 0.322s, episode steps:  31, steps per second:  96, episode reward: 31.000, mean reward:  1.000 [ 1.000,  1.000], mean action: 0.452 [0.000, 1.000],  loss: 3.734321, mae: 8.942798, mean_q: 17.140995, mean_eps: 0.769870\n",
            " 2609/10000: episode: 105, duration: 0.392s, episode steps:  36, steps per second:  92, episode reward: 36.000, mean reward:  1.000 [ 1.000,  1.000], mean action: 0.528 [0.000, 1.000],  loss: 3.669749, mae: 9.004479, mean_q: 17.282731, mean_eps: 0.766855\n",
            " 2651/10000: episode: 106, duration: 0.350s, episode steps:  42, steps per second: 120, episode reward: 42.000, mean reward:  1.000 [ 1.000,  1.000], mean action: 0.500 [0.000, 1.000],  loss: 3.901699, mae: 9.082454, mean_q: 17.330927, mean_eps: 0.763345\n",
            " 2672/10000: episode: 107, duration: 0.134s, episode steps:  21, steps per second: 156, episode reward: 21.000, mean reward:  1.000 [ 1.000,  1.000], mean action: 0.524 [0.000, 1.000],  loss: 3.168138, mae: 9.150888, mean_q: 17.779839, mean_eps: 0.760510\n",
            " 2695/10000: episode: 108, duration: 0.154s, episode steps:  23, steps per second: 150, episode reward: 23.000, mean reward:  1.000 [ 1.000,  1.000], mean action: 0.522 [0.000, 1.000],  loss: 5.606254, mae: 9.302898, mean_q: 17.720433, mean_eps: 0.758530\n",
            " 2734/10000: episode: 109, duration: 0.280s, episode steps:  39, steps per second: 139, episode reward: 39.000, mean reward:  1.000 [ 1.000,  1.000], mean action: 0.538 [0.000, 1.000],  loss: 5.971469, mae: 9.367104, mean_q: 17.662855, mean_eps: 0.755740\n",
            " 2773/10000: episode: 110, duration: 0.286s, episode steps:  39, steps per second: 136, episode reward: 39.000, mean reward:  1.000 [ 1.000,  1.000], mean action: 0.564 [0.000, 1.000],  loss: 3.892980, mae: 9.374856, mean_q: 17.996407, mean_eps: 0.752230\n",
            " 2799/10000: episode: 111, duration: 0.196s, episode steps:  26, steps per second: 133, episode reward: 26.000, mean reward:  1.000 [ 1.000,  1.000], mean action: 0.615 [0.000, 1.000],  loss: 5.264114, mae: 9.492510, mean_q: 18.041544, mean_eps: 0.749305\n",
            " 2815/10000: episode: 112, duration: 0.128s, episode steps:  16, steps per second: 125, episode reward: 16.000, mean reward:  1.000 [ 1.000,  1.000], mean action: 0.562 [0.000, 1.000],  loss: 5.853594, mae: 9.515509, mean_q: 17.962451, mean_eps: 0.747415\n",
            " 2829/10000: episode: 113, duration: 0.102s, episode steps:  14, steps per second: 137, episode reward: 14.000, mean reward:  1.000 [ 1.000,  1.000], mean action: 0.571 [0.000, 1.000],  loss: 3.743324, mae: 9.468790, mean_q: 18.091725, mean_eps: 0.746065\n",
            " 2874/10000: episode: 114, duration: 0.348s, episode steps:  45, steps per second: 129, episode reward: 45.000, mean reward:  1.000 [ 1.000,  1.000], mean action: 0.489 [0.000, 1.000],  loss: 4.679324, mae: 9.544131, mean_q: 18.255751, mean_eps: 0.743410\n",
            " 2892/10000: episode: 115, duration: 0.131s, episode steps:  18, steps per second: 137, episode reward: 18.000, mean reward:  1.000 [ 1.000,  1.000], mean action: 0.611 [0.000, 1.000],  loss: 3.591392, mae: 9.519790, mean_q: 18.381018, mean_eps: 0.740575\n",
            " 2911/10000: episode: 116, duration: 0.157s, episode steps:  19, steps per second: 121, episode reward: 19.000, mean reward:  1.000 [ 1.000,  1.000], mean action: 0.632 [0.000, 1.000],  loss: 3.408083, mae: 9.593276, mean_q: 18.556538, mean_eps: 0.738910\n",
            " 2946/10000: episode: 117, duration: 0.250s, episode steps:  35, steps per second: 140, episode reward: 35.000, mean reward:  1.000 [ 1.000,  1.000], mean action: 0.543 [0.000, 1.000],  loss: 4.320433, mae: 9.695637, mean_q: 18.597306, mean_eps: 0.736480\n",
            " 2981/10000: episode: 118, duration: 0.251s, episode steps:  35, steps per second: 139, episode reward: 35.000, mean reward:  1.000 [ 1.000,  1.000], mean action: 0.486 [0.000, 1.000],  loss: 4.746869, mae: 9.845731, mean_q: 18.864991, mean_eps: 0.733330\n",
            " 3042/10000: episode: 119, duration: 0.489s, episode steps:  61, steps per second: 125, episode reward: 61.000, mean reward:  1.000 [ 1.000,  1.000], mean action: 0.492 [0.000, 1.000],  loss: 5.523468, mae: 9.925989, mean_q: 18.894323, mean_eps: 0.729010\n",
            " 3073/10000: episode: 120, duration: 0.241s, episode steps:  31, steps per second: 128, episode reward: 31.000, mean reward:  1.000 [ 1.000,  1.000], mean action: 0.516 [0.000, 1.000],  loss: 4.888758, mae: 9.979206, mean_q: 19.104483, mean_eps: 0.724870\n",
            " 3096/10000: episode: 121, duration: 0.184s, episode steps:  23, steps per second: 125, episode reward: 23.000, mean reward:  1.000 [ 1.000,  1.000], mean action: 0.478 [0.000, 1.000],  loss: 3.090303, mae: 9.928366, mean_q: 19.311857, mean_eps: 0.722440\n",
            " 3124/10000: episode: 122, duration: 0.273s, episode steps:  28, steps per second: 103, episode reward: 28.000, mean reward:  1.000 [ 1.000,  1.000], mean action: 0.607 [0.000, 1.000],  loss: 4.926877, mae: 10.043114, mean_q: 19.394331, mean_eps: 0.720145\n",
            " 3167/10000: episode: 123, duration: 0.427s, episode steps:  43, steps per second: 101, episode reward: 43.000, mean reward:  1.000 [ 1.000,  1.000], mean action: 0.512 [0.000, 1.000],  loss: 4.667840, mae: 10.149155, mean_q: 19.520619, mean_eps: 0.716950\n",
            " 3202/10000: episode: 124, duration: 0.287s, episode steps:  35, steps per second: 122, episode reward: 35.000, mean reward:  1.000 [ 1.000,  1.000], mean action: 0.486 [0.000, 1.000],  loss: 5.923279, mae: 10.303963, mean_q: 19.722786, mean_eps: 0.713440\n",
            " 3226/10000: episode: 125, duration: 0.212s, episode steps:  24, steps per second: 113, episode reward: 24.000, mean reward:  1.000 [ 1.000,  1.000], mean action: 0.500 [0.000, 1.000],  loss: 4.902451, mae: 10.317045, mean_q: 19.809057, mean_eps: 0.710785\n",
            " 3235/10000: episode: 126, duration: 0.087s, episode steps:   9, steps per second: 104, episode reward:  9.000, mean reward:  1.000 [ 1.000,  1.000], mean action: 0.333 [0.000, 1.000],  loss: 8.657459, mae: 10.495184, mean_q: 19.781162, mean_eps: 0.709300\n",
            " 3259/10000: episode: 127, duration: 0.199s, episode steps:  24, steps per second: 120, episode reward: 24.000, mean reward:  1.000 [ 1.000,  1.000], mean action: 0.500 [0.000, 1.000],  loss: 5.572349, mae: 10.309486, mean_q: 19.682364, mean_eps: 0.707815\n",
            " 3278/10000: episode: 128, duration: 0.171s, episode steps:  19, steps per second: 111, episode reward: 19.000, mean reward:  1.000 [ 1.000,  1.000], mean action: 0.421 [0.000, 1.000],  loss: 6.089653, mae: 10.437191, mean_q: 19.831578, mean_eps: 0.705880\n",
            " 3290/10000: episode: 129, duration: 0.117s, episode steps:  12, steps per second: 102, episode reward: 12.000, mean reward:  1.000 [ 1.000,  1.000], mean action: 0.750 [0.000, 1.000],  loss: 7.241708, mae: 10.495803, mean_q: 19.824776, mean_eps: 0.704485\n",
            " 3325/10000: episode: 130, duration: 0.259s, episode steps:  35, steps per second: 135, episode reward: 35.000, mean reward:  1.000 [ 1.000,  1.000], mean action: 0.486 [0.000, 1.000],  loss: 5.348612, mae: 10.398221, mean_q: 19.913163, mean_eps: 0.702370\n",
            " 3400/10000: episode: 131, duration: 0.561s, episode steps:  75, steps per second: 134, episode reward: 75.000, mean reward:  1.000 [ 1.000,  1.000], mean action: 0.453 [0.000, 1.000],  loss: 5.132200, mae: 10.539418, mean_q: 20.239868, mean_eps: 0.697420\n",
            " 3417/10000: episode: 132, duration: 0.124s, episode steps:  17, steps per second: 137, episode reward: 17.000, mean reward:  1.000 [ 1.000,  1.000], mean action: 0.471 [0.000, 1.000],  loss: 6.021502, mae: 10.638884, mean_q: 20.394193, mean_eps: 0.693280\n",
            " 3451/10000: episode: 133, duration: 0.246s, episode steps:  34, steps per second: 138, episode reward: 34.000, mean reward:  1.000 [ 1.000,  1.000], mean action: 0.529 [0.000, 1.000],  loss: 4.529989, mae: 10.587469, mean_q: 20.481699, mean_eps: 0.690985\n",
            " 3481/10000: episode: 134, duration: 0.232s, episode steps:  30, steps per second: 129, episode reward: 30.000, mean reward:  1.000 [ 1.000,  1.000], mean action: 0.567 [0.000, 1.000],  loss: 6.947624, mae: 10.787699, mean_q: 20.506544, mean_eps: 0.688105\n",
            " 3495/10000: episode: 135, duration: 0.103s, episode steps:  14, steps per second: 137, episode reward: 14.000, mean reward:  1.000 [ 1.000,  1.000], mean action: 0.571 [0.000, 1.000],  loss: 8.015302, mae: 10.814423, mean_q: 20.337146, mean_eps: 0.686125\n",
            " 3541/10000: episode: 136, duration: 0.326s, episode steps:  46, steps per second: 141, episode reward: 46.000, mean reward:  1.000 [ 1.000,  1.000], mean action: 0.478 [0.000, 1.000],  loss: 5.619018, mae: 10.720696, mean_q: 20.495669, mean_eps: 0.683425\n",
            " 3566/10000: episode: 137, duration: 0.189s, episode steps:  25, steps per second: 132, episode reward: 25.000, mean reward:  1.000 [ 1.000,  1.000], mean action: 0.360 [0.000, 1.000],  loss: 7.014184, mae: 10.921998, mean_q: 20.771959, mean_eps: 0.680230\n",
            " 3585/10000: episode: 138, duration: 0.139s, episode steps:  19, steps per second: 136, episode reward: 19.000, mean reward:  1.000 [ 1.000,  1.000], mean action: 0.421 [0.000, 1.000],  loss: 5.769552, mae: 10.871688, mean_q: 20.836788, mean_eps: 0.678250\n",
            " 3613/10000: episode: 139, duration: 0.190s, episode steps:  28, steps per second: 147, episode reward: 28.000, mean reward:  1.000 [ 1.000,  1.000], mean action: 0.500 [0.000, 1.000],  loss: 5.422918, mae: 10.842583, mean_q: 20.909439, mean_eps: 0.676135\n",
            " 3685/10000: episode: 140, duration: 0.517s, episode steps:  72, steps per second: 139, episode reward: 72.000, mean reward:  1.000 [ 1.000,  1.000], mean action: 0.486 [0.000, 1.000],  loss: 6.228073, mae: 11.041336, mean_q: 21.145226, mean_eps: 0.671635\n",
            " 3698/10000: episode: 141, duration: 0.101s, episode steps:  13, steps per second: 129, episode reward: 13.000, mean reward:  1.000 [ 1.000,  1.000], mean action: 0.692 [0.000, 1.000],  loss: 4.368510, mae: 10.970787, mean_q: 21.166678, mean_eps: 0.667810\n",
            " 3740/10000: episode: 142, duration: 0.286s, episode steps:  42, steps per second: 147, episode reward: 42.000, mean reward:  1.000 [ 1.000,  1.000], mean action: 0.500 [0.000, 1.000],  loss: 6.012782, mae: 11.081101, mean_q: 21.267863, mean_eps: 0.665335\n",
            " 3783/10000: episode: 143, duration: 0.308s, episode steps:  43, steps per second: 139, episode reward: 43.000, mean reward:  1.000 [ 1.000,  1.000], mean action: 0.488 [0.000, 1.000],  loss: 5.712953, mae: 11.126355, mean_q: 21.328673, mean_eps: 0.661510\n",
            " 3795/10000: episode: 144, duration: 0.092s, episode steps:  12, steps per second: 130, episode reward: 12.000, mean reward:  1.000 [ 1.000,  1.000], mean action: 0.333 [0.000, 1.000],  loss: 4.556312, mae: 11.066467, mean_q: 21.440218, mean_eps: 0.659035\n",
            " 3876/10000: episode: 145, duration: 0.565s, episode steps:  81, steps per second: 143, episode reward: 81.000, mean reward:  1.000 [ 1.000,  1.000], mean action: 0.469 [0.000, 1.000],  loss: 5.852654, mae: 11.226975, mean_q: 21.587298, mean_eps: 0.654850\n",
            " 3968/10000: episode: 146, duration: 0.704s, episode steps:  92, steps per second: 131, episode reward: 92.000, mean reward:  1.000 [ 1.000,  1.000], mean action: 0.543 [0.000, 1.000],  loss: 5.855085, mae: 11.350792, mean_q: 21.865306, mean_eps: 0.647065\n",
            " 3986/10000: episode: 147, duration: 0.186s, episode steps:  18, steps per second:  97, episode reward: 18.000, mean reward:  1.000 [ 1.000,  1.000], mean action: 0.500 [0.000, 1.000],  loss: 6.140026, mae: 11.535304, mean_q: 22.155681, mean_eps: 0.642115\n",
            " 4012/10000: episode: 148, duration: 0.265s, episode steps:  26, steps per second:  98, episode reward: 26.000, mean reward:  1.000 [ 1.000,  1.000], mean action: 0.462 [0.000, 1.000],  loss: 6.703723, mae: 11.526960, mean_q: 22.114660, mean_eps: 0.640135\n",
            " 4029/10000: episode: 149, duration: 0.166s, episode steps:  17, steps per second: 102, episode reward: 17.000, mean reward:  1.000 [ 1.000,  1.000], mean action: 0.529 [0.000, 1.000],  loss: 5.755875, mae: 11.493966, mean_q: 22.111980, mean_eps: 0.638200\n",
            " 4085/10000: episode: 150, duration: 0.619s, episode steps:  56, steps per second:  90, episode reward: 56.000, mean reward:  1.000 [ 1.000,  1.000], mean action: 0.482 [0.000, 1.000],  loss: 6.560609, mae: 11.647206, mean_q: 22.392469, mean_eps: 0.634915\n",
            " 4094/10000: episode: 151, duration: 0.111s, episode steps:   9, steps per second:  81, episode reward:  9.000, mean reward:  1.000 [ 1.000,  1.000], mean action: 0.778 [0.000, 1.000],  loss: 5.927997, mae: 11.605413, mean_q: 22.302330, mean_eps: 0.631990\n",
            " 4118/10000: episode: 152, duration: 0.267s, episode steps:  24, steps per second:  90, episode reward: 24.000, mean reward:  1.000 [ 1.000,  1.000], mean action: 0.500 [0.000, 1.000],  loss: 5.804735, mae: 11.565305, mean_q: 22.330835, mean_eps: 0.630505\n",
            " 4189/10000: episode: 153, duration: 0.681s, episode steps:  71, steps per second: 104, episode reward: 71.000, mean reward:  1.000 [ 1.000,  1.000], mean action: 0.507 [0.000, 1.000],  loss: 7.036187, mae: 11.777247, mean_q: 22.547537, mean_eps: 0.626230\n",
            " 4229/10000: episode: 154, duration: 0.276s, episode steps:  40, steps per second: 145, episode reward: 40.000, mean reward:  1.000 [ 1.000,  1.000], mean action: 0.500 [0.000, 1.000],  loss: 5.289893, mae: 11.799386, mean_q: 22.900192, mean_eps: 0.621235\n",
            " 4249/10000: episode: 155, duration: 0.145s, episode steps:  20, steps per second: 138, episode reward: 20.000, mean reward:  1.000 [ 1.000,  1.000], mean action: 0.650 [0.000, 1.000],  loss: 6.251036, mae: 12.014401, mean_q: 23.176437, mean_eps: 0.618535\n",
            " 4307/10000: episode: 156, duration: 0.372s, episode steps:  58, steps per second: 156, episode reward: 58.000, mean reward:  1.000 [ 1.000,  1.000], mean action: 0.500 [0.000, 1.000],  loss: 5.435352, mae: 11.893011, mean_q: 23.101413, mean_eps: 0.615025\n",
            " 4321/10000: episode: 157, duration: 0.093s, episode steps:  14, steps per second: 150, episode reward: 14.000, mean reward:  1.000 [ 1.000,  1.000], mean action: 0.500 [0.000, 1.000],  loss: 7.239339, mae: 12.029171, mean_q: 23.223868, mean_eps: 0.611785\n",
            " 4369/10000: episode: 158, duration: 0.317s, episode steps:  48, steps per second: 152, episode reward: 48.000, mean reward:  1.000 [ 1.000,  1.000], mean action: 0.458 [0.000, 1.000],  loss: 8.219638, mae: 12.130754, mean_q: 23.175620, mean_eps: 0.608995\n",
            " 4458/10000: episode: 159, duration: 0.645s, episode steps:  89, steps per second: 138, episode reward: 89.000, mean reward:  1.000 [ 1.000,  1.000], mean action: 0.449 [0.000, 1.000],  loss: 7.654661, mae: 12.122421, mean_q: 23.175779, mean_eps: 0.602830\n",
            " 4491/10000: episode: 160, duration: 0.273s, episode steps:  33, steps per second: 121, episode reward: 33.000, mean reward:  1.000 [ 1.000,  1.000], mean action: 0.485 [0.000, 1.000],  loss: 5.782988, mae: 12.101175, mean_q: 23.514604, mean_eps: 0.597340\n",
            " 4510/10000: episode: 161, duration: 0.153s, episode steps:  19, steps per second: 124, episode reward: 19.000, mean reward:  1.000 [ 1.000,  1.000], mean action: 0.474 [0.000, 1.000],  loss: 5.078256, mae: 12.163865, mean_q: 23.622026, mean_eps: 0.595000\n",
            " 4562/10000: episode: 162, duration: 0.400s, episode steps:  52, steps per second: 130, episode reward: 52.000, mean reward:  1.000 [ 1.000,  1.000], mean action: 0.519 [0.000, 1.000],  loss: 5.071205, mae: 12.267649, mean_q: 23.934819, mean_eps: 0.591805\n",
            " 4618/10000: episode: 163, duration: 0.409s, episode steps:  56, steps per second: 137, episode reward: 56.000, mean reward:  1.000 [ 1.000,  1.000], mean action: 0.464 [0.000, 1.000],  loss: 7.331006, mae: 12.457547, mean_q: 23.993552, mean_eps: 0.586945\n",
            " 4712/10000: episode: 164, duration: 0.735s, episode steps:  94, steps per second: 128, episode reward: 94.000, mean reward:  1.000 [ 1.000,  1.000], mean action: 0.500 [0.000, 1.000],  loss: 5.741033, mae: 12.511712, mean_q: 24.306454, mean_eps: 0.580195\n",
            " 4752/10000: episode: 165, duration: 0.288s, episode steps:  40, steps per second: 139, episode reward: 40.000, mean reward:  1.000 [ 1.000,  1.000], mean action: 0.450 [0.000, 1.000],  loss: 7.524275, mae: 12.716642, mean_q: 24.490843, mean_eps: 0.574165\n",
            " 4794/10000: episode: 166, duration: 0.345s, episode steps:  42, steps per second: 122, episode reward: 42.000, mean reward:  1.000 [ 1.000,  1.000], mean action: 0.524 [0.000, 1.000],  loss: 8.849215, mae: 12.756175, mean_q: 24.411486, mean_eps: 0.570475\n",
            " 4841/10000: episode: 167, duration: 0.377s, episode steps:  47, steps per second: 125, episode reward: 47.000, mean reward:  1.000 [ 1.000,  1.000], mean action: 0.489 [0.000, 1.000],  loss: 8.452210, mae: 12.813083, mean_q: 24.427678, mean_eps: 0.566470\n",
            " 4891/10000: episode: 168, duration: 0.376s, episode steps:  50, steps per second: 133, episode reward: 50.000, mean reward:  1.000 [ 1.000,  1.000], mean action: 0.500 [0.000, 1.000],  loss: 5.951718, mae: 12.764039, mean_q: 24.639076, mean_eps: 0.562105\n",
            " 4930/10000: episode: 169, duration: 0.321s, episode steps:  39, steps per second: 122, episode reward: 39.000, mean reward:  1.000 [ 1.000,  1.000], mean action: 0.436 [0.000, 1.000],  loss: 6.855893, mae: 12.911800, mean_q: 24.970447, mean_eps: 0.558100\n",
            " 4945/10000: episode: 170, duration: 0.115s, episode steps:  15, steps per second: 130, episode reward: 15.000, mean reward:  1.000 [ 1.000,  1.000], mean action: 0.600 [0.000, 1.000],  loss: 3.262987, mae: 12.732648, mean_q: 25.051535, mean_eps: 0.555670\n",
            " 5002/10000: episode: 171, duration: 0.417s, episode steps:  57, steps per second: 137, episode reward: 57.000, mean reward:  1.000 [ 1.000,  1.000], mean action: 0.526 [0.000, 1.000],  loss: 7.325741, mae: 12.989258, mean_q: 25.156899, mean_eps: 0.552430\n",
            " 5101/10000: episode: 172, duration: 0.687s, episode steps:  99, steps per second: 144, episode reward: 99.000, mean reward:  1.000 [ 1.000,  1.000], mean action: 0.535 [0.000, 1.000],  loss: 6.473036, mae: 13.041142, mean_q: 25.348112, mean_eps: 0.545410\n",
            " 5154/10000: episode: 173, duration: 0.376s, episode steps:  53, steps per second: 141, episode reward: 53.000, mean reward:  1.000 [ 1.000,  1.000], mean action: 0.472 [0.000, 1.000],  loss: 7.889918, mae: 13.230181, mean_q: 25.574901, mean_eps: 0.538570\n",
            " 5193/10000: episode: 174, duration: 0.296s, episode steps:  39, steps per second: 132, episode reward: 39.000, mean reward:  1.000 [ 1.000,  1.000], mean action: 0.513 [0.000, 1.000],  loss: 6.822200, mae: 13.266892, mean_q: 25.781337, mean_eps: 0.534430\n",
            " 5242/10000: episode: 175, duration: 0.336s, episode steps:  49, steps per second: 146, episode reward: 49.000, mean reward:  1.000 [ 1.000,  1.000], mean action: 0.490 [0.000, 1.000],  loss: 8.940795, mae: 13.301972, mean_q: 25.623789, mean_eps: 0.530470\n",
            " 5278/10000: episode: 176, duration: 0.243s, episode steps:  36, steps per second: 148, episode reward: 36.000, mean reward:  1.000 [ 1.000,  1.000], mean action: 0.528 [0.000, 1.000],  loss: 10.111828, mae: 13.437343, mean_q: 25.709744, mean_eps: 0.526645\n",
            " 5336/10000: episode: 177, duration: 0.383s, episode steps:  58, steps per second: 151, episode reward: 58.000, mean reward:  1.000 [ 1.000,  1.000], mean action: 0.466 [0.000, 1.000],  loss: 8.735185, mae: 13.351492, mean_q: 25.768731, mean_eps: 0.522415\n",
            " 5381/10000: episode: 178, duration: 0.323s, episode steps:  45, steps per second: 139, episode reward: 45.000, mean reward:  1.000 [ 1.000,  1.000], mean action: 0.467 [0.000, 1.000],  loss: 5.530997, mae: 13.366970, mean_q: 26.011280, mean_eps: 0.517780\n",
            " 5441/10000: episode: 179, duration: 0.425s, episode steps:  60, steps per second: 141, episode reward: 60.000, mean reward:  1.000 [ 1.000,  1.000], mean action: 0.567 [0.000, 1.000],  loss: 7.315108, mae: 13.572862, mean_q: 26.302997, mean_eps: 0.513055\n",
            " 5614/10000: episode: 180, duration: 1.388s, episode steps: 173, steps per second: 125, episode reward: 173.000, mean reward:  1.000 [ 1.000,  1.000], mean action: 0.486 [0.000, 1.000],  loss: 7.623351, mae: 13.638692, mean_q: 26.456772, mean_eps: 0.502570\n",
            " 5651/10000: episode: 181, duration: 0.427s, episode steps:  37, steps per second:  87, episode reward: 37.000, mean reward:  1.000 [ 1.000,  1.000], mean action: 0.541 [0.000, 1.000],  loss: 6.644452, mae: 13.811494, mean_q: 26.931402, mean_eps: 0.493120\n",
            " 5727/10000: episode: 182, duration: 0.820s, episode steps:  76, steps per second:  93, episode reward: 76.000, mean reward:  1.000 [ 1.000,  1.000], mean action: 0.526 [0.000, 1.000],  loss: 7.846769, mae: 13.906260, mean_q: 27.024265, mean_eps: 0.488035\n",
            " 5800/10000: episode: 183, duration: 0.727s, episode steps:  73, steps per second: 100, episode reward: 73.000, mean reward:  1.000 [ 1.000,  1.000], mean action: 0.521 [0.000, 1.000],  loss: 7.034127, mae: 14.019304, mean_q: 27.251572, mean_eps: 0.481330\n",
            " 5871/10000: episode: 184, duration: 0.490s, episode steps:  71, steps per second: 145, episode reward: 71.000, mean reward:  1.000 [ 1.000,  1.000], mean action: 0.465 [0.000, 1.000],  loss: 8.739273, mae: 14.124662, mean_q: 27.291781, mean_eps: 0.474850\n",
            " 5957/10000: episode: 185, duration: 0.566s, episode steps:  86, steps per second: 152, episode reward: 86.000, mean reward:  1.000 [ 1.000,  1.000], mean action: 0.523 [0.000, 1.000],  loss: 6.664250, mae: 14.151309, mean_q: 27.656178, mean_eps: 0.467785\n",
            " 6046/10000: episode: 186, duration: 0.650s, episode steps:  89, steps per second: 137, episode reward: 89.000, mean reward:  1.000 [ 1.000,  1.000], mean action: 0.506 [0.000, 1.000],  loss: 8.799166, mae: 14.339681, mean_q: 27.761375, mean_eps: 0.459910\n",
            " 6107/10000: episode: 187, duration: 0.432s, episode steps:  61, steps per second: 141, episode reward: 61.000, mean reward:  1.000 [ 1.000,  1.000], mean action: 0.541 [0.000, 1.000],  loss: 7.372187, mae: 14.437656, mean_q: 28.125893, mean_eps: 0.453160\n",
            " 6172/10000: episode: 188, duration: 0.481s, episode steps:  65, steps per second: 135, episode reward: 65.000, mean reward:  1.000 [ 1.000,  1.000], mean action: 0.523 [0.000, 1.000],  loss: 7.959403, mae: 14.523634, mean_q: 28.252735, mean_eps: 0.447490\n",
            " 6226/10000: episode: 189, duration: 0.367s, episode steps:  54, steps per second: 147, episode reward: 54.000, mean reward:  1.000 [ 1.000,  1.000], mean action: 0.481 [0.000, 1.000],  loss: 7.381083, mae: 14.637263, mean_q: 28.495103, mean_eps: 0.442135\n",
            " 6252/10000: episode: 190, duration: 0.184s, episode steps:  26, steps per second: 141, episode reward: 26.000, mean reward:  1.000 [ 1.000,  1.000], mean action: 0.462 [0.000, 1.000],  loss: 6.088252, mae: 14.569920, mean_q: 28.505937, mean_eps: 0.438535\n",
            " 6301/10000: episode: 191, duration: 0.326s, episode steps:  49, steps per second: 150, episode reward: 49.000, mean reward:  1.000 [ 1.000,  1.000], mean action: 0.469 [0.000, 1.000],  loss: 8.995964, mae: 14.770635, mean_q: 28.715374, mean_eps: 0.435160\n",
            " 6348/10000: episode: 192, duration: 0.327s, episode steps:  47, steps per second: 144, episode reward: 47.000, mean reward:  1.000 [ 1.000,  1.000], mean action: 0.532 [0.000, 1.000],  loss: 8.684809, mae: 14.848465, mean_q: 28.857517, mean_eps: 0.430840\n",
            " 6457/10000: episode: 193, duration: 0.781s, episode steps: 109, steps per second: 140, episode reward: 109.000, mean reward:  1.000 [ 1.000,  1.000], mean action: 0.505 [0.000, 1.000],  loss: 7.083061, mae: 14.839887, mean_q: 28.974813, mean_eps: 0.423820\n",
            " 6539/10000: episode: 194, duration: 0.595s, episode steps:  82, steps per second: 138, episode reward: 82.000, mean reward:  1.000 [ 1.000,  1.000], mean action: 0.524 [0.000, 1.000],  loss: 7.548850, mae: 15.051747, mean_q: 29.372816, mean_eps: 0.415225\n",
            " 6609/10000: episode: 195, duration: 0.477s, episode steps:  70, steps per second: 147, episode reward: 70.000, mean reward:  1.000 [ 1.000,  1.000], mean action: 0.471 [0.000, 1.000],  loss: 8.503770, mae: 15.175324, mean_q: 29.471326, mean_eps: 0.408385\n",
            " 6683/10000: episode: 196, duration: 0.493s, episode steps:  74, steps per second: 150, episode reward: 74.000, mean reward:  1.000 [ 1.000,  1.000], mean action: 0.541 [0.000, 1.000],  loss: 8.475494, mae: 15.253512, mean_q: 29.664578, mean_eps: 0.401905\n",
            " 6745/10000: episode: 197, duration: 0.454s, episode steps:  62, steps per second: 136, episode reward: 62.000, mean reward:  1.000 [ 1.000,  1.000], mean action: 0.468 [0.000, 1.000],  loss: 7.891727, mae: 15.279559, mean_q: 29.730293, mean_eps: 0.395785\n",
            " 6852/10000: episode: 198, duration: 0.784s, episode steps: 107, steps per second: 137, episode reward: 107.000, mean reward:  1.000 [ 1.000,  1.000], mean action: 0.495 [0.000, 1.000],  loss: 7.919049, mae: 15.402079, mean_q: 30.023166, mean_eps: 0.388180\n",
            " 6926/10000: episode: 199, duration: 0.528s, episode steps:  74, steps per second: 140, episode reward: 74.000, mean reward:  1.000 [ 1.000,  1.000], mean action: 0.459 [0.000, 1.000],  loss: 8.639811, mae: 15.527665, mean_q: 30.234650, mean_eps: 0.380035\n",
            " 7018/10000: episode: 200, duration: 0.710s, episode steps:  92, steps per second: 130, episode reward: 92.000, mean reward:  1.000 [ 1.000,  1.000], mean action: 0.522 [0.000, 1.000],  loss: 7.496389, mae: 15.642253, mean_q: 30.553057, mean_eps: 0.372565\n",
            " 7098/10000: episode: 201, duration: 0.592s, episode steps:  80, steps per second: 135, episode reward: 80.000, mean reward:  1.000 [ 1.000,  1.000], mean action: 0.537 [0.000, 1.000],  loss: 7.169156, mae: 15.815967, mean_q: 30.959747, mean_eps: 0.364825\n",
            " 7175/10000: episode: 202, duration: 0.569s, episode steps:  77, steps per second: 135, episode reward: 77.000, mean reward:  1.000 [ 1.000,  1.000], mean action: 0.532 [0.000, 1.000],  loss: 7.921412, mae: 15.848739, mean_q: 30.944825, mean_eps: 0.357760\n",
            " 7233/10000: episode: 203, duration: 0.571s, episode steps:  58, steps per second: 102, episode reward: 58.000, mean reward:  1.000 [ 1.000,  1.000], mean action: 0.448 [0.000, 1.000],  loss: 7.806926, mae: 15.972350, mean_q: 31.274380, mean_eps: 0.351685\n",
            " 7345/10000: episode: 204, duration: 1.151s, episode steps: 112, steps per second:  97, episode reward: 112.000, mean reward:  1.000 [ 1.000,  1.000], mean action: 0.509 [0.000, 1.000],  loss: 9.547089, mae: 16.099364, mean_q: 31.372406, mean_eps: 0.344035\n",
            " 7545/10000: episode: 205, duration: 1.701s, episode steps: 200, steps per second: 118, episode reward: 200.000, mean reward:  1.000 [ 1.000,  1.000], mean action: 0.500 [0.000, 1.000],  loss: 9.394018, mae: 16.297173, mean_q: 31.751857, mean_eps: 0.329995\n",
            " 7682/10000: episode: 206, duration: 0.991s, episode steps: 137, steps per second: 138, episode reward: 137.000, mean reward:  1.000 [ 1.000,  1.000], mean action: 0.518 [0.000, 1.000],  loss: 10.154400, mae: 16.433628, mean_q: 32.024602, mean_eps: 0.314830\n",
            " 7792/10000: episode: 207, duration: 0.851s, episode steps: 110, steps per second: 129, episode reward: 110.000, mean reward:  1.000 [ 1.000,  1.000], mean action: 0.482 [0.000, 1.000],  loss: 9.543568, mae: 16.555502, mean_q: 32.224881, mean_eps: 0.303715\n",
            " 7849/10000: episode: 208, duration: 0.397s, episode steps:  57, steps per second: 144, episode reward: 57.000, mean reward:  1.000 [ 1.000,  1.000], mean action: 0.474 [0.000, 1.000],  loss: 9.321685, mae: 16.629372, mean_q: 32.435471, mean_eps: 0.296200\n",
            " 7947/10000: episode: 209, duration: 0.684s, episode steps:  98, steps per second: 143, episode reward: 98.000, mean reward:  1.000 [ 1.000,  1.000], mean action: 0.480 [0.000, 1.000],  loss: 6.050747, mae: 16.647653, mean_q: 32.771977, mean_eps: 0.289225\n",
            " 8077/10000: episode: 210, duration: 0.867s, episode steps: 130, steps per second: 150, episode reward: 130.000, mean reward:  1.000 [ 1.000,  1.000], mean action: 0.477 [0.000, 1.000],  loss: 8.118250, mae: 16.837023, mean_q: 33.083718, mean_eps: 0.278965\n",
            " 8179/10000: episode: 211, duration: 0.685s, episode steps: 102, steps per second: 149, episode reward: 102.000, mean reward:  1.000 [ 1.000,  1.000], mean action: 0.471 [0.000, 1.000],  loss: 9.240805, mae: 17.040216, mean_q: 33.316297, mean_eps: 0.268525\n",
            " 8262/10000: episode: 212, duration: 0.574s, episode steps:  83, steps per second: 145, episode reward: 83.000, mean reward:  1.000 [ 1.000,  1.000], mean action: 0.470 [0.000, 1.000],  loss: 7.940520, mae: 17.100227, mean_q: 33.603571, mean_eps: 0.260200\n",
            " 8395/10000: episode: 213, duration: 0.949s, episode steps: 133, steps per second: 140, episode reward: 133.000, mean reward:  1.000 [ 1.000,  1.000], mean action: 0.526 [0.000, 1.000],  loss: 8.280744, mae: 17.242260, mean_q: 33.924130, mean_eps: 0.250480\n",
            " 8503/10000: episode: 214, duration: 0.779s, episode steps: 108, steps per second: 139, episode reward: 108.000, mean reward:  1.000 [ 1.000,  1.000], mean action: 0.463 [0.000, 1.000],  loss: 8.315883, mae: 17.435537, mean_q: 34.288495, mean_eps: 0.239635\n",
            " 8659/10000: episode: 215, duration: 1.026s, episode steps: 156, steps per second: 152, episode reward: 156.000, mean reward:  1.000 [ 1.000,  1.000], mean action: 0.519 [0.000, 1.000],  loss: 7.941466, mae: 17.672892, mean_q: 34.869850, mean_eps: 0.227755\n",
            " 8794/10000: episode: 216, duration: 0.947s, episode steps: 135, steps per second: 143, episode reward: 135.000, mean reward:  1.000 [ 1.000,  1.000], mean action: 0.467 [0.000, 1.000],  loss: 8.391009, mae: 17.913955, mean_q: 35.323005, mean_eps: 0.214660\n",
            " 8994/10000: episode: 217, duration: 1.672s, episode steps: 200, steps per second: 120, episode reward: 200.000, mean reward:  1.000 [ 1.000,  1.000], mean action: 0.495 [0.000, 1.000],  loss: 10.164829, mae: 18.139718, mean_q: 35.600626, mean_eps: 0.199585\n",
            " 9190/10000: episode: 218, duration: 1.711s, episode steps: 196, steps per second: 115, episode reward: 196.000, mean reward:  1.000 [ 1.000,  1.000], mean action: 0.536 [0.000, 1.000],  loss: 8.442815, mae: 18.349489, mean_q: 36.218231, mean_eps: 0.181765\n",
            " 9324/10000: episode: 219, duration: 0.861s, episode steps: 134, steps per second: 156, episode reward: 134.000, mean reward:  1.000 [ 1.000,  1.000], mean action: 0.485 [0.000, 1.000],  loss: 9.040308, mae: 18.631443, mean_q: 36.753513, mean_eps: 0.166915\n",
            " 9428/10000: episode: 220, duration: 0.690s, episode steps: 104, steps per second: 151, episode reward: 104.000, mean reward:  1.000 [ 1.000,  1.000], mean action: 0.462 [0.000, 1.000],  loss: 8.944629, mae: 18.734430, mean_q: 37.033988, mean_eps: 0.156205\n",
            " 9543/10000: episode: 221, duration: 0.755s, episode steps: 115, steps per second: 152, episode reward: 115.000, mean reward:  1.000 [ 1.000,  1.000], mean action: 0.461 [0.000, 1.000],  loss: 9.096156, mae: 18.967910, mean_q: 37.437758, mean_eps: 0.146350\n",
            " 9708/10000: episode: 222, duration: 1.158s, episode steps: 165, steps per second: 143, episode reward: 165.000, mean reward:  1.000 [ 1.000,  1.000], mean action: 0.479 [0.000, 1.000],  loss: 9.507880, mae: 19.153399, mean_q: 37.821042, mean_eps: 0.133750\n",
            " 9818/10000: episode: 223, duration: 0.721s, episode steps: 110, steps per second: 153, episode reward: 110.000, mean reward:  1.000 [ 1.000,  1.000], mean action: 0.464 [0.000, 1.000],  loss: 9.402911, mae: 19.231755, mean_q: 38.032800, mean_eps: 0.121375\n",
            "done, took 88.452 seconds\n"
          ]
        }
      ]
    },
    {
      "cell_type": "code",
      "source": [
        "# summarize the history for number  of episode steps\n",
        "plt.plot(history.history['nb_episode_steps'])\n",
        "plt.ylabel('nb_episode_steps')\n",
        "plt.xlabel('episodes')\n",
        "plt.show()\n",
        "\n",
        "dqn.test(env, nb_episodes=20, visualize=False)"
      ],
      "metadata": {
        "colab": {
          "base_uri": "https://localhost:8080/",
          "height": 661
        },
        "id": "bkKOscyvlbDf",
        "outputId": "b0e30f62-0859-4cd5-d72a-17921ab83c83"
      },
      "execution_count": 7,
      "outputs": [
        {
          "output_type": "display_data",
          "data": {
            "text/plain": [
              "<Figure size 432x288 with 1 Axes>"
            ],
            "image/png": "[encoded data removed]"
          },
          "metadata": {
            "needs_background": "light"
          }
        },
        {
          "output_type": "stream",
          "name": "stdout",
          "text": [
            "Testing for 20 episodes ...\n",
            "Episode 1: reward: 200.000, steps: 200\n",
            "Episode 2: reward: 200.000, steps: 200\n",
            "Episode 3: reward: 200.000, steps: 200\n",
            "Episode 4: reward: 200.000, steps: 200\n",
            "Episode 5: reward: 200.000, steps: 200\n",
            "Episode 6: reward: 200.000, steps: 200\n",
            "Episode 7: reward: 200.000, steps: 200\n",
            "Episode 8: reward: 200.000, steps: 200\n",
            "Episode 9: reward: 176.000, steps: 176\n",
            "Episode 10: reward: 200.000, steps: 200\n",
            "Episode 11: reward: 200.000, steps: 200\n",
            "Episode 12: reward: 186.000, steps: 186\n",
            "Episode 13: reward: 200.000, steps: 200\n",
            "Episode 14: reward: 183.000, steps: 183\n",
            "Episode 15: reward: 200.000, steps: 200\n",
            "Episode 16: reward: 200.000, steps: 200\n",
            "Episode 17: reward: 200.000, steps: 200\n",
            "Episode 18: reward: 200.000, steps: 200\n",
            "Episode 19: reward: 200.000, steps: 200\n",
            "Episode 20: reward: 200.000, steps: 200\n"
          ]
        },
        {
          "output_type": "execute_result",
          "data": {
            "text/plain": [
              "<keras.callbacks.History at 0x7f9a4c85d520>"
            ]
          },
          "metadata": {},
          "execution_count": 7
        }
      ]
    }
  ]
}