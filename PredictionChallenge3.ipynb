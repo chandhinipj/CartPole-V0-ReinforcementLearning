{
  "nbformat": 4,
  "nbformat_minor": 0,
  "metadata": {
    "colab": {
      "provenance": [],
      "toc_visible": true,
      "include_colab_link": true
    },
    "kernelspec": {
      "name": "python3",
      "display_name": "Python 3"
    }
  },
  "cells": [
    {
      "cell_type": "markdown",
      "metadata": {
        "id": "view-in-github",
        "colab_type": "text"
      },
      "source": [
        "<a href=\"https://colab.research.google.com/github/chandhinipj/CartPole-V0-ReinforcementLearning/blob/main/PredictionChallenge3.ipynb\" target=\"_parent\"><img src=\"https://colab.research.google.com/assets/colab-badge.svg\" alt=\"Open In Colab\"/></a>"
      ]
    },
    {
      "cell_type": "markdown",
      "metadata": {
        "id": "VKK5DA390wRe"
      },
      "source": [
        "# Skeleton Code for Prediction Challenge 3\n",
        "Below is partial code to get you started on prediction challenge 3. You need to select values for the parameters that have question marks."
      ]
    },
    {
      "cell_type": "code",
      "source": [
        "!pip install keras-rl2"
      ],
      "metadata": {
        "colab": {
          "base_uri": "https://localhost:8080/"
        },
        "id": "DNGTghHEhyW4",
        "outputId": "7f46c161-fe6c-485f-a169-2012d9785c41"
      },
      "execution_count": 1,
      "outputs": [
        {
          "output_type": "stream",
          "name": "stdout",
          "text": [
            "Looking in indexes: https://pypi.org/simple, https://us-python.pkg.dev/colab-wheels/public/simple/\n",
            "Collecting keras-rl2\n",
            "  Downloading keras_rl2-1.0.5-py3-none-any.whl (52 kB)\n",
            "\u001b[2K     \u001b[90m━━━━━━━━━━━━━━━━━━━━━━━━━━━━━━━━━━━━━━━━\u001b[0m \u001b[32m52.1/52.1 KB\u001b[0m \u001b[31m2.5 MB/s\u001b[0m eta \u001b[36m0:00:00\u001b[0m\n",
            "\u001b[?25hRequirement already satisfied: tensorflow in /usr/local/lib/python3.9/dist-packages (from keras-rl2) (2.11.0)\n",
            "Requirement already satisfied: astunparse>=1.6.0 in /usr/local/lib/python3.9/dist-packages (from tensorflow->keras-rl2) (1.6.3)\n",
            "Requirement already satisfied: absl-py>=1.0.0 in /usr/local/lib/python3.9/dist-packages (from tensorflow->keras-rl2) (1.4.0)\n",
            "Requirement already satisfied: keras<2.12,>=2.11.0 in /usr/local/lib/python3.9/dist-packages (from tensorflow->keras-rl2) (2.11.0)\n",
            "Requirement already satisfied: protobuf<3.20,>=3.9.2 in /usr/local/lib/python3.9/dist-packages (from tensorflow->keras-rl2) (3.19.6)\n",
            "Requirement already satisfied: termcolor>=1.1.0 in /usr/local/lib/python3.9/dist-packages (from tensorflow->keras-rl2) (2.2.0)\n",
            "Requirement already satisfied: opt-einsum>=2.3.2 in /usr/local/lib/python3.9/dist-packages (from tensorflow->keras-rl2) (3.3.0)\n",
            "Requirement already satisfied: setuptools in /usr/local/lib/python3.9/dist-packages (from tensorflow->keras-rl2) (57.4.0)\n",
            "Requirement already satisfied: h5py>=2.9.0 in /usr/local/lib/python3.9/dist-packages (from tensorflow->keras-rl2) (3.1.0)\n",
            "Requirement already satisfied: google-pasta>=0.1.1 in /usr/local/lib/python3.9/dist-packages (from tensorflow->keras-rl2) (0.2.0)\n",
            "Requirement already satisfied: packaging in /usr/local/lib/python3.9/dist-packages (from tensorflow->keras-rl2) (23.0)\n",
            "Requirement already satisfied: libclang>=13.0.0 in /usr/local/lib/python3.9/dist-packages (from tensorflow->keras-rl2) (15.0.6.1)\n",
            "Requirement already satisfied: tensorflow-io-gcs-filesystem>=0.23.1 in /usr/local/lib/python3.9/dist-packages (from tensorflow->keras-rl2) (0.31.0)\n",
            "Requirement already satisfied: tensorflow-estimator<2.12,>=2.11.0 in /usr/local/lib/python3.9/dist-packages (from tensorflow->keras-rl2) (2.11.0)\n",
            "Requirement already satisfied: numpy>=1.20 in /usr/local/lib/python3.9/dist-packages (from tensorflow->keras-rl2) (1.22.4)\n",
            "Requirement already satisfied: six>=1.12.0 in /usr/local/lib/python3.9/dist-packages (from tensorflow->keras-rl2) (1.15.0)\n",
            "Requirement already satisfied: gast<=0.4.0,>=0.2.1 in /usr/local/lib/python3.9/dist-packages (from tensorflow->keras-rl2) (0.4.0)\n",
            "Requirement already satisfied: flatbuffers>=2.0 in /usr/local/lib/python3.9/dist-packages (from tensorflow->keras-rl2) (23.3.3)\n",
            "Requirement already satisfied: tensorboard<2.12,>=2.11 in /usr/local/lib/python3.9/dist-packages (from tensorflow->keras-rl2) (2.11.2)\n",
            "Requirement already satisfied: typing-extensions>=3.6.6 in /usr/local/lib/python3.9/dist-packages (from tensorflow->keras-rl2) (4.5.0)\n",
            "Requirement already satisfied: grpcio<2.0,>=1.24.3 in /usr/local/lib/python3.9/dist-packages (from tensorflow->keras-rl2) (1.51.3)\n",
            "Requirement already satisfied: wrapt>=1.11.0 in /usr/local/lib/python3.9/dist-packages (from tensorflow->keras-rl2) (1.15.0)\n",
            "Requirement already satisfied: wheel<1.0,>=0.23.0 in /usr/local/lib/python3.9/dist-packages (from astunparse>=1.6.0->tensorflow->keras-rl2) (0.38.4)\n",
            "Requirement already satisfied: google-auth-oauthlib<0.5,>=0.4.1 in /usr/local/lib/python3.9/dist-packages (from tensorboard<2.12,>=2.11->tensorflow->keras-rl2) (0.4.6)\n",
            "Requirement already satisfied: markdown>=2.6.8 in /usr/local/lib/python3.9/dist-packages (from tensorboard<2.12,>=2.11->tensorflow->keras-rl2) (3.4.1)\n",
            "Requirement already satisfied: werkzeug>=1.0.1 in /usr/local/lib/python3.9/dist-packages (from tensorboard<2.12,>=2.11->tensorflow->keras-rl2) (2.2.3)\n",
            "Requirement already satisfied: tensorboard-data-server<0.7.0,>=0.6.0 in /usr/local/lib/python3.9/dist-packages (from tensorboard<2.12,>=2.11->tensorflow->keras-rl2) (0.6.1)\n",
            "Requirement already satisfied: google-auth<3,>=1.6.3 in /usr/local/lib/python3.9/dist-packages (from tensorboard<2.12,>=2.11->tensorflow->keras-rl2) (2.16.2)\n",
            "Requirement already satisfied: requests<3,>=2.21.0 in /usr/local/lib/python3.9/dist-packages (from tensorboard<2.12,>=2.11->tensorflow->keras-rl2) (2.25.1)\n",
            "Requirement already satisfied: tensorboard-plugin-wit>=1.6.0 in /usr/local/lib/python3.9/dist-packages (from tensorboard<2.12,>=2.11->tensorflow->keras-rl2) (1.8.1)\n",
            "Requirement already satisfied: rsa<5,>=3.1.4 in /usr/local/lib/python3.9/dist-packages (from google-auth<3,>=1.6.3->tensorboard<2.12,>=2.11->tensorflow->keras-rl2) (4.9)\n",
            "Requirement already satisfied: cachetools<6.0,>=2.0.0 in /usr/local/lib/python3.9/dist-packages (from google-auth<3,>=1.6.3->tensorboard<2.12,>=2.11->tensorflow->keras-rl2) (5.3.0)\n",
            "Requirement already satisfied: pyasn1-modules>=0.2.1 in /usr/local/lib/python3.9/dist-packages (from google-auth<3,>=1.6.3->tensorboard<2.12,>=2.11->tensorflow->keras-rl2) (0.2.8)\n",
            "Requirement already satisfied: requests-oauthlib>=0.7.0 in /usr/local/lib/python3.9/dist-packages (from google-auth-oauthlib<0.5,>=0.4.1->tensorboard<2.12,>=2.11->tensorflow->keras-rl2) (1.3.1)\n",
            "Requirement already satisfied: importlib-metadata>=4.4 in /usr/local/lib/python3.9/dist-packages (from markdown>=2.6.8->tensorboard<2.12,>=2.11->tensorflow->keras-rl2) (6.0.0)\n",
            "Requirement already satisfied: idna<3,>=2.5 in /usr/local/lib/python3.9/dist-packages (from requests<3,>=2.21.0->tensorboard<2.12,>=2.11->tensorflow->keras-rl2) (2.10)\n",
            "Requirement already satisfied: chardet<5,>=3.0.2 in /usr/local/lib/python3.9/dist-packages (from requests<3,>=2.21.0->tensorboard<2.12,>=2.11->tensorflow->keras-rl2) (4.0.0)\n",
            "Requirement already satisfied: urllib3<1.27,>=1.21.1 in /usr/local/lib/python3.9/dist-packages (from requests<3,>=2.21.0->tensorboard<2.12,>=2.11->tensorflow->keras-rl2) (1.26.14)\n",
            "Requirement already satisfied: certifi>=2017.4.17 in /usr/local/lib/python3.9/dist-packages (from requests<3,>=2.21.0->tensorboard<2.12,>=2.11->tensorflow->keras-rl2) (2022.12.7)\n",
            "Requirement already satisfied: MarkupSafe>=2.1.1 in /usr/local/lib/python3.9/dist-packages (from werkzeug>=1.0.1->tensorboard<2.12,>=2.11->tensorflow->keras-rl2) (2.1.2)\n",
            "Requirement already satisfied: zipp>=0.5 in /usr/local/lib/python3.9/dist-packages (from importlib-metadata>=4.4->markdown>=2.6.8->tensorboard<2.12,>=2.11->tensorflow->keras-rl2) (3.15.0)\n",
            "Requirement already satisfied: pyasn1<0.5.0,>=0.4.6 in /usr/local/lib/python3.9/dist-packages (from pyasn1-modules>=0.2.1->google-auth<3,>=1.6.3->tensorboard<2.12,>=2.11->tensorflow->keras-rl2) (0.4.8)\n",
            "Requirement already satisfied: oauthlib>=3.0.0 in /usr/local/lib/python3.9/dist-packages (from requests-oauthlib>=0.7.0->google-auth-oauthlib<0.5,>=0.4.1->tensorboard<2.12,>=2.11->tensorflow->keras-rl2) (3.2.2)\n",
            "Installing collected packages: keras-rl2\n",
            "Successfully installed keras-rl2-1.0.5\n"
          ]
        }
      ]
    },
    {
      "cell_type": "code",
      "source": [
        "!pip install gym"
      ],
      "metadata": {
        "colab": {
          "base_uri": "https://localhost:8080/"
        },
        "id": "eQ_dXOCKh0jV",
        "outputId": "49533796-5e4a-4cde-b534-855e030e7151"
      },
      "execution_count": 2,
      "outputs": [
        {
          "output_type": "stream",
          "name": "stdout",
          "text": [
            "Looking in indexes: https://pypi.org/simple, https://us-python.pkg.dev/colab-wheels/public/simple/\n",
            "Requirement already satisfied: gym in /usr/local/lib/python3.9/dist-packages (0.25.2)\n",
            "Requirement already satisfied: importlib-metadata>=4.8.0 in /usr/local/lib/python3.9/dist-packages (from gym) (6.0.0)\n",
            "Requirement already satisfied: cloudpickle>=1.2.0 in /usr/local/lib/python3.9/dist-packages (from gym) (2.2.1)\n",
            "Requirement already satisfied: numpy>=1.18.0 in /usr/local/lib/python3.9/dist-packages (from gym) (1.22.4)\n",
            "Requirement already satisfied: gym-notices>=0.0.4 in /usr/local/lib/python3.9/dist-packages (from gym) (0.0.8)\n",
            "Requirement already satisfied: zipp>=0.5 in /usr/local/lib/python3.9/dist-packages (from importlib-metadata>=4.8.0->gym) (3.15.0)\n"
          ]
        }
      ]
    },
    {
      "cell_type": "code",
      "source": [
        "# load the gym module\n",
        "import gym\n",
        "import matplotlib.pyplot as plt\n",
        "# import the usual Keras modules for creating deep neural networks\n",
        "from keras import Sequential\n",
        "from keras.layers import Input, Flatten, Dense\n",
        "from keras.optimizers import Adam\n",
        "\n",
        "ENV_NAME = 'CartPole-v0'\n",
        "env = gym.make(ENV_NAME)"
      ],
      "metadata": {
        "colab": {
          "base_uri": "https://localhost:8080/"
        },
        "id": "75Phf54nh2y_",
        "outputId": "98d6ac63-7738-4727-ed92-fc54cab0dbcb"
      },
      "execution_count": 3,
      "outputs": [
        {
          "output_type": "stream",
          "name": "stderr",
          "text": [
            "/usr/local/lib/python3.9/dist-packages/gym/envs/registration.py:593: UserWarning: \u001b[33mWARN: The environment CartPole-v0 is out of date. You should consider upgrading to version `v1`.\u001b[0m\n",
            "  logger.warn(\n",
            "/usr/local/lib/python3.9/dist-packages/gym/core.py:317: DeprecationWarning: \u001b[33mWARN: Initializing wrapper in old step API which returns one bool instead of two. It is recommended to set `new_step_api=True` to use new step API. This will be the default behaviour in future.\u001b[0m\n",
            "  deprecation(\n",
            "/usr/local/lib/python3.9/dist-packages/gym/wrappers/step_api_compatibility.py:39: DeprecationWarning: \u001b[33mWARN: Initializing environment in old step API which returns one bool instead of two. It is recommended to set `new_step_api=True` to use new step API. This will be the default behaviour in future.\u001b[0m\n",
            "  deprecation(\n"
          ]
        }
      ]
    },
    {
      "cell_type": "code",
      "source": [
        "import rl\n",
        "from rl.memory import SequentialMemory  # import the exerience replay buffer module\n",
        "from rl.policy import LinearAnnealedPolicy, EpsGreedyQPolicy  # import the policy\n",
        "from rl.agents.dqn import DQNAgent      # import the DQN agent"
      ],
      "metadata": {
        "id": "KsGYDOrDh58e"
      },
      "execution_count": 4,
      "outputs": []
    },
    {
      "cell_type": "code",
      "source": [
        "# Q-Network\n",
        "model = Sequential()\n",
        "model.add(Input(shape=(1,env.observation_space.shape[0])))  # The input is 1 observation vector, and the number of observations in that vector \n",
        "model.add(Flatten())\n",
        "# add extra layers here\n",
        "model.add(Dense(16, activation='relu'))\n",
        "model.add(Dense(env.action_space.n, activation='linear'))   # the output is the number of actions in the action space\n",
        "print(model.summary())"
      ],
      "metadata": {
        "colab": {
          "base_uri": "https://localhost:8080/"
        },
        "id": "i5dvD8xTio0U",
        "outputId": "c5696608-d002-4cce-d042-73d67c3dec8c"
      },
      "execution_count": 5,
      "outputs": [
        {
          "output_type": "stream",
          "name": "stdout",
          "text": [
            "Model: \"sequential\"\n",
            "_________________________________________________________________\n",
            " Layer (type)                Output Shape              Param #   \n",
            "=================================================================\n",
            " flatten (Flatten)           (None, 4)                 0         \n",
            "                                                                 \n",
            " dense (Dense)               (None, 16)                80        \n",
            "                                                                 \n",
            " dense_1 (Dense)             (None, 2)                 34        \n",
            "                                                                 \n",
            "=================================================================\n",
            "Total params: 114\n",
            "Trainable params: 114\n",
            "Non-trainable params: 0\n",
            "_________________________________________________________________\n",
            "None\n"
          ]
        }
      ]
    },
    {
      "cell_type": "code",
      "metadata": {
        "id": "R8ZiiRbxlH2D",
        "colab": {
          "base_uri": "https://localhost:8080/"
        },
        "outputId": "55161608-9c12-4e90-9f7c-34ebaf1657fc"
      },
      "source": [
        "memory = SequentialMemory(limit=10000, window_length=1)\n",
        "\n",
        "# define the policy\n",
        "policy =  LinearAnnealedPolicy(inner_policy=EpsGreedyQPolicy(), \n",
        "                               attr='eps',            \n",
        "                               value_max=1.0,\n",
        "                               value_min=0.1, \n",
        "                               value_test=.05,\n",
        "                               nb_steps=10000)\n",
        "\n",
        "\n",
        "# define the agent\n",
        "dqn = DQNAgent(model=model, \n",
        "               nb_actions=env.action_space.n,\n",
        "               memory=memory,\n",
        "               nb_steps_warmup=20,\n",
        "               target_model_update=1000, \n",
        "               policy=policy) \n",
        "\n",
        "dqn.compile(Adam(lr=0.001), metrics=['mae'])\n",
        "\n",
        "history = dqn.fit(env, nb_steps=10000, visualize=False, verbose=2)\n",
        "\n"
      ],
      "execution_count": 6,
      "outputs": [
        {
          "output_type": "stream",
          "name": "stderr",
          "text": [
            "/usr/local/lib/python3.9/dist-packages/keras/optimizers/optimizer_v2/adam.py:117: UserWarning: The `lr` argument is deprecated, use `learning_rate` instead.\n",
            "  super().__init__(name, **kwargs)\n",
            "WARNING:tensorflow:From /usr/local/lib/python3.9/dist-packages/tensorflow/python/autograph/pyct/static_analysis/liveness.py:83: Analyzer.lamba_check (from tensorflow.python.autograph.pyct.static_analysis.liveness) is deprecated and will be removed after 2023-09-23.\n",
            "Instructions for updating:\n",
            "Lambda fuctions will be no more assumed to be used in the statement where they are used, or at least in the same block. https://github.com/tensorflow/tensorflow/issues/56089\n",
            "/usr/local/lib/python3.9/dist-packages/keras/engine/training_v1.py:2357: UserWarning: `Model.state_updates` will be removed in a future version. This property should not be used in TensorFlow 2.0, as `updates` are applied automatically.\n",
            "  updates=self.state_updates,\n"
          ]
        },
        {
          "output_type": "stream",
          "name": "stdout",
          "text": [
            "Training for 10000 steps ...\n"
          ]
        },
        {
          "output_type": "stream",
          "name": "stderr",
          "text": [
            "/usr/local/lib/python3.9/dist-packages/rl/memory.py:37: UserWarning: Not enough entries to sample without replacement. Consider increasing your warm-up phase to avoid oversampling!\n",
            "  warnings.warn('Not enough entries to sample without replacement. Consider increasing your warm-up phase to avoid oversampling!')\n",
            "/usr/local/lib/python3.9/dist-packages/rl/memory.py:38: DeprecationWarning: This function is deprecated. Please call randint(1, 20 + 1) instead\n",
            "  batch_idxs = np.random.random_integers(low, high - 1, size=size)\n",
            "/usr/local/lib/python3.9/dist-packages/rl/memory.py:38: DeprecationWarning: This function is deprecated. Please call randint(1, 21 + 1) instead\n",
            "  batch_idxs = np.random.random_integers(low, high - 1, size=size)\n",
            "/usr/local/lib/python3.9/dist-packages/rl/memory.py:38: DeprecationWarning: This function is deprecated. Please call randint(1, 22 + 1) instead\n",
            "  batch_idxs = np.random.random_integers(low, high - 1, size=size)\n",
            "/usr/local/lib/python3.9/dist-packages/rl/memory.py:38: DeprecationWarning: This function is deprecated. Please call randint(1, 23 + 1) instead\n",
            "  batch_idxs = np.random.random_integers(low, high - 1, size=size)\n",
            "/usr/local/lib/python3.9/dist-packages/rl/memory.py:38: DeprecationWarning: This function is deprecated. Please call randint(1, 24 + 1) instead\n",
            "  batch_idxs = np.random.random_integers(low, high - 1, size=size)\n",
            "/usr/local/lib/python3.9/dist-packages/rl/memory.py:38: DeprecationWarning: This function is deprecated. Please call randint(1, 25 + 1) instead\n",
            "  batch_idxs = np.random.random_integers(low, high - 1, size=size)\n",
            "/usr/local/lib/python3.9/dist-packages/rl/memory.py:38: DeprecationWarning: This function is deprecated. Please call randint(1, 26 + 1) instead\n",
            "  batch_idxs = np.random.random_integers(low, high - 1, size=size)\n",
            "/usr/local/lib/python3.9/dist-packages/rl/memory.py:38: DeprecationWarning: This function is deprecated. Please call randint(1, 27 + 1) instead\n",
            "  batch_idxs = np.random.random_integers(low, high - 1, size=size)\n",
            "/usr/local/lib/python3.9/dist-packages/rl/memory.py:38: DeprecationWarning: This function is deprecated. Please call randint(1, 28 + 1) instead\n",
            "  batch_idxs = np.random.random_integers(low, high - 1, size=size)\n",
            "/usr/local/lib/python3.9/dist-packages/rl/memory.py:38: DeprecationWarning: This function is deprecated. Please call randint(1, 29 + 1) instead\n",
            "  batch_idxs = np.random.random_integers(low, high - 1, size=size)\n",
            "/usr/local/lib/python3.9/dist-packages/rl/memory.py:38: DeprecationWarning: This function is deprecated. Please call randint(1, 30 + 1) instead\n",
            "  batch_idxs = np.random.random_integers(low, high - 1, size=size)\n",
            "/usr/local/lib/python3.9/dist-packages/rl/memory.py:38: DeprecationWarning: This function is deprecated. Please call randint(1, 31 + 1) instead\n",
            "  batch_idxs = np.random.random_integers(low, high - 1, size=size)\n"
          ]
        },
        {
          "output_type": "stream",
          "name": "stdout",
          "text": [
            "   33/10000: episode: 1, duration: 1.529s, episode steps:  33, steps per second:  22, episode reward: 33.000, mean reward:  1.000 [ 1.000,  1.000], mean action: 0.455 [0.000, 1.000],  loss: 0.489943, mae: 0.552441, mean_q: -0.048480, mean_eps: 0.997615\n",
            "   92/10000: episode: 2, duration: 0.672s, episode steps:  59, steps per second:  88, episode reward: 59.000, mean reward:  1.000 [ 1.000,  1.000], mean action: 0.475 [0.000, 1.000],  loss: 0.310318, mae: 0.464620, mean_q: 0.225458, mean_eps: 0.994420\n",
            "  104/10000: episode: 3, duration: 0.118s, episode steps:  12, steps per second: 102, episode reward: 12.000, mean reward:  1.000 [ 1.000,  1.000], mean action: 0.667 [0.000, 1.000],  loss: 0.198550, mae: 0.443566, mean_q: 0.416144, mean_eps: 0.991225\n",
            "  129/10000: episode: 4, duration: 0.283s, episode steps:  25, steps per second:  88, episode reward: 25.000, mean reward:  1.000 [ 1.000,  1.000], mean action: 0.480 [0.000, 1.000],  loss: 0.155486, mae: 0.451079, mean_q: 0.518494, mean_eps: 0.989560\n",
            "  153/10000: episode: 5, duration: 0.384s, episode steps:  24, steps per second:  62, episode reward: 24.000, mean reward:  1.000 [ 1.000,  1.000], mean action: 0.542 [0.000, 1.000],  loss: 0.112802, mae: 0.460078, mean_q: 0.616380, mean_eps: 0.987355\n",
            "  180/10000: episode: 6, duration: 0.304s, episode steps:  27, steps per second:  89, episode reward: 27.000, mean reward:  1.000 [ 1.000,  1.000], mean action: 0.444 [0.000, 1.000],  loss: 0.083005, mae: 0.460346, mean_q: 0.694890, mean_eps: 0.985060\n",
            "  193/10000: episode: 7, duration: 0.139s, episode steps:  13, steps per second:  94, episode reward: 13.000, mean reward:  1.000 [ 1.000,  1.000], mean action: 0.538 [0.000, 1.000],  loss: 0.061235, mae: 0.466369, mean_q: 0.745722, mean_eps: 0.983260\n",
            "  214/10000: episode: 8, duration: 0.227s, episode steps:  21, steps per second:  92, episode reward: 21.000, mean reward:  1.000 [ 1.000,  1.000], mean action: 0.429 [0.000, 1.000],  loss: 0.054304, mae: 0.468470, mean_q: 0.763690, mean_eps: 0.981730\n",
            "  238/10000: episode: 9, duration: 0.256s, episode steps:  24, steps per second:  94, episode reward: 24.000, mean reward:  1.000 [ 1.000,  1.000], mean action: 0.542 [0.000, 1.000],  loss: 0.041574, mae: 0.466997, mean_q: 0.788546, mean_eps: 0.979705\n",
            "  261/10000: episode: 10, duration: 0.385s, episode steps:  23, steps per second:  60, episode reward: 23.000, mean reward:  1.000 [ 1.000,  1.000], mean action: 0.565 [0.000, 1.000],  loss: 0.034583, mae: 0.465354, mean_q: 0.797915, mean_eps: 0.977590\n",
            "  282/10000: episode: 11, duration: 0.252s, episode steps:  21, steps per second:  83, episode reward: 21.000, mean reward:  1.000 [ 1.000,  1.000], mean action: 0.667 [0.000, 1.000],  loss: 0.029242, mae: 0.471655, mean_q: 0.832414, mean_eps: 0.975610\n",
            "  309/10000: episode: 12, duration: 0.274s, episode steps:  27, steps per second:  99, episode reward: 27.000, mean reward:  1.000 [ 1.000,  1.000], mean action: 0.593 [0.000, 1.000],  loss: 0.021527, mae: 0.478662, mean_q: 0.861973, mean_eps: 0.973450\n",
            "  322/10000: episode: 13, duration: 0.233s, episode steps:  13, steps per second:  56, episode reward: 13.000, mean reward:  1.000 [ 1.000,  1.000], mean action: 0.385 [0.000, 1.000],  loss: 0.015549, mae: 0.484064, mean_q: 0.895235, mean_eps: 0.971650\n",
            "  353/10000: episode: 14, duration: 0.388s, episode steps:  31, steps per second:  80, episode reward: 31.000, mean reward:  1.000 [ 1.000,  1.000], mean action: 0.484 [0.000, 1.000],  loss: 0.012748, mae: 0.487854, mean_q: 0.919741, mean_eps: 0.969670\n",
            "  399/10000: episode: 15, duration: 0.615s, episode steps:  46, steps per second:  75, episode reward: 46.000, mean reward:  1.000 [ 1.000,  1.000], mean action: 0.478 [0.000, 1.000],  loss: 0.011404, mae: 0.492151, mean_q: 0.923224, mean_eps: 0.966205\n",
            "  416/10000: episode: 16, duration: 0.169s, episode steps:  17, steps per second: 100, episode reward: 17.000, mean reward:  1.000 [ 1.000,  1.000], mean action: 0.294 [0.000, 1.000],  loss: 0.013845, mae: 0.490375, mean_q: 0.918162, mean_eps: 0.963370\n",
            "  439/10000: episode: 17, duration: 0.366s, episode steps:  23, steps per second:  63, episode reward: 23.000, mean reward:  1.000 [ 1.000,  1.000], mean action: 0.478 [0.000, 1.000],  loss: 0.014085, mae: 0.499549, mean_q: 0.940720, mean_eps: 0.961570\n",
            "  450/10000: episode: 18, duration: 0.126s, episode steps:  11, steps per second:  87, episode reward: 11.000, mean reward:  1.000 [ 1.000,  1.000], mean action: 0.364 [0.000, 1.000],  loss: 0.010879, mae: 0.485889, mean_q: 0.930592, mean_eps: 0.960040\n",
            "  480/10000: episode: 19, duration: 0.534s, episode steps:  30, steps per second:  56, episode reward: 30.000, mean reward:  1.000 [ 1.000,  1.000], mean action: 0.333 [0.000, 1.000],  loss: 0.008851, mae: 0.482094, mean_q: 0.927934, mean_eps: 0.958195\n",
            "  499/10000: episode: 20, duration: 0.571s, episode steps:  19, steps per second:  33, episode reward: 19.000, mean reward:  1.000 [ 1.000,  1.000], mean action: 0.474 [0.000, 1.000],  loss: 0.009293, mae: 0.486528, mean_q: 0.932315, mean_eps: 0.955990\n",
            "  526/10000: episode: 21, duration: 0.669s, episode steps:  27, steps per second:  40, episode reward: 27.000, mean reward:  1.000 [ 1.000,  1.000], mean action: 0.444 [0.000, 1.000],  loss: 0.007461, mae: 0.477607, mean_q: 0.936726, mean_eps: 0.953920\n",
            "  538/10000: episode: 22, duration: 0.299s, episode steps:  12, steps per second:  40, episode reward: 12.000, mean reward:  1.000 [ 1.000,  1.000], mean action: 0.250 [0.000, 1.000],  loss: 0.007198, mae: 0.480872, mean_q: 0.937589, mean_eps: 0.952165\n",
            "  578/10000: episode: 23, duration: 0.980s, episode steps:  40, steps per second:  41, episode reward: 40.000, mean reward:  1.000 [ 1.000,  1.000], mean action: 0.450 [0.000, 1.000],  loss: 0.006246, mae: 0.475042, mean_q: 0.932845, mean_eps: 0.949825\n",
            "  607/10000: episode: 24, duration: 0.338s, episode steps:  29, steps per second:  86, episode reward: 29.000, mean reward:  1.000 [ 1.000,  1.000], mean action: 0.586 [0.000, 1.000],  loss: 0.005400, mae: 0.473785, mean_q: 0.935129, mean_eps: 0.946720\n",
            "  618/10000: episode: 25, duration: 0.103s, episode steps:  11, steps per second: 106, episode reward: 11.000, mean reward:  1.000 [ 1.000,  1.000], mean action: 0.727 [0.000, 1.000],  loss: 0.006926, mae: 0.484163, mean_q: 0.951117, mean_eps: 0.944920\n",
            "  634/10000: episode: 26, duration: 0.236s, episode steps:  16, steps per second:  68, episode reward: 16.000, mean reward:  1.000 [ 1.000,  1.000], mean action: 0.625 [0.000, 1.000],  loss: 0.005472, mae: 0.480313, mean_q: 0.942913, mean_eps: 0.943705\n",
            "  664/10000: episode: 27, duration: 0.339s, episode steps:  30, steps per second:  89, episode reward: 30.000, mean reward:  1.000 [ 1.000,  1.000], mean action: 0.600 [0.000, 1.000],  loss: 0.005419, mae: 0.476715, mean_q: 0.938451, mean_eps: 0.941635\n",
            "  680/10000: episode: 28, duration: 0.160s, episode steps:  16, steps per second: 100, episode reward: 16.000, mean reward:  1.000 [ 1.000,  1.000], mean action: 0.625 [0.000, 1.000],  loss: 0.004781, mae: 0.481685, mean_q: 0.951643, mean_eps: 0.939565\n",
            "  701/10000: episode: 29, duration: 0.257s, episode steps:  21, steps per second:  82, episode reward: 21.000, mean reward:  1.000 [ 1.000,  1.000], mean action: 0.524 [0.000, 1.000],  loss: 0.005307, mae: 0.479094, mean_q: 0.948585, mean_eps: 0.937900\n",
            "  734/10000: episode: 30, duration: 0.354s, episode steps:  33, steps per second:  93, episode reward: 33.000, mean reward:  1.000 [ 1.000,  1.000], mean action: 0.455 [0.000, 1.000],  loss: 0.004772, mae: 0.478033, mean_q: 0.948219, mean_eps: 0.935470\n",
            "  748/10000: episode: 31, duration: 0.160s, episode steps:  14, steps per second:  88, episode reward: 14.000, mean reward:  1.000 [ 1.000,  1.000], mean action: 0.643 [0.000, 1.000],  loss: 0.004403, mae: 0.479345, mean_q: 0.948163, mean_eps: 0.933355\n",
            "  763/10000: episode: 32, duration: 0.316s, episode steps:  15, steps per second:  47, episode reward: 15.000, mean reward:  1.000 [ 1.000,  1.000], mean action: 0.533 [0.000, 1.000],  loss: 0.003462, mae: 0.476090, mean_q: 0.947963, mean_eps: 0.932050\n",
            "  777/10000: episode: 33, duration: 0.268s, episode steps:  14, steps per second:  52, episode reward: 14.000, mean reward:  1.000 [ 1.000,  1.000], mean action: 0.643 [0.000, 1.000],  loss: 0.004517, mae: 0.474826, mean_q: 0.939656, mean_eps: 0.930745\n",
            "  798/10000: episode: 34, duration: 0.275s, episode steps:  21, steps per second:  76, episode reward: 21.000, mean reward:  1.000 [ 1.000,  1.000], mean action: 0.429 [0.000, 1.000],  loss: 0.004149, mae: 0.474365, mean_q: 0.948563, mean_eps: 0.929170\n",
            "  811/10000: episode: 35, duration: 0.182s, episode steps:  13, steps per second:  71, episode reward: 13.000, mean reward:  1.000 [ 1.000,  1.000], mean action: 0.692 [0.000, 1.000],  loss: 0.002943, mae: 0.470378, mean_q: 0.942253, mean_eps: 0.927640\n",
            "  828/10000: episode: 36, duration: 0.201s, episode steps:  17, steps per second:  85, episode reward: 17.000, mean reward:  1.000 [ 1.000,  1.000], mean action: 0.647 [0.000, 1.000],  loss: 0.003176, mae: 0.468037, mean_q: 0.940390, mean_eps: 0.926290\n",
            "  844/10000: episode: 37, duration: 0.188s, episode steps:  16, steps per second:  85, episode reward: 16.000, mean reward:  1.000 [ 1.000,  1.000], mean action: 0.625 [0.000, 1.000],  loss: 0.003257, mae: 0.473836, mean_q: 0.951511, mean_eps: 0.924805\n",
            "  909/10000: episode: 38, duration: 0.847s, episode steps:  65, steps per second:  77, episode reward: 65.000, mean reward:  1.000 [ 1.000,  1.000], mean action: 0.508 [0.000, 1.000],  loss: 0.002749, mae: 0.470850, mean_q: 0.948696, mean_eps: 0.921160\n",
            "  930/10000: episode: 39, duration: 0.244s, episode steps:  21, steps per second:  86, episode reward: 21.000, mean reward:  1.000 [ 1.000,  1.000], mean action: 0.381 [0.000, 1.000],  loss: 0.002843, mae: 0.470734, mean_q: 0.947904, mean_eps: 0.917290\n",
            "  964/10000: episode: 40, duration: 0.350s, episode steps:  34, steps per second:  97, episode reward: 34.000, mean reward:  1.000 [ 1.000,  1.000], mean action: 0.471 [0.000, 1.000],  loss: 0.002530, mae: 0.467598, mean_q: 0.947624, mean_eps: 0.914815\n",
            "  982/10000: episode: 41, duration: 0.190s, episode steps:  18, steps per second:  95, episode reward: 18.000, mean reward:  1.000 [ 1.000,  1.000], mean action: 0.444 [0.000, 1.000],  loss: 0.002484, mae: 0.471429, mean_q: 0.950834, mean_eps: 0.912475\n",
            " 1001/10000: episode: 42, duration: 0.219s, episode steps:  19, steps per second:  87, episode reward: 19.000, mean reward:  1.000 [ 1.000,  1.000], mean action: 0.632 [0.000, 1.000],  loss: 0.002339, mae: 0.467650, mean_q: 0.949684, mean_eps: 0.910810\n",
            " 1072/10000: episode: 43, duration: 0.905s, episode steps:  71, steps per second:  78, episode reward: 71.000, mean reward:  1.000 [ 1.000,  1.000], mean action: 0.493 [0.000, 1.000],  loss: 0.136225, mae: 0.975184, mean_q: 1.633244, mean_eps: 0.906760\n",
            " 1096/10000: episode: 44, duration: 0.280s, episode steps:  24, steps per second:  86, episode reward: 24.000, mean reward:  1.000 [ 1.000,  1.000], mean action: 0.417 [0.000, 1.000],  loss: 0.018367, mae: 0.998920, mean_q: 1.939393, mean_eps: 0.902485\n",
            " 1152/10000: episode: 45, duration: 0.354s, episode steps:  56, steps per second: 158, episode reward: 56.000, mean reward:  1.000 [ 1.000,  1.000], mean action: 0.554 [0.000, 1.000],  loss: 0.018425, mae: 0.995614, mean_q: 1.939851, mean_eps: 0.898885\n",
            " 1180/10000: episode: 46, duration: 0.188s, episode steps:  28, steps per second: 149, episode reward: 28.000, mean reward:  1.000 [ 1.000,  1.000], mean action: 0.357 [0.000, 1.000],  loss: 0.016729, mae: 0.992845, mean_q: 1.933125, mean_eps: 0.895105\n",
            " 1198/10000: episode: 47, duration: 0.122s, episode steps:  18, steps per second: 147, episode reward: 18.000, mean reward:  1.000 [ 1.000,  1.000], mean action: 0.389 [0.000, 1.000],  loss: 0.014629, mae: 0.986313, mean_q: 1.930075, mean_eps: 0.893035\n",
            " 1210/10000: episode: 48, duration: 0.081s, episode steps:  12, steps per second: 148, episode reward: 12.000, mean reward:  1.000 [ 1.000,  1.000], mean action: 0.750 [0.000, 1.000],  loss: 0.012965, mae: 0.987882, mean_q: 1.938947, mean_eps: 0.891685\n",
            " 1235/10000: episode: 49, duration: 0.164s, episode steps:  25, steps per second: 152, episode reward: 25.000, mean reward:  1.000 [ 1.000,  1.000], mean action: 0.360 [0.000, 1.000],  loss: 0.017319, mae: 0.992320, mean_q: 1.935185, mean_eps: 0.890020\n",
            " 1251/10000: episode: 50, duration: 0.103s, episode steps:  16, steps per second: 156, episode reward: 16.000, mean reward:  1.000 [ 1.000,  1.000], mean action: 0.688 [0.000, 1.000],  loss: 0.018057, mae: 0.990377, mean_q: 1.925863, mean_eps: 0.888175\n",
            " 1293/10000: episode: 51, duration: 0.251s, episode steps:  42, steps per second: 167, episode reward: 42.000, mean reward:  1.000 [ 1.000,  1.000], mean action: 0.619 [0.000, 1.000],  loss: 0.014191, mae: 0.988411, mean_q: 1.925336, mean_eps: 0.885565\n",
            " 1309/10000: episode: 52, duration: 0.096s, episode steps:  16, steps per second: 166, episode reward: 16.000, mean reward:  1.000 [ 1.000,  1.000], mean action: 0.438 [0.000, 1.000],  loss: 0.014032, mae: 0.983162, mean_q: 1.920366, mean_eps: 0.882955\n",
            " 1345/10000: episode: 53, duration: 0.231s, episode steps:  36, steps per second: 156, episode reward: 36.000, mean reward:  1.000 [ 1.000,  1.000], mean action: 0.528 [0.000, 1.000],  loss: 0.014871, mae: 0.991981, mean_q: 1.942187, mean_eps: 0.880615\n",
            " 1355/10000: episode: 54, duration: 0.070s, episode steps:  10, steps per second: 143, episode reward: 10.000, mean reward:  1.000 [ 1.000,  1.000], mean action: 0.300 [0.000, 1.000],  loss: 0.011190, mae: 0.988370, mean_q: 1.940967, mean_eps: 0.878545\n",
            " 1417/10000: episode: 55, duration: 0.414s, episode steps:  62, steps per second: 150, episode reward: 62.000, mean reward:  1.000 [ 1.000,  1.000], mean action: 0.484 [0.000, 1.000],  loss: 0.015723, mae: 0.990479, mean_q: 1.936864, mean_eps: 0.875305\n",
            " 1442/10000: episode: 56, duration: 0.159s, episode steps:  25, steps per second: 158, episode reward: 25.000, mean reward:  1.000 [ 1.000,  1.000], mean action: 0.400 [0.000, 1.000],  loss: 0.014351, mae: 0.987556, mean_q: 1.931157, mean_eps: 0.871390\n",
            " 1478/10000: episode: 57, duration: 0.231s, episode steps:  36, steps per second: 156, episode reward: 36.000, mean reward:  1.000 [ 1.000,  1.000], mean action: 0.500 [0.000, 1.000],  loss: 0.015113, mae: 0.986015, mean_q: 1.936283, mean_eps: 0.868645\n",
            " 1494/10000: episode: 58, duration: 0.112s, episode steps:  16, steps per second: 142, episode reward: 16.000, mean reward:  1.000 [ 1.000,  1.000], mean action: 0.562 [0.000, 1.000],  loss: 0.008431, mae: 0.982906, mean_q: 1.953423, mean_eps: 0.866305\n",
            " 1548/10000: episode: 59, duration: 0.331s, episode steps:  54, steps per second: 163, episode reward: 54.000, mean reward:  1.000 [ 1.000,  1.000], mean action: 0.519 [0.000, 1.000],  loss: 0.012542, mae: 0.986774, mean_q: 1.940685, mean_eps: 0.863155\n",
            " 1601/10000: episode: 60, duration: 0.308s, episode steps:  53, steps per second: 172, episode reward: 53.000, mean reward:  1.000 [ 1.000,  1.000], mean action: 0.491 [0.000, 1.000],  loss: 0.013183, mae: 0.986487, mean_q: 1.941491, mean_eps: 0.858340\n",
            " 1626/10000: episode: 61, duration: 0.143s, episode steps:  25, steps per second: 175, episode reward: 25.000, mean reward:  1.000 [ 1.000,  1.000], mean action: 0.480 [0.000, 1.000],  loss: 0.011428, mae: 0.986601, mean_q: 1.937743, mean_eps: 0.854830\n",
            " 1649/10000: episode: 62, duration: 0.151s, episode steps:  23, steps per second: 152, episode reward: 23.000, mean reward:  1.000 [ 1.000,  1.000], mean action: 0.522 [0.000, 1.000],  loss: 0.015018, mae: 0.989275, mean_q: 1.934025, mean_eps: 0.852670\n",
            " 1664/10000: episode: 63, duration: 0.125s, episode steps:  15, steps per second: 120, episode reward: 15.000, mean reward:  1.000 [ 1.000,  1.000], mean action: 0.333 [0.000, 1.000],  loss: 0.013890, mae: 0.985392, mean_q: 1.934759, mean_eps: 0.850960\n",
            " 1719/10000: episode: 64, duration: 0.491s, episode steps:  55, steps per second: 112, episode reward: 55.000, mean reward:  1.000 [ 1.000,  1.000], mean action: 0.455 [0.000, 1.000],  loss: 0.012264, mae: 0.986194, mean_q: 1.938702, mean_eps: 0.847810\n",
            " 1765/10000: episode: 65, duration: 0.420s, episode steps:  46, steps per second: 110, episode reward: 46.000, mean reward:  1.000 [ 1.000,  1.000], mean action: 0.543 [0.000, 1.000],  loss: 0.012565, mae: 0.987069, mean_q: 1.939221, mean_eps: 0.843265\n",
            " 1787/10000: episode: 66, duration: 0.226s, episode steps:  22, steps per second:  98, episode reward: 22.000, mean reward:  1.000 [ 1.000,  1.000], mean action: 0.455 [0.000, 1.000],  loss: 0.010201, mae: 0.987960, mean_q: 1.946304, mean_eps: 0.840205\n",
            " 1815/10000: episode: 67, duration: 0.243s, episode steps:  28, steps per second: 115, episode reward: 28.000, mean reward:  1.000 [ 1.000,  1.000], mean action: 0.464 [0.000, 1.000],  loss: 0.011065, mae: 0.987027, mean_q: 1.948501, mean_eps: 0.837955\n",
            " 1826/10000: episode: 68, duration: 0.110s, episode steps:  11, steps per second: 100, episode reward: 11.000, mean reward:  1.000 [ 1.000,  1.000], mean action: 0.091 [0.000, 1.000],  loss: 0.012785, mae: 0.984988, mean_q: 1.948690, mean_eps: 0.836200\n",
            " 1877/10000: episode: 69, duration: 0.463s, episode steps:  51, steps per second: 110, episode reward: 51.000, mean reward:  1.000 [ 1.000,  1.000], mean action: 0.490 [0.000, 1.000],  loss: 0.013135, mae: 0.985429, mean_q: 1.942990, mean_eps: 0.833410\n",
            " 1902/10000: episode: 70, duration: 0.242s, episode steps:  25, steps per second: 103, episode reward: 25.000, mean reward:  1.000 [ 1.000,  1.000], mean action: 0.440 [0.000, 1.000],  loss: 0.015269, mae: 0.983998, mean_q: 1.931623, mean_eps: 0.829990\n",
            " 1912/10000: episode: 71, duration: 0.098s, episode steps:  10, steps per second: 102, episode reward: 10.000, mean reward:  1.000 [ 1.000,  1.000], mean action: 0.700 [0.000, 1.000],  loss: 0.009267, mae: 0.985371, mean_q: 1.941268, mean_eps: 0.828415\n",
            " 1939/10000: episode: 72, duration: 0.201s, episode steps:  27, steps per second: 134, episode reward: 27.000, mean reward:  1.000 [ 1.000,  1.000], mean action: 0.407 [0.000, 1.000],  loss: 0.014210, mae: 0.985474, mean_q: 1.938308, mean_eps: 0.826750\n",
            " 1964/10000: episode: 73, duration: 0.149s, episode steps:  25, steps per second: 168, episode reward: 25.000, mean reward:  1.000 [ 1.000,  1.000], mean action: 0.480 [0.000, 1.000],  loss: 0.010857, mae: 0.983340, mean_q: 1.941232, mean_eps: 0.824410\n",
            " 1982/10000: episode: 74, duration: 0.125s, episode steps:  18, steps per second: 145, episode reward: 18.000, mean reward:  1.000 [ 1.000,  1.000], mean action: 0.667 [0.000, 1.000],  loss: 0.015246, mae: 0.987433, mean_q: 1.945619, mean_eps: 0.822475\n",
            " 1999/10000: episode: 75, duration: 0.118s, episode steps:  17, steps per second: 144, episode reward: 17.000, mean reward:  1.000 [ 1.000,  1.000], mean action: 0.471 [0.000, 1.000],  loss: 0.009435, mae: 0.982514, mean_q: 1.943827, mean_eps: 0.820900\n",
            " 2009/10000: episode: 76, duration: 0.076s, episode steps:  10, steps per second: 132, episode reward: 10.000, mean reward:  1.000 [ 1.000,  1.000], mean action: 0.300 [0.000, 1.000],  loss: 0.351109, mae: 1.359954, mean_q: 2.016859, mean_eps: 0.819685\n",
            " 2034/10000: episode: 77, duration: 0.170s, episode steps:  25, steps per second: 147, episode reward: 25.000, mean reward:  1.000 [ 1.000,  1.000], mean action: 0.440 [0.000, 1.000],  loss: 0.119561, mae: 1.491374, mean_q: 2.665457, mean_eps: 0.818110\n",
            " 2127/10000: episode: 78, duration: 0.587s, episode steps:  93, steps per second: 158, episode reward: 93.000, mean reward:  1.000 [ 1.000,  1.000], mean action: 0.462 [0.000, 1.000],  loss: 0.057826, mae: 1.498638, mean_q: 2.901820, mean_eps: 0.812800\n",
            " 2141/10000: episode: 79, duration: 0.094s, episode steps:  14, steps per second: 149, episode reward: 14.000, mean reward:  1.000 [ 1.000,  1.000], mean action: 0.643 [0.000, 1.000],  loss: 0.064222, mae: 1.497784, mean_q: 2.882618, mean_eps: 0.807985\n",
            " 2154/10000: episode: 80, duration: 0.097s, episode steps:  13, steps per second: 135, episode reward: 13.000, mean reward:  1.000 [ 1.000,  1.000], mean action: 0.154 [0.000, 1.000],  loss: 0.050875, mae: 1.486154, mean_q: 2.869409, mean_eps: 0.806770\n",
            " 2180/10000: episode: 81, duration: 0.177s, episode steps:  26, steps per second: 147, episode reward: 26.000, mean reward:  1.000 [ 1.000,  1.000], mean action: 0.423 [0.000, 1.000],  loss: 0.040248, mae: 1.491679, mean_q: 2.908874, mean_eps: 0.805015\n",
            " 2193/10000: episode: 82, duration: 0.085s, episode steps:  13, steps per second: 153, episode reward: 13.000, mean reward:  1.000 [ 1.000,  1.000], mean action: 0.231 [0.000, 1.000],  loss: 0.042203, mae: 1.487109, mean_q: 2.909732, mean_eps: 0.803260\n",
            " 2240/10000: episode: 83, duration: 0.295s, episode steps:  47, steps per second: 159, episode reward: 47.000, mean reward:  1.000 [ 1.000,  1.000], mean action: 0.511 [0.000, 1.000],  loss: 0.045133, mae: 1.487102, mean_q: 2.894158, mean_eps: 0.800560\n",
            " 2272/10000: episode: 84, duration: 0.234s, episode steps:  32, steps per second: 137, episode reward: 32.000, mean reward:  1.000 [ 1.000,  1.000], mean action: 0.469 [0.000, 1.000],  loss: 0.054089, mae: 1.489170, mean_q: 2.870013, mean_eps: 0.797005\n",
            " 2309/10000: episode: 85, duration: 0.252s, episode steps:  37, steps per second: 147, episode reward: 37.000, mean reward:  1.000 [ 1.000,  1.000], mean action: 0.514 [0.000, 1.000],  loss: 0.052027, mae: 1.498602, mean_q: 2.901652, mean_eps: 0.793900\n",
            " 2332/10000: episode: 86, duration: 0.151s, episode steps:  23, steps per second: 153, episode reward: 23.000, mean reward:  1.000 [ 1.000,  1.000], mean action: 0.522 [0.000, 1.000],  loss: 0.059632, mae: 1.493062, mean_q: 2.870118, mean_eps: 0.791200\n",
            " 2347/10000: episode: 87, duration: 0.104s, episode steps:  15, steps per second: 145, episode reward: 15.000, mean reward:  1.000 [ 1.000,  1.000], mean action: 0.467 [0.000, 1.000],  loss: 0.051673, mae: 1.488871, mean_q: 2.889079, mean_eps: 0.789490\n",
            " 2378/10000: episode: 88, duration: 0.195s, episode steps:  31, steps per second: 159, episode reward: 31.000, mean reward:  1.000 [ 1.000,  1.000], mean action: 0.484 [0.000, 1.000],  loss: 0.048953, mae: 1.490243, mean_q: 2.900547, mean_eps: 0.787420\n",
            " 2466/10000: episode: 89, duration: 0.568s, episode steps:  88, steps per second: 155, episode reward: 88.000, mean reward:  1.000 [ 1.000,  1.000], mean action: 0.466 [0.000, 1.000],  loss: 0.050789, mae: 1.495925, mean_q: 2.905387, mean_eps: 0.782065\n",
            " 2486/10000: episode: 90, duration: 0.128s, episode steps:  20, steps per second: 156, episode reward: 20.000, mean reward:  1.000 [ 1.000,  1.000], mean action: 0.450 [0.000, 1.000],  loss: 0.051067, mae: 1.493998, mean_q: 2.901761, mean_eps: 0.777205\n",
            " 2510/10000: episode: 91, duration: 0.166s, episode steps:  24, steps per second: 145, episode reward: 24.000, mean reward:  1.000 [ 1.000,  1.000], mean action: 0.500 [0.000, 1.000],  loss: 0.051969, mae: 1.494926, mean_q: 2.907930, mean_eps: 0.775225\n",
            " 2558/10000: episode: 92, duration: 0.303s, episode steps:  48, steps per second: 158, episode reward: 48.000, mean reward:  1.000 [ 1.000,  1.000], mean action: 0.500 [0.000, 1.000],  loss: 0.040836, mae: 1.490062, mean_q: 2.903649, mean_eps: 0.771985\n",
            " 2648/10000: episode: 93, duration: 0.585s, episode steps:  90, steps per second: 154, episode reward: 90.000, mean reward:  1.000 [ 1.000,  1.000], mean action: 0.489 [0.000, 1.000],  loss: 0.050286, mae: 1.489651, mean_q: 2.882987, mean_eps: 0.765775\n",
            " 2741/10000: episode: 94, duration: 0.586s, episode steps:  93, steps per second: 159, episode reward: 93.000, mean reward:  1.000 [ 1.000,  1.000], mean action: 0.495 [0.000, 1.000],  loss: 0.042940, mae: 1.488842, mean_q: 2.899083, mean_eps: 0.757540\n",
            " 2771/10000: episode: 95, duration: 0.203s, episode steps:  30, steps per second: 148, episode reward: 30.000, mean reward:  1.000 [ 1.000,  1.000], mean action: 0.433 [0.000, 1.000],  loss: 0.053980, mae: 1.495512, mean_q: 2.903504, mean_eps: 0.752005\n",
            " 2813/10000: episode: 96, duration: 0.289s, episode steps:  42, steps per second: 146, episode reward: 42.000, mean reward:  1.000 [ 1.000,  1.000], mean action: 0.571 [0.000, 1.000],  loss: 0.047318, mae: 1.492065, mean_q: 2.896154, mean_eps: 0.748765\n",
            " 2844/10000: episode: 97, duration: 0.194s, episode steps:  31, steps per second: 160, episode reward: 31.000, mean reward:  1.000 [ 1.000,  1.000], mean action: 0.516 [0.000, 1.000],  loss: 0.044983, mae: 1.490906, mean_q: 2.898003, mean_eps: 0.745480\n",
            " 2860/10000: episode: 98, duration: 0.106s, episode steps:  16, steps per second: 151, episode reward: 16.000, mean reward:  1.000 [ 1.000,  1.000], mean action: 0.500 [0.000, 1.000],  loss: 0.037286, mae: 1.487148, mean_q: 2.896274, mean_eps: 0.743365\n",
            " 2895/10000: episode: 99, duration: 0.226s, episode steps:  35, steps per second: 155, episode reward: 35.000, mean reward:  1.000 [ 1.000,  1.000], mean action: 0.400 [0.000, 1.000],  loss: 0.039602, mae: 1.492188, mean_q: 2.904469, mean_eps: 0.741070\n",
            " 2919/10000: episode: 100, duration: 0.157s, episode steps:  24, steps per second: 153, episode reward: 24.000, mean reward:  1.000 [ 1.000,  1.000], mean action: 0.458 [0.000, 1.000],  loss: 0.034912, mae: 1.488765, mean_q: 2.908413, mean_eps: 0.738415\n",
            " 2956/10000: episode: 101, duration: 0.261s, episode steps:  37, steps per second: 142, episode reward: 37.000, mean reward:  1.000 [ 1.000,  1.000], mean action: 0.514 [0.000, 1.000],  loss: 0.035224, mae: 1.492676, mean_q: 2.923601, mean_eps: 0.735670\n",
            " 2970/10000: episode: 102, duration: 0.094s, episode steps:  14, steps per second: 150, episode reward: 14.000, mean reward:  1.000 [ 1.000,  1.000], mean action: 0.714 [0.000, 1.000],  loss: 0.043769, mae: 1.488700, mean_q: 2.890097, mean_eps: 0.733375\n",
            " 3024/10000: episode: 103, duration: 0.337s, episode steps:  54, steps per second: 160, episode reward: 54.000, mean reward:  1.000 [ 1.000,  1.000], mean action: 0.463 [0.000, 1.000],  loss: 0.142706, mae: 1.679809, mean_q: 3.043699, mean_eps: 0.730315\n",
            " 3049/10000: episode: 104, duration: 0.160s, episode steps:  25, steps per second: 157, episode reward: 25.000, mean reward:  1.000 [ 1.000,  1.000], mean action: 0.440 [0.000, 1.000],  loss: 0.108197, mae: 1.981460, mean_q: 3.855332, mean_eps: 0.726760\n",
            " 3074/10000: episode: 105, duration: 0.171s, episode steps:  25, steps per second: 146, episode reward: 25.000, mean reward:  1.000 [ 1.000,  1.000], mean action: 0.480 [0.000, 1.000],  loss: 0.093361, mae: 1.957698, mean_q: 3.806621, mean_eps: 0.724510\n",
            " 3084/10000: episode: 106, duration: 0.083s, episode steps:  10, steps per second: 121, episode reward: 10.000, mean reward:  1.000 [ 1.000,  1.000], mean action: 0.600 [0.000, 1.000],  loss: 0.090263, mae: 1.954380, mean_q: 3.806529, mean_eps: 0.722935\n",
            " 3141/10000: episode: 107, duration: 0.371s, episode steps:  57, steps per second: 154, episode reward: 57.000, mean reward:  1.000 [ 1.000,  1.000], mean action: 0.509 [0.000, 1.000],  loss: 0.073484, mae: 1.953014, mean_q: 3.819465, mean_eps: 0.719920\n",
            " 3158/10000: episode: 108, duration: 0.110s, episode steps:  17, steps per second: 154, episode reward: 17.000, mean reward:  1.000 [ 1.000,  1.000], mean action: 0.588 [0.000, 1.000],  loss: 0.098563, mae: 1.959613, mean_q: 3.812874, mean_eps: 0.716590\n",
            " 3172/10000: episode: 109, duration: 0.089s, episode steps:  14, steps per second: 157, episode reward: 14.000, mean reward:  1.000 [ 1.000,  1.000], mean action: 0.357 [0.000, 1.000],  loss: 0.077718, mae: 1.945410, mean_q: 3.773145, mean_eps: 0.715195\n",
            " 3213/10000: episode: 110, duration: 0.257s, episode steps:  41, steps per second: 160, episode reward: 41.000, mean reward:  1.000 [ 1.000,  1.000], mean action: 0.488 [0.000, 1.000],  loss: 0.081873, mae: 1.955091, mean_q: 3.815518, mean_eps: 0.712720\n",
            " 3251/10000: episode: 111, duration: 0.256s, episode steps:  38, steps per second: 148, episode reward: 38.000, mean reward:  1.000 [ 1.000,  1.000], mean action: 0.474 [0.000, 1.000],  loss: 0.094765, mae: 1.957158, mean_q: 3.806566, mean_eps: 0.709165\n",
            " 3288/10000: episode: 112, duration: 0.263s, episode steps:  37, steps per second: 141, episode reward: 37.000, mean reward:  1.000 [ 1.000,  1.000], mean action: 0.514 [0.000, 1.000],  loss: 0.093493, mae: 1.956020, mean_q: 3.796828, mean_eps: 0.705790\n",
            " 3350/10000: episode: 113, duration: 0.381s, episode steps:  62, steps per second: 163, episode reward: 62.000, mean reward:  1.000 [ 1.000,  1.000], mean action: 0.452 [0.000, 1.000],  loss: 0.089479, mae: 1.958427, mean_q: 3.814876, mean_eps: 0.701335\n",
            " 3369/10000: episode: 114, duration: 0.134s, episode steps:  19, steps per second: 142, episode reward: 19.000, mean reward:  1.000 [ 1.000,  1.000], mean action: 0.474 [0.000, 1.000],  loss: 0.106299, mae: 1.955052, mean_q: 3.800789, mean_eps: 0.697690\n",
            " 3430/10000: episode: 115, duration: 0.415s, episode steps:  61, steps per second: 147, episode reward: 61.000, mean reward:  1.000 [ 1.000,  1.000], mean action: 0.459 [0.000, 1.000],  loss: 0.090499, mae: 1.957989, mean_q: 3.800329, mean_eps: 0.694090\n",
            " 3464/10000: episode: 116, duration: 0.315s, episode steps:  34, steps per second: 108, episode reward: 34.000, mean reward:  1.000 [ 1.000,  1.000], mean action: 0.500 [0.000, 1.000],  loss: 0.068587, mae: 1.963677, mean_q: 3.837149, mean_eps: 0.689815\n",
            " 3527/10000: episode: 117, duration: 0.581s, episode steps:  63, steps per second: 108, episode reward: 63.000, mean reward:  1.000 [ 1.000,  1.000], mean action: 0.508 [0.000, 1.000],  loss: 0.076308, mae: 1.961131, mean_q: 3.828931, mean_eps: 0.685450\n",
            " 3582/10000: episode: 118, duration: 0.479s, episode steps:  55, steps per second: 115, episode reward: 55.000, mean reward:  1.000 [ 1.000,  1.000], mean action: 0.527 [0.000, 1.000],  loss: 0.084226, mae: 1.956124, mean_q: 3.799867, mean_eps: 0.680140\n",
            " 3600/10000: episode: 119, duration: 0.171s, episode steps:  18, steps per second: 105, episode reward: 18.000, mean reward:  1.000 [ 1.000,  1.000], mean action: 0.556 [0.000, 1.000],  loss: 0.097500, mae: 1.972246, mean_q: 3.831916, mean_eps: 0.676855\n",
            " 3647/10000: episode: 120, duration: 0.448s, episode steps:  47, steps per second: 105, episode reward: 47.000, mean reward:  1.000 [ 1.000,  1.000], mean action: 0.489 [0.000, 1.000],  loss: 0.086552, mae: 1.956647, mean_q: 3.800563, mean_eps: 0.673930\n",
            " 3700/10000: episode: 121, duration: 0.501s, episode steps:  53, steps per second: 106, episode reward: 53.000, mean reward:  1.000 [ 1.000,  1.000], mean action: 0.491 [0.000, 1.000],  loss: 0.070418, mae: 1.961223, mean_q: 3.833491, mean_eps: 0.669430\n",
            " 3780/10000: episode: 122, duration: 0.536s, episode steps:  80, steps per second: 149, episode reward: 80.000, mean reward:  1.000 [ 1.000,  1.000], mean action: 0.463 [0.000, 1.000],  loss: 0.066073, mae: 1.960636, mean_q: 3.833588, mean_eps: 0.663445\n",
            " 3812/10000: episode: 123, duration: 0.199s, episode steps:  32, steps per second: 161, episode reward: 32.000, mean reward:  1.000 [ 1.000,  1.000], mean action: 0.500 [0.000, 1.000],  loss: 0.081696, mae: 1.959631, mean_q: 3.817220, mean_eps: 0.658405\n",
            " 3822/10000: episode: 124, duration: 0.068s, episode steps:  10, steps per second: 147, episode reward: 10.000, mean reward:  1.000 [ 1.000,  1.000], mean action: 0.700 [0.000, 1.000],  loss: 0.097165, mae: 1.955109, mean_q: 3.788820, mean_eps: 0.656515\n",
            " 3835/10000: episode: 125, duration: 0.085s, episode steps:  13, steps per second: 152, episode reward: 13.000, mean reward:  1.000 [ 1.000,  1.000], mean action: 0.615 [0.000, 1.000],  loss: 0.066348, mae: 1.941660, mean_q: 3.799960, mean_eps: 0.655480\n",
            " 3880/10000: episode: 126, duration: 0.295s, episode steps:  45, steps per second: 153, episode reward: 45.000, mean reward:  1.000 [ 1.000,  1.000], mean action: 0.378 [0.000, 1.000],  loss: 0.083513, mae: 1.959379, mean_q: 3.832792, mean_eps: 0.652870\n",
            " 3931/10000: episode: 127, duration: 0.332s, episode steps:  51, steps per second: 154, episode reward: 51.000, mean reward:  1.000 [ 1.000,  1.000], mean action: 0.529 [0.000, 1.000],  loss: 0.086498, mae: 1.954904, mean_q: 3.808840, mean_eps: 0.648550\n",
            " 4008/10000: episode: 128, duration: 0.486s, episode steps:  77, steps per second: 158, episode reward: 77.000, mean reward:  1.000 [ 1.000,  1.000], mean action: 0.519 [0.000, 1.000],  loss: 0.112141, mae: 1.996406, mean_q: 3.826437, mean_eps: 0.642790\n",
            " 4065/10000: episode: 129, duration: 0.361s, episode steps:  57, steps per second: 158, episode reward: 57.000, mean reward:  1.000 [ 1.000,  1.000], mean action: 0.526 [0.000, 1.000],  loss: 0.174728, mae: 2.414082, mean_q: 4.631151, mean_eps: 0.636760\n",
            " 4140/10000: episode: 130, duration: 0.469s, episode steps:  75, steps per second: 160, episode reward: 75.000, mean reward:  1.000 [ 1.000,  1.000], mean action: 0.480 [0.000, 1.000],  loss: 0.100362, mae: 2.391596, mean_q: 4.710816, mean_eps: 0.630820\n",
            " 4195/10000: episode: 131, duration: 0.353s, episode steps:  55, steps per second: 156, episode reward: 55.000, mean reward:  1.000 [ 1.000,  1.000], mean action: 0.509 [0.000, 1.000],  loss: 0.106449, mae: 2.397531, mean_q: 4.723673, mean_eps: 0.624970\n",
            " 4215/10000: episode: 132, duration: 0.129s, episode steps:  20, steps per second: 155, episode reward: 20.000, mean reward:  1.000 [ 1.000,  1.000], mean action: 0.450 [0.000, 1.000],  loss: 0.098114, mae: 2.394865, mean_q: 4.706819, mean_eps: 0.621595\n",
            " 4328/10000: episode: 133, duration: 0.710s, episode steps: 113, steps per second: 159, episode reward: 113.000, mean reward:  1.000 [ 1.000,  1.000], mean action: 0.478 [0.000, 1.000],  loss: 0.103792, mae: 2.398672, mean_q: 4.710802, mean_eps: 0.615610\n",
            " 4366/10000: episode: 134, duration: 0.249s, episode steps:  38, steps per second: 153, episode reward: 38.000, mean reward:  1.000 [ 1.000,  1.000], mean action: 0.447 [0.000, 1.000],  loss: 0.116794, mae: 2.412381, mean_q: 4.736440, mean_eps: 0.608815\n",
            " 4435/10000: episode: 135, duration: 0.435s, episode steps:  69, steps per second: 159, episode reward: 69.000, mean reward:  1.000 [ 1.000,  1.000], mean action: 0.478 [0.000, 1.000],  loss: 0.110544, mae: 2.404442, mean_q: 4.706675, mean_eps: 0.604000\n",
            " 4525/10000: episode: 136, duration: 0.567s, episode steps:  90, steps per second: 159, episode reward: 90.000, mean reward:  1.000 [ 1.000,  1.000], mean action: 0.511 [0.000, 1.000],  loss: 0.130620, mae: 2.410100, mean_q: 4.712744, mean_eps: 0.596845\n",
            " 4576/10000: episode: 137, duration: 0.324s, episode steps:  51, steps per second: 158, episode reward: 51.000, mean reward:  1.000 [ 1.000,  1.000], mean action: 0.569 [0.000, 1.000],  loss: 0.100103, mae: 2.410659, mean_q: 4.725997, mean_eps: 0.590500\n",
            " 4614/10000: episode: 138, duration: 0.248s, episode steps:  38, steps per second: 153, episode reward: 38.000, mean reward:  1.000 [ 1.000,  1.000], mean action: 0.500 [0.000, 1.000],  loss: 0.105396, mae: 2.402640, mean_q: 4.702484, mean_eps: 0.586495\n",
            " 4629/10000: episode: 139, duration: 0.100s, episode steps:  15, steps per second: 150, episode reward: 15.000, mean reward:  1.000 [ 1.000,  1.000], mean action: 0.600 [0.000, 1.000],  loss: 0.092248, mae: 2.407224, mean_q: 4.717674, mean_eps: 0.584110\n",
            " 4654/10000: episode: 140, duration: 0.164s, episode steps:  25, steps per second: 152, episode reward: 25.000, mean reward:  1.000 [ 1.000,  1.000], mean action: 0.520 [0.000, 1.000],  loss: 0.076947, mae: 2.405731, mean_q: 4.738425, mean_eps: 0.582310\n",
            " 4762/10000: episode: 141, duration: 0.657s, episode steps: 108, steps per second: 164, episode reward: 108.000, mean reward:  1.000 [ 1.000,  1.000], mean action: 0.519 [0.000, 1.000],  loss: 0.099227, mae: 2.410966, mean_q: 4.730683, mean_eps: 0.576325\n",
            " 4816/10000: episode: 142, duration: 0.355s, episode steps:  54, steps per second: 152, episode reward: 54.000, mean reward:  1.000 [ 1.000,  1.000], mean action: 0.481 [0.000, 1.000],  loss: 0.105756, mae: 2.410480, mean_q: 4.719918, mean_eps: 0.569035\n",
            " 4886/10000: episode: 143, duration: 0.473s, episode steps:  70, steps per second: 148, episode reward: 70.000, mean reward:  1.000 [ 1.000,  1.000], mean action: 0.500 [0.000, 1.000],  loss: 0.090050, mae: 2.416325, mean_q: 4.739489, mean_eps: 0.563455\n",
            " 4996/10000: episode: 144, duration: 0.692s, episode steps: 110, steps per second: 159, episode reward: 110.000, mean reward:  1.000 [ 1.000,  1.000], mean action: 0.464 [0.000, 1.000],  loss: 0.105262, mae: 2.410297, mean_q: 4.723247, mean_eps: 0.555355\n",
            " 5012/10000: episode: 145, duration: 0.102s, episode steps:  16, steps per second: 156, episode reward: 16.000, mean reward:  1.000 [ 1.000,  1.000], mean action: 0.438 [0.000, 1.000],  loss: 0.308705, mae: 2.713002, mean_q: 4.884940, mean_eps: 0.549685\n",
            " 5164/10000: episode: 146, duration: 0.949s, episode steps: 152, steps per second: 160, episode reward: 152.000, mean reward:  1.000 [ 1.000,  1.000], mean action: 0.480 [0.000, 1.000],  loss: 0.155645, mae: 2.872664, mean_q: 5.634596, mean_eps: 0.542125\n",
            " 5255/10000: episode: 147, duration: 0.745s, episode steps:  91, steps per second: 122, episode reward: 91.000, mean reward:  1.000 [ 1.000,  1.000], mean action: 0.505 [0.000, 1.000],  loss: 0.155335, mae: 2.874327, mean_q: 5.627940, mean_eps: 0.531190\n",
            " 5290/10000: episode: 148, duration: 0.365s, episode steps:  35, steps per second:  96, episode reward: 35.000, mean reward:  1.000 [ 1.000,  1.000], mean action: 0.514 [0.000, 1.000],  loss: 0.173308, mae: 2.866403, mean_q: 5.607243, mean_eps: 0.525520\n",
            " 5361/10000: episode: 149, duration: 0.639s, episode steps:  71, steps per second: 111, episode reward: 71.000, mean reward:  1.000 [ 1.000,  1.000], mean action: 0.521 [0.000, 1.000],  loss: 0.101124, mae: 2.882260, mean_q: 5.680707, mean_eps: 0.520750\n",
            " 5382/10000: episode: 150, duration: 0.225s, episode steps:  21, steps per second:  93, episode reward: 21.000, mean reward:  1.000 [ 1.000,  1.000], mean action: 0.476 [0.000, 1.000],  loss: 0.113683, mae: 2.888852, mean_q: 5.704062, mean_eps: 0.516610\n",
            " 5514/10000: episode: 151, duration: 1.235s, episode steps: 132, steps per second: 107, episode reward: 132.000, mean reward:  1.000 [ 1.000,  1.000], mean action: 0.530 [0.000, 1.000],  loss: 0.143597, mae: 2.880016, mean_q: 5.668485, mean_eps: 0.509725\n",
            " 5645/10000: episode: 152, duration: 1.324s, episode steps: 131, steps per second:  99, episode reward: 131.000, mean reward:  1.000 [ 1.000,  1.000], mean action: 0.511 [0.000, 1.000],  loss: 0.134008, mae: 2.871876, mean_q: 5.661755, mean_eps: 0.497890\n",
            " 5831/10000: episode: 153, duration: 1.463s, episode steps: 186, steps per second: 127, episode reward: 186.000, mean reward:  1.000 [ 1.000,  1.000], mean action: 0.538 [0.000, 1.000],  loss: 0.115168, mae: 2.876500, mean_q: 5.685086, mean_eps: 0.483625\n",
            " 5985/10000: episode: 154, duration: 0.966s, episode steps: 154, steps per second: 159, episode reward: 154.000, mean reward:  1.000 [ 1.000,  1.000], mean action: 0.526 [0.000, 1.000],  loss: 0.129117, mae: 2.877677, mean_q: 5.670077, mean_eps: 0.468325\n",
            " 6083/10000: episode: 155, duration: 0.600s, episode steps:  98, steps per second: 163, episode reward: 98.000, mean reward:  1.000 [ 1.000,  1.000], mean action: 0.520 [0.000, 1.000],  loss: 0.194002, mae: 3.247206, mean_q: 6.311526, mean_eps: 0.456985\n",
            " 6218/10000: episode: 156, duration: 0.826s, episode steps: 135, steps per second: 163, episode reward: 135.000, mean reward:  1.000 [ 1.000,  1.000], mean action: 0.504 [0.000, 1.000],  loss: 0.158246, mae: 3.295347, mean_q: 6.539363, mean_eps: 0.446500\n",
            " 6393/10000: episode: 157, duration: 1.101s, episode steps: 175, steps per second: 159, episode reward: 175.000, mean reward:  1.000 [ 1.000,  1.000], mean action: 0.469 [0.000, 1.000],  loss: 0.169511, mae: 3.301488, mean_q: 6.540375, mean_eps: 0.432550\n",
            " 6501/10000: episode: 158, duration: 0.671s, episode steps: 108, steps per second: 161, episode reward: 108.000, mean reward:  1.000 [ 1.000,  1.000], mean action: 0.519 [0.000, 1.000],  loss: 0.136544, mae: 3.304908, mean_q: 6.568212, mean_eps: 0.419815\n",
            " 6647/10000: episode: 159, duration: 0.897s, episode steps: 146, steps per second: 163, episode reward: 146.000, mean reward:  1.000 [ 1.000,  1.000], mean action: 0.507 [0.000, 1.000],  loss: 0.137227, mae: 3.305148, mean_q: 6.582202, mean_eps: 0.408385\n",
            " 6847/10000: episode: 160, duration: 1.233s, episode steps: 200, steps per second: 162, episode reward: 200.000, mean reward:  1.000 [ 1.000,  1.000], mean action: 0.510 [0.000, 1.000],  loss: 0.148544, mae: 3.306323, mean_q: 6.577464, mean_eps: 0.392815\n",
            " 6906/10000: episode: 161, duration: 0.400s, episode steps:  59, steps per second: 147, episode reward: 59.000, mean reward:  1.000 [ 1.000,  1.000], mean action: 0.458 [0.000, 1.000],  loss: 0.106460, mae: 3.320174, mean_q: 6.635770, mean_eps: 0.381160\n",
            " 7106/10000: episode: 162, duration: 1.286s, episode steps: 200, steps per second: 155, episode reward: 200.000, mean reward:  1.000 [ 1.000,  1.000], mean action: 0.485 [0.000, 1.000],  loss: 0.192430, mae: 3.556420, mean_q: 7.030480, mean_eps: 0.369505\n",
            " 7306/10000: episode: 163, duration: 1.298s, episode steps: 200, steps per second: 154, episode reward: 200.000, mean reward:  1.000 [ 1.000,  1.000], mean action: 0.495 [0.000, 1.000],  loss: 0.171136, mae: 3.768811, mean_q: 7.508101, mean_eps: 0.351505\n",
            " 7476/10000: episode: 164, duration: 1.500s, episode steps: 170, steps per second: 113, episode reward: 170.000, mean reward:  1.000 [ 1.000,  1.000], mean action: 0.541 [0.000, 1.000],  loss: 0.156882, mae: 3.782169, mean_q: 7.537015, mean_eps: 0.334855\n",
            " 7635/10000: episode: 165, duration: 1.241s, episode steps: 159, steps per second: 128, episode reward: 159.000, mean reward:  1.000 [ 1.000,  1.000], mean action: 0.522 [0.000, 1.000],  loss: 0.141207, mae: 3.769404, mean_q: 7.534665, mean_eps: 0.320050\n",
            " 7835/10000: episode: 166, duration: 1.205s, episode steps: 200, steps per second: 166, episode reward: 200.000, mean reward:  1.000 [ 1.000,  1.000], mean action: 0.520 [0.000, 1.000],  loss: 0.155816, mae: 3.769114, mean_q: 7.532711, mean_eps: 0.303895\n",
            " 8009/10000: episode: 167, duration: 1.054s, episode steps: 174, steps per second: 165, episode reward: 174.000, mean reward:  1.000 [ 1.000,  1.000], mean action: 0.523 [0.000, 1.000],  loss: 0.180013, mae: 3.799618, mean_q: 7.539168, mean_eps: 0.287065\n",
            " 8159/10000: episode: 168, duration: 0.905s, episode steps: 150, steps per second: 166, episode reward: 150.000, mean reward:  1.000 [ 1.000,  1.000], mean action: 0.540 [0.000, 1.000],  loss: 0.215939, mae: 4.190680, mean_q: 8.339117, mean_eps: 0.272485\n",
            " 8359/10000: episode: 169, duration: 1.219s, episode steps: 200, steps per second: 164, episode reward: 200.000, mean reward:  1.000 [ 1.000,  1.000], mean action: 0.505 [0.000, 1.000],  loss: 0.180269, mae: 4.187967, mean_q: 8.372433, mean_eps: 0.256735\n",
            " 8532/10000: episode: 170, duration: 1.055s, episode steps: 173, steps per second: 164, episode reward: 173.000, mean reward:  1.000 [ 1.000,  1.000], mean action: 0.520 [0.000, 1.000],  loss: 0.191950, mae: 4.199946, mean_q: 8.395121, mean_eps: 0.239950\n",
            " 8732/10000: episode: 171, duration: 1.230s, episode steps: 200, steps per second: 163, episode reward: 200.000, mean reward:  1.000 [ 1.000,  1.000], mean action: 0.495 [0.000, 1.000],  loss: 0.168799, mae: 4.182967, mean_q: 8.389694, mean_eps: 0.223165\n",
            " 8932/10000: episode: 172, duration: 1.263s, episode steps: 200, steps per second: 158, episode reward: 200.000, mean reward:  1.000 [ 1.000,  1.000], mean action: 0.500 [0.000, 1.000],  loss: 0.173856, mae: 4.196158, mean_q: 8.420549, mean_eps: 0.205165\n",
            " 9132/10000: episode: 173, duration: 1.247s, episode steps: 200, steps per second: 160, episode reward: 200.000, mean reward:  1.000 [ 1.000,  1.000], mean action: 0.505 [0.000, 1.000],  loss: 0.251905, mae: 4.500355, mean_q: 8.943260, mean_eps: 0.187165\n",
            " 9289/10000: episode: 174, duration: 1.290s, episode steps: 157, steps per second: 122, episode reward: 157.000, mean reward:  1.000 [ 1.000,  1.000], mean action: 0.529 [0.000, 1.000],  loss: 0.285017, mae: 4.656039, mean_q: 9.290243, mean_eps: 0.171100\n",
            " 9489/10000: episode: 175, duration: 1.751s, episode steps: 200, steps per second: 114, episode reward: 200.000, mean reward:  1.000 [ 1.000,  1.000], mean action: 0.510 [0.000, 1.000],  loss: 0.228059, mae: 4.656641, mean_q: 9.322048, mean_eps: 0.155035\n",
            " 9640/10000: episode: 176, duration: 0.941s, episode steps: 151, steps per second: 161, episode reward: 151.000, mean reward:  1.000 [ 1.000,  1.000], mean action: 0.536 [0.000, 1.000],  loss: 0.233594, mae: 4.654735, mean_q: 9.334450, mean_eps: 0.139240\n",
            " 9840/10000: episode: 177, duration: 1.210s, episode steps: 200, steps per second: 165, episode reward: 200.000, mean reward:  1.000 [ 1.000,  1.000], mean action: 0.510 [0.000, 1.000],  loss: 0.212576, mae: 4.653432, mean_q: 9.344141, mean_eps: 0.123445\n",
            "done, took 77.549 seconds\n"
          ]
        }
      ]
    },
    {
      "cell_type": "code",
      "source": [
        "# summarize the history for number  of episode steps\n",
        "plt.plot(history.history['nb_episode_steps'])\n",
        "plt.ylabel('nb_episode_steps')\n",
        "plt.xlabel('episodes')\n",
        "plt.show()"
      ],
      "metadata": {
        "colab": {
          "base_uri": "https://localhost:8080/",
          "height": 279
        },
        "id": "bkKOscyvlbDf",
        "outputId": "96464af3-9998-4e07-a1f0-5f7226c459ba"
      },
      "execution_count": 7,
      "outputs": [
        {
          "output_type": "display_data",
          "data": {
            "text/plain": [
              "<Figure size 432x288 with 1 Axes>"
            ],
            "image/png": "[encoded data removed]"
          },
          "metadata": {
            "needs_background": "light"
          }
        }
      ]
    },
    {
      "cell_type": "code",
      "source": [
        "dqn.test(env, nb_episodes=20, visualize=False)"
      ],
      "metadata": {
        "colab": {
          "base_uri": "https://localhost:8080/"
        },
        "id": "2h6WA8hGldSM",
        "outputId": "7a40ef5a-5452-48f7-f847-1050ef7c43a3"
      },
      "execution_count": 8,
      "outputs": [
        {
          "output_type": "stream",
          "name": "stdout",
          "text": [
            "Testing for 20 episodes ...\n",
            "Episode 1: reward: 200.000, steps: 200\n",
            "Episode 2: reward: 200.000, steps: 200\n",
            "Episode 3: reward: 200.000, steps: 200\n",
            "Episode 4: reward: 200.000, steps: 200\n",
            "Episode 5: reward: 200.000, steps: 200\n",
            "Episode 6: reward: 200.000, steps: 200\n",
            "Episode 7: reward: 200.000, steps: 200\n",
            "Episode 8: reward: 200.000, steps: 200\n",
            "Episode 9: reward: 200.000, steps: 200\n",
            "Episode 10: reward: 200.000, steps: 200\n",
            "Episode 11: reward: 200.000, steps: 200\n",
            "Episode 12: reward: 200.000, steps: 200\n",
            "Episode 13: reward: 200.000, steps: 200\n",
            "Episode 14: reward: 200.000, steps: 200\n",
            "Episode 15: reward: 200.000, steps: 200\n",
            "Episode 16: reward: 200.000, steps: 200\n",
            "Episode 17: reward: 200.000, steps: 200\n",
            "Episode 18: reward: 200.000, steps: 200\n",
            "Episode 19: reward: 200.000, steps: 200\n",
            "Episode 20: reward: 200.000, steps: 200\n"
          ]
        },
        {
          "output_type": "execute_result",
          "data": {
            "text/plain": [
              "<keras.callbacks.History at 0x7f835424aac0>"
            ]
          },
          "metadata": {},
          "execution_count": 8
        }
      ]
    }
  ]
}