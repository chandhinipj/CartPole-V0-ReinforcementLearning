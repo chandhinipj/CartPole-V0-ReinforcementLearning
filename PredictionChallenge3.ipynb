{
  "nbformat": 4,
  "nbformat_minor": 0,
  "metadata": {
    "colab": {
      "provenance": [],
      "toc_visible": true,
      "include_colab_link": true
    },
    "kernelspec": {
      "name": "python3",
      "display_name": "Python 3"
    }
  },
  "cells": [
    {
      "cell_type": "markdown",
      "metadata": {
        "id": "view-in-github",
        "colab_type": "text"
      },
      "source": [
        "<a href=\"https://colab.research.google.com/github/chandhinipj/CartPole-V0-ReinforcementLearning/blob/main/PredictionChallenge3.ipynb\" target=\"_parent\"><img src=\"https://colab.research.google.com/assets/colab-badge.svg\" alt=\"Open In Colab\"/></a>"
      ]
    },
    {
      "cell_type": "markdown",
      "metadata": {
        "id": "VKK5DA390wRe"
      },
      "source": [
        "# Skeleton Code for Prediction Challenge 3\n",
        "Below is partial code to get you started on prediction challenge 3. You need to select values for the parameters that have question marks."
      ]
    },
    {
      "cell_type": "code",
      "source": [
        "!pip install keras-rl2"
      ],
      "metadata": {
        "colab": {
          "base_uri": "https://localhost:8080/"
        },
        "id": "DNGTghHEhyW4",
        "outputId": "f22de868-9dbf-4f47-f904-b170c64fff71"
      },
      "execution_count": 5,
      "outputs": [
        {
          "output_type": "stream",
          "name": "stdout",
          "text": [
            "Looking in indexes: https://pypi.org/simple, https://us-python.pkg.dev/colab-wheels/public/simple/\n",
            "Requirement already satisfied: keras-rl2 in /usr/local/lib/python3.9/dist-packages (1.0.5)\n",
            "Requirement already satisfied: tensorflow in /usr/local/lib/python3.9/dist-packages (from keras-rl2) (2.11.0)\n",
            "Requirement already satisfied: h5py>=2.9.0 in /usr/local/lib/python3.9/dist-packages (from tensorflow->keras-rl2) (3.8.0)\n",
            "Requirement already satisfied: setuptools in /usr/local/lib/python3.9/dist-packages (from tensorflow->keras-rl2) (67.6.0)\n",
            "Requirement already satisfied: keras<2.12,>=2.11.0 in /usr/local/lib/python3.9/dist-packages (from tensorflow->keras-rl2) (2.11.0)\n",
            "Requirement already satisfied: opt-einsum>=2.3.2 in /usr/local/lib/python3.9/dist-packages (from tensorflow->keras-rl2) (3.3.0)\n",
            "Requirement already satisfied: google-pasta>=0.1.1 in /usr/local/lib/python3.9/dist-packages (from tensorflow->keras-rl2) (0.2.0)\n",
            "Requirement already satisfied: absl-py>=1.0.0 in /usr/local/lib/python3.9/dist-packages (from tensorflow->keras-rl2) (1.4.0)\n",
            "Requirement already satisfied: gast<=0.4.0,>=0.2.1 in /usr/local/lib/python3.9/dist-packages (from tensorflow->keras-rl2) (0.4.0)\n",
            "Requirement already satisfied: termcolor>=1.1.0 in /usr/local/lib/python3.9/dist-packages (from tensorflow->keras-rl2) (2.2.0)\n",
            "Requirement already satisfied: protobuf<3.20,>=3.9.2 in /usr/local/lib/python3.9/dist-packages (from tensorflow->keras-rl2) (3.19.6)\n",
            "Requirement already satisfied: numpy>=1.20 in /usr/local/lib/python3.9/dist-packages (from tensorflow->keras-rl2) (1.22.4)\n",
            "Requirement already satisfied: packaging in /usr/local/lib/python3.9/dist-packages (from tensorflow->keras-rl2) (23.0)\n",
            "Requirement already satisfied: grpcio<2.0,>=1.24.3 in /usr/local/lib/python3.9/dist-packages (from tensorflow->keras-rl2) (1.51.3)\n",
            "Requirement already satisfied: typing-extensions>=3.6.6 in /usr/local/lib/python3.9/dist-packages (from tensorflow->keras-rl2) (4.5.0)\n",
            "Requirement already satisfied: six>=1.12.0 in /usr/local/lib/python3.9/dist-packages (from tensorflow->keras-rl2) (1.16.0)\n",
            "Requirement already satisfied: tensorflow-estimator<2.12,>=2.11.0 in /usr/local/lib/python3.9/dist-packages (from tensorflow->keras-rl2) (2.11.0)\n",
            "Requirement already satisfied: astunparse>=1.6.0 in /usr/local/lib/python3.9/dist-packages (from tensorflow->keras-rl2) (1.6.3)\n",
            "Requirement already satisfied: flatbuffers>=2.0 in /usr/local/lib/python3.9/dist-packages (from tensorflow->keras-rl2) (23.3.3)\n",
            "Requirement already satisfied: tensorboard<2.12,>=2.11 in /usr/local/lib/python3.9/dist-packages (from tensorflow->keras-rl2) (2.11.2)\n",
            "Requirement already satisfied: libclang>=13.0.0 in /usr/local/lib/python3.9/dist-packages (from tensorflow->keras-rl2) (15.0.6.1)\n",
            "Requirement already satisfied: wrapt>=1.11.0 in /usr/local/lib/python3.9/dist-packages (from tensorflow->keras-rl2) (1.15.0)\n",
            "Requirement already satisfied: tensorflow-io-gcs-filesystem>=0.23.1 in /usr/local/lib/python3.9/dist-packages (from tensorflow->keras-rl2) (0.31.0)\n",
            "Requirement already satisfied: wheel<1.0,>=0.23.0 in /usr/local/lib/python3.9/dist-packages (from astunparse>=1.6.0->tensorflow->keras-rl2) (0.40.0)\n",
            "Requirement already satisfied: google-auth-oauthlib<0.5,>=0.4.1 in /usr/local/lib/python3.9/dist-packages (from tensorboard<2.12,>=2.11->tensorflow->keras-rl2) (0.4.6)\n",
            "Requirement already satisfied: werkzeug>=1.0.1 in /usr/local/lib/python3.9/dist-packages (from tensorboard<2.12,>=2.11->tensorflow->keras-rl2) (2.2.3)\n",
            "Requirement already satisfied: tensorboard-data-server<0.7.0,>=0.6.0 in /usr/local/lib/python3.9/dist-packages (from tensorboard<2.12,>=2.11->tensorflow->keras-rl2) (0.6.1)\n",
            "Requirement already satisfied: markdown>=2.6.8 in /usr/local/lib/python3.9/dist-packages (from tensorboard<2.12,>=2.11->tensorflow->keras-rl2) (3.4.3)\n",
            "Requirement already satisfied: google-auth<3,>=1.6.3 in /usr/local/lib/python3.9/dist-packages (from tensorboard<2.12,>=2.11->tensorflow->keras-rl2) (2.16.2)\n",
            "Requirement already satisfied: requests<3,>=2.21.0 in /usr/local/lib/python3.9/dist-packages (from tensorboard<2.12,>=2.11->tensorflow->keras-rl2) (2.27.1)\n",
            "Requirement already satisfied: tensorboard-plugin-wit>=1.6.0 in /usr/local/lib/python3.9/dist-packages (from tensorboard<2.12,>=2.11->tensorflow->keras-rl2) (1.8.1)\n",
            "Requirement already satisfied: cachetools<6.0,>=2.0.0 in /usr/local/lib/python3.9/dist-packages (from google-auth<3,>=1.6.3->tensorboard<2.12,>=2.11->tensorflow->keras-rl2) (5.3.0)\n",
            "Requirement already satisfied: rsa<5,>=3.1.4 in /usr/local/lib/python3.9/dist-packages (from google-auth<3,>=1.6.3->tensorboard<2.12,>=2.11->tensorflow->keras-rl2) (4.9)\n",
            "Requirement already satisfied: pyasn1-modules>=0.2.1 in /usr/local/lib/python3.9/dist-packages (from google-auth<3,>=1.6.3->tensorboard<2.12,>=2.11->tensorflow->keras-rl2) (0.2.8)\n",
            "Requirement already satisfied: requests-oauthlib>=0.7.0 in /usr/local/lib/python3.9/dist-packages (from google-auth-oauthlib<0.5,>=0.4.1->tensorboard<2.12,>=2.11->tensorflow->keras-rl2) (1.3.1)\n",
            "Requirement already satisfied: importlib-metadata>=4.4 in /usr/local/lib/python3.9/dist-packages (from markdown>=2.6.8->tensorboard<2.12,>=2.11->tensorflow->keras-rl2) (6.1.0)\n",
            "Requirement already satisfied: certifi>=2017.4.17 in /usr/local/lib/python3.9/dist-packages (from requests<3,>=2.21.0->tensorboard<2.12,>=2.11->tensorflow->keras-rl2) (2022.12.7)\n",
            "Requirement already satisfied: urllib3<1.27,>=1.21.1 in /usr/local/lib/python3.9/dist-packages (from requests<3,>=2.21.0->tensorboard<2.12,>=2.11->tensorflow->keras-rl2) (1.26.15)\n",
            "Requirement already satisfied: idna<4,>=2.5 in /usr/local/lib/python3.9/dist-packages (from requests<3,>=2.21.0->tensorboard<2.12,>=2.11->tensorflow->keras-rl2) (3.4)\n",
            "Requirement already satisfied: charset-normalizer~=2.0.0 in /usr/local/lib/python3.9/dist-packages (from requests<3,>=2.21.0->tensorboard<2.12,>=2.11->tensorflow->keras-rl2) (2.0.12)\n",
            "Requirement already satisfied: MarkupSafe>=2.1.1 in /usr/local/lib/python3.9/dist-packages (from werkzeug>=1.0.1->tensorboard<2.12,>=2.11->tensorflow->keras-rl2) (2.1.2)\n",
            "Requirement already satisfied: zipp>=0.5 in /usr/local/lib/python3.9/dist-packages (from importlib-metadata>=4.4->markdown>=2.6.8->tensorboard<2.12,>=2.11->tensorflow->keras-rl2) (3.15.0)\n",
            "Requirement already satisfied: pyasn1<0.5.0,>=0.4.6 in /usr/local/lib/python3.9/dist-packages (from pyasn1-modules>=0.2.1->google-auth<3,>=1.6.3->tensorboard<2.12,>=2.11->tensorflow->keras-rl2) (0.4.8)\n",
            "Requirement already satisfied: oauthlib>=3.0.0 in /usr/local/lib/python3.9/dist-packages (from requests-oauthlib>=0.7.0->google-auth-oauthlib<0.5,>=0.4.1->tensorboard<2.12,>=2.11->tensorflow->keras-rl2) (3.2.2)\n"
          ]
        }
      ]
    },
    {
      "cell_type": "code",
      "source": [
        "!pip install gym"
      ],
      "metadata": {
        "colab": {
          "base_uri": "https://localhost:8080/"
        },
        "id": "eQ_dXOCKh0jV",
        "outputId": "0ad8ee08-5c46-4fb0-dcf5-9c9ad431888d"
      },
      "execution_count": 6,
      "outputs": [
        {
          "output_type": "stream",
          "name": "stdout",
          "text": [
            "Looking in indexes: https://pypi.org/simple, https://us-python.pkg.dev/colab-wheels/public/simple/\n",
            "Requirement already satisfied: gym in /usr/local/lib/python3.9/dist-packages (0.25.2)\n",
            "Requirement already satisfied: importlib-metadata>=4.8.0 in /usr/local/lib/python3.9/dist-packages (from gym) (6.1.0)\n",
            "Requirement already satisfied: gym-notices>=0.0.4 in /usr/local/lib/python3.9/dist-packages (from gym) (0.0.8)\n",
            "Requirement already satisfied: cloudpickle>=1.2.0 in /usr/local/lib/python3.9/dist-packages (from gym) (2.2.1)\n",
            "Requirement already satisfied: numpy>=1.18.0 in /usr/local/lib/python3.9/dist-packages (from gym) (1.22.4)\n",
            "Requirement already satisfied: zipp>=0.5 in /usr/local/lib/python3.9/dist-packages (from importlib-metadata>=4.8.0->gym) (3.15.0)\n"
          ]
        }
      ]
    },
    {
      "cell_type": "code",
      "source": [
        "# load the gym module\n",
        "import gym\n",
        "import matplotlib.pyplot as plt\n",
        "# import the usual Keras modules for creating deep neural networks\n",
        "from keras import Sequential\n",
        "from keras.layers import Input, Flatten, Dense\n",
        "from keras.optimizers import Adam\n",
        "\n",
        "ENV_NAME = 'CartPole-v0'\n",
        "env = gym.make(ENV_NAME)"
      ],
      "metadata": {
        "colab": {
          "base_uri": "https://localhost:8080/"
        },
        "id": "75Phf54nh2y_",
        "outputId": "31b7b33d-8433-4c31-eb25-4924c3515e7c"
      },
      "execution_count": 7,
      "outputs": [
        {
          "output_type": "stream",
          "name": "stderr",
          "text": [
            "/usr/local/lib/python3.9/dist-packages/gym/envs/registration.py:593: UserWarning: \u001b[33mWARN: The environment CartPole-v0 is out of date. You should consider upgrading to version `v1`.\u001b[0m\n",
            "  logger.warn(\n",
            "/usr/local/lib/python3.9/dist-packages/gym/core.py:317: DeprecationWarning: \u001b[33mWARN: Initializing wrapper in old step API which returns one bool instead of two. It is recommended to set `new_step_api=True` to use new step API. This will be the default behaviour in future.\u001b[0m\n",
            "  deprecation(\n",
            "/usr/local/lib/python3.9/dist-packages/gym/wrappers/step_api_compatibility.py:39: DeprecationWarning: \u001b[33mWARN: Initializing environment in old step API which returns one bool instead of two. It is recommended to set `new_step_api=True` to use new step API. This will be the default behaviour in future.\u001b[0m\n",
            "  deprecation(\n"
          ]
        }
      ]
    },
    {
      "cell_type": "code",
      "source": [
        "import rl\n",
        "from rl.memory import SequentialMemory  # import the exerience replay buffer module\n",
        "from rl.policy import LinearAnnealedPolicy, EpsGreedyQPolicy  # import the policy\n",
        "from rl.agents.dqn import DQNAgent      # import the DQN agent"
      ],
      "metadata": {
        "id": "KsGYDOrDh58e"
      },
      "execution_count": 8,
      "outputs": []
    },
    {
      "cell_type": "code",
      "source": [
        "# Q-Network\n",
        "model = Sequential()\n",
        "model.add(Input(shape=(1,env.observation_space.shape[0])))  # The input is 1 observation vector, and the number of observations in that vector \n",
        "model.add(Flatten())\n",
        "# add extra layers here\n",
        "model.add(Dense(16, activation='relu'))\n",
        "model.add(Dense(32, activation='relu'))\n",
        "# model.add(Dense(64, activation='relu'))\n",
        "# model.add(Dense(128, activation='relu'))\n",
        "\n",
        "model.add(Dense(env.action_space.n, activation='linear'))   # the output is the number of actions in the action space\n",
        "print(model.summary())"
      ],
      "metadata": {
        "colab": {
          "base_uri": "https://localhost:8080/"
        },
        "id": "i5dvD8xTio0U",
        "outputId": "bf4089bd-cad0-4b8d-ddb4-d0ac113f8748"
      },
      "execution_count": 9,
      "outputs": [
        {
          "output_type": "stream",
          "name": "stdout",
          "text": [
            "Model: \"sequential\"\n",
            "_________________________________________________________________\n",
            " Layer (type)                Output Shape              Param #   \n",
            "=================================================================\n",
            " flatten (Flatten)           (None, 4)                 0         \n",
            "                                                                 \n",
            " dense (Dense)               (None, 16)                80        \n",
            "                                                                 \n",
            " dense_1 (Dense)             (None, 32)                544       \n",
            "                                                                 \n",
            " dense_2 (Dense)             (None, 2)                 66        \n",
            "                                                                 \n",
            "=================================================================\n",
            "Total params: 690\n",
            "Trainable params: 690\n",
            "Non-trainable params: 0\n",
            "_________________________________________________________________\n",
            "None\n"
          ]
        }
      ]
    },
    {
      "cell_type": "code",
      "metadata": {
        "id": "R8ZiiRbxlH2D",
        "colab": {
          "base_uri": "https://localhost:8080/",
          "height": 1000
        },
        "outputId": "d2efc27c-65b6-4cab-8d5e-4906edfd09ff"
      },
      "source": [
        "memory = SequentialMemory(limit=5000, window_length=1)\n",
        "\n",
        "# define the policy\n",
        "policy =  LinearAnnealedPolicy(inner_policy=EpsGreedyQPolicy(eps=0.2), \n",
        "                               attr='eps',            \n",
        "                               value_max=1.0,\n",
        "                               value_min=0.1, \n",
        "                               value_test=.05,\n",
        "                               nb_steps=5000)\n",
        "\n",
        "\n",
        "# define the agent\n",
        "dqn = DQNAgent(model=model, \n",
        "               nb_actions=env.action_space.n,\n",
        "               memory=memory,\n",
        "               nb_steps_warmup=100,\n",
        "               target_model_update=1e-2, \n",
        "               policy=policy) \n",
        "\n",
        "dqn.compile(Adam(lr=1e-3), metrics=['mae'])\n",
        "\n",
        "history = dqn.fit(env, nb_steps=5000, visualize=False, verbose=2)\n",
        "\n",
        "# summarize the history for number  of episode steps\n",
        "plt.plot(history.history['nb_episode_steps'])\n",
        "plt.ylabel('nb_episode_steps')\n",
        "plt.xlabel('episodes')\n",
        "plt.show()"
      ],
      "execution_count": 12,
      "outputs": [
        {
          "output_type": "stream",
          "name": "stderr",
          "text": [
            "/usr/local/lib/python3.9/dist-packages/keras/optimizers/optimizer_v2/adam.py:117: UserWarning: The `lr` argument is deprecated, use `learning_rate` instead.\n",
            "  super().__init__(name, **kwargs)\n"
          ]
        },
        {
          "output_type": "stream",
          "name": "stdout",
          "text": [
            "Training for 5000 steps ...\n",
            "   13/5000: episode: 1, duration: 0.108s, episode steps:  13, steps per second: 121, episode reward: 13.000, mean reward:  1.000 [ 1.000,  1.000], mean action: 0.231 [0.000, 1.000],  loss: --, mae: --, mean_q: --, mean_eps: --\n",
            "   32/5000: episode: 2, duration: 0.014s, episode steps:  19, steps per second: 1314, episode reward: 19.000, mean reward:  1.000 [ 1.000,  1.000], mean action: 0.632 [0.000, 1.000],  loss: --, mae: --, mean_q: --, mean_eps: --\n",
            "   62/5000: episode: 3, duration: 0.023s, episode steps:  30, steps per second: 1290, episode reward: 30.000, mean reward:  1.000 [ 1.000,  1.000], mean action: 0.533 [0.000, 1.000],  loss: --, mae: --, mean_q: --, mean_eps: --\n",
            "   75/5000: episode: 4, duration: 0.010s, episode steps:  13, steps per second: 1248, episode reward: 13.000, mean reward:  1.000 [ 1.000,  1.000], mean action: 0.231 [0.000, 1.000],  loss: --, mae: --, mean_q: --, mean_eps: --\n"
          ]
        },
        {
          "output_type": "stream",
          "name": "stderr",
          "text": [
            "/usr/local/lib/python3.9/dist-packages/keras/engine/training_v1.py:2357: UserWarning: `Model.state_updates` will be removed in a future version. This property should not be used in TensorFlow 2.0, as `updates` are applied automatically.\n",
            "  updates=self.state_updates,\n",
            "/usr/local/lib/python3.9/dist-packages/keras/engine/training_v1.py:2357: UserWarning: `Model.state_updates` will be removed in a future version. This property should not be used in TensorFlow 2.0, as `updates` are applied automatically.\n",
            "  updates=self.state_updates,\n"
          ]
        },
        {
          "output_type": "stream",
          "name": "stdout",
          "text": [
            "  105/5000: episode: 5, duration: 0.677s, episode steps:  30, steps per second:  44, episode reward: 30.000, mean reward:  1.000 [ 1.000,  1.000], mean action: 0.567 [0.000, 1.000],  loss: 4.679460, mae: 7.114057, mean_q: 12.681247, mean_eps: 0.981550\n",
            "  150/5000: episode: 6, duration: 0.312s, episode steps:  45, steps per second: 144, episode reward: 45.000, mean reward:  1.000 [ 1.000,  1.000], mean action: 0.600 [0.000, 1.000],  loss: 2.325196, mae: 7.079136, mean_q: 13.504586, mean_eps: 0.977140\n",
            "  160/5000: episode: 7, duration: 0.069s, episode steps:  10, steps per second: 146, episode reward: 10.000, mean reward:  1.000 [ 1.000,  1.000], mean action: 0.700 [0.000, 1.000],  loss: 3.250010, mae: 7.265631, mean_q: 13.841727, mean_eps: 0.972190\n",
            "  182/5000: episode: 8, duration: 0.151s, episode steps:  22, steps per second: 146, episode reward: 22.000, mean reward:  1.000 [ 1.000,  1.000], mean action: 0.500 [0.000, 1.000],  loss: 3.389078, mae: 7.240316, mean_q: 13.519675, mean_eps: 0.969310\n",
            "  206/5000: episode: 9, duration: 0.167s, episode steps:  24, steps per second: 144, episode reward: 24.000, mean reward:  1.000 [ 1.000,  1.000], mean action: 0.458 [0.000, 1.000],  loss: 2.190196, mae: 7.245023, mean_q: 14.001202, mean_eps: 0.965170\n",
            "  230/5000: episode: 10, duration: 0.175s, episode steps:  24, steps per second: 137, episode reward: 24.000, mean reward:  1.000 [ 1.000,  1.000], mean action: 0.625 [0.000, 1.000],  loss: 2.830356, mae: 7.368747, mean_q: 13.936608, mean_eps: 0.960850\n",
            "  256/5000: episode: 11, duration: 0.210s, episode steps:  26, steps per second: 124, episode reward: 26.000, mean reward:  1.000 [ 1.000,  1.000], mean action: 0.500 [0.000, 1.000],  loss: 3.553330, mae: 7.430789, mean_q: 13.911768, mean_eps: 0.956350\n",
            "  270/5000: episode: 12, duration: 0.145s, episode steps:  14, steps per second:  97, episode reward: 14.000, mean reward:  1.000 [ 1.000,  1.000], mean action: 0.571 [0.000, 1.000],  loss: 2.573027, mae: 7.427400, mean_q: 14.243830, mean_eps: 0.952750\n",
            "  293/5000: episode: 13, duration: 0.251s, episode steps:  23, steps per second:  91, episode reward: 23.000, mean reward:  1.000 [ 1.000,  1.000], mean action: 0.522 [0.000, 1.000],  loss: 3.614489, mae: 7.541879, mean_q: 14.154076, mean_eps: 0.949420\n",
            "  320/5000: episode: 14, duration: 0.286s, episode steps:  27, steps per second:  95, episode reward: 27.000, mean reward:  1.000 [ 1.000,  1.000], mean action: 0.370 [0.000, 1.000],  loss: 2.268892, mae: 7.557771, mean_q: 14.531669, mean_eps: 0.944920\n",
            "  347/5000: episode: 15, duration: 0.265s, episode steps:  27, steps per second: 102, episode reward: 27.000, mean reward:  1.000 [ 1.000,  1.000], mean action: 0.444 [0.000, 1.000],  loss: 4.028487, mae: 7.724977, mean_q: 14.345455, mean_eps: 0.940060\n",
            "  362/5000: episode: 16, duration: 0.154s, episode steps:  15, steps per second:  98, episode reward: 15.000, mean reward:  1.000 [ 1.000,  1.000], mean action: 0.667 [0.000, 1.000],  loss: 2.434896, mae: 7.649692, mean_q: 14.528170, mean_eps: 0.936280\n",
            "  407/5000: episode: 17, duration: 0.445s, episode steps:  45, steps per second: 101, episode reward: 45.000, mean reward:  1.000 [ 1.000,  1.000], mean action: 0.556 [0.000, 1.000],  loss: 3.170941, mae: 7.711133, mean_q: 14.595453, mean_eps: 0.930880\n",
            "  429/5000: episode: 18, duration: 0.221s, episode steps:  22, steps per second: 100, episode reward: 22.000, mean reward:  1.000 [ 1.000,  1.000], mean action: 0.364 [0.000, 1.000],  loss: 3.963950, mae: 7.800093, mean_q: 14.462905, mean_eps: 0.924850\n",
            "  441/5000: episode: 19, duration: 0.121s, episode steps:  12, steps per second:  99, episode reward: 12.000, mean reward:  1.000 [ 1.000,  1.000], mean action: 0.417 [0.000, 1.000],  loss: 2.846739, mae: 7.765050, mean_q: 14.616588, mean_eps: 0.921790\n",
            "  456/5000: episode: 20, duration: 0.156s, episode steps:  15, steps per second:  96, episode reward: 15.000, mean reward:  1.000 [ 1.000,  1.000], mean action: 0.667 [0.000, 1.000],  loss: 3.057483, mae: 7.756915, mean_q: 14.623984, mean_eps: 0.919360\n",
            "  489/5000: episode: 21, duration: 0.333s, episode steps:  33, steps per second:  99, episode reward: 33.000, mean reward:  1.000 [ 1.000,  1.000], mean action: 0.606 [0.000, 1.000],  loss: 3.258945, mae: 7.810832, mean_q: 14.653216, mean_eps: 0.915040\n",
            "  519/5000: episode: 22, duration: 0.286s, episode steps:  30, steps per second: 105, episode reward: 30.000, mean reward:  1.000 [ 1.000,  1.000], mean action: 0.467 [0.000, 1.000],  loss: 2.801605, mae: 7.879074, mean_q: 14.898356, mean_eps: 0.909370\n",
            "  543/5000: episode: 23, duration: 0.167s, episode steps:  24, steps per second: 144, episode reward: 24.000, mean reward:  1.000 [ 1.000,  1.000], mean action: 0.500 [0.000, 1.000],  loss: 2.780991, mae: 7.890893, mean_q: 14.860711, mean_eps: 0.904510\n",
            "  566/5000: episode: 24, duration: 0.166s, episode steps:  23, steps per second: 139, episode reward: 23.000, mean reward:  1.000 [ 1.000,  1.000], mean action: 0.478 [0.000, 1.000],  loss: 2.259329, mae: 7.989432, mean_q: 15.256403, mean_eps: 0.900280\n",
            "  590/5000: episode: 25, duration: 0.163s, episode steps:  24, steps per second: 147, episode reward: 24.000, mean reward:  1.000 [ 1.000,  1.000], mean action: 0.417 [0.000, 1.000],  loss: 2.363046, mae: 7.985579, mean_q: 15.271338, mean_eps: 0.896050\n",
            "  620/5000: episode: 26, duration: 0.205s, episode steps:  30, steps per second: 146, episode reward: 30.000, mean reward:  1.000 [ 1.000,  1.000], mean action: 0.500 [0.000, 1.000],  loss: 2.633380, mae: 8.066943, mean_q: 15.407762, mean_eps: 0.891190\n",
            "  654/5000: episode: 27, duration: 0.241s, episode steps:  34, steps per second: 141, episode reward: 34.000, mean reward:  1.000 [ 1.000,  1.000], mean action: 0.559 [0.000, 1.000],  loss: 3.896838, mae: 8.166362, mean_q: 15.341021, mean_eps: 0.885430\n",
            "  699/5000: episode: 28, duration: 0.327s, episode steps:  45, steps per second: 138, episode reward: 45.000, mean reward:  1.000 [ 1.000,  1.000], mean action: 0.489 [0.000, 1.000],  loss: 2.776552, mae: 8.255564, mean_q: 15.811584, mean_eps: 0.878320\n",
            "  728/5000: episode: 29, duration: 0.214s, episode steps:  29, steps per second: 135, episode reward: 29.000, mean reward:  1.000 [ 1.000,  1.000], mean action: 0.552 [0.000, 1.000],  loss: 3.297799, mae: 8.311754, mean_q: 15.835134, mean_eps: 0.871660\n",
            "  743/5000: episode: 30, duration: 0.105s, episode steps:  15, steps per second: 143, episode reward: 15.000, mean reward:  1.000 [ 1.000,  1.000], mean action: 0.400 [0.000, 1.000],  loss: 2.401386, mae: 8.436360, mean_q: 16.388498, mean_eps: 0.867700\n",
            "  767/5000: episode: 31, duration: 0.168s, episode steps:  24, steps per second: 143, episode reward: 24.000, mean reward:  1.000 [ 1.000,  1.000], mean action: 0.500 [0.000, 1.000],  loss: 3.278556, mae: 8.463716, mean_q: 16.191484, mean_eps: 0.864190\n",
            "  783/5000: episode: 32, duration: 0.122s, episode steps:  16, steps per second: 132, episode reward: 16.000, mean reward:  1.000 [ 1.000,  1.000], mean action: 0.438 [0.000, 1.000],  loss: 2.538038, mae: 8.431899, mean_q: 16.315359, mean_eps: 0.860590\n",
            "  811/5000: episode: 33, duration: 0.194s, episode steps:  28, steps per second: 144, episode reward: 28.000, mean reward:  1.000 [ 1.000,  1.000], mean action: 0.464 [0.000, 1.000],  loss: 2.811466, mae: 8.569091, mean_q: 16.580882, mean_eps: 0.856630\n",
            "  831/5000: episode: 34, duration: 0.135s, episode steps:  20, steps per second: 148, episode reward: 20.000, mean reward:  1.000 [ 1.000,  1.000], mean action: 0.400 [0.000, 1.000],  loss: 3.654310, mae: 8.553297, mean_q: 16.365751, mean_eps: 0.852310\n",
            "  843/5000: episode: 35, duration: 0.098s, episode steps:  12, steps per second: 122, episode reward: 12.000, mean reward:  1.000 [ 1.000,  1.000], mean action: 0.583 [0.000, 1.000],  loss: 4.160193, mae: 8.642616, mean_q: 16.516857, mean_eps: 0.849430\n",
            "  855/5000: episode: 36, duration: 0.088s, episode steps:  12, steps per second: 136, episode reward: 12.000, mean reward:  1.000 [ 1.000,  1.000], mean action: 0.333 [0.000, 1.000],  loss: 2.824133, mae: 8.612957, mean_q: 16.630514, mean_eps: 0.847270\n",
            "  869/5000: episode: 37, duration: 0.094s, episode steps:  14, steps per second: 148, episode reward: 14.000, mean reward:  1.000 [ 1.000,  1.000], mean action: 0.571 [0.000, 1.000],  loss: 3.530455, mae: 8.715503, mean_q: 16.856268, mean_eps: 0.844930\n",
            "  928/5000: episode: 38, duration: 0.438s, episode steps:  59, steps per second: 135, episode reward: 59.000, mean reward:  1.000 [ 1.000,  1.000], mean action: 0.424 [0.000, 1.000],  loss: 3.940904, mae: 8.789806, mean_q: 16.843642, mean_eps: 0.838360\n",
            "  967/5000: episode: 39, duration: 0.273s, episode steps:  39, steps per second: 143, episode reward: 39.000, mean reward:  1.000 [ 1.000,  1.000], mean action: 0.462 [0.000, 1.000],  loss: 3.498294, mae: 8.856036, mean_q: 17.119428, mean_eps: 0.829540\n",
            "  984/5000: episode: 40, duration: 0.126s, episode steps:  17, steps per second: 134, episode reward: 17.000, mean reward:  1.000 [ 1.000,  1.000], mean action: 0.647 [0.000, 1.000],  loss: 5.248067, mae: 8.944116, mean_q: 17.099535, mean_eps: 0.824500\n",
            " 1000/5000: episode: 41, duration: 0.111s, episode steps:  16, steps per second: 144, episode reward: 16.000, mean reward:  1.000 [ 1.000,  1.000], mean action: 0.375 [0.000, 1.000],  loss: 3.983350, mae: 8.864412, mean_q: 16.764195, mean_eps: 0.821530\n",
            " 1028/5000: episode: 42, duration: 0.188s, episode steps:  28, steps per second: 149, episode reward: 28.000, mean reward:  1.000 [ 1.000,  1.000], mean action: 0.500 [0.000, 1.000],  loss: 2.921931, mae: 8.971912, mean_q: 17.400759, mean_eps: 0.817570\n",
            " 1070/5000: episode: 43, duration: 0.298s, episode steps:  42, steps per second: 141, episode reward: 42.000, mean reward:  1.000 [ 1.000,  1.000], mean action: 0.476 [0.000, 1.000],  loss: 2.925506, mae: 9.117851, mean_q: 17.771135, mean_eps: 0.811270\n",
            " 1088/5000: episode: 44, duration: 0.130s, episode steps:  18, steps per second: 138, episode reward: 18.000, mean reward:  1.000 [ 1.000,  1.000], mean action: 0.556 [0.000, 1.000],  loss: 3.926697, mae: 9.291181, mean_q: 18.028778, mean_eps: 0.805870\n",
            " 1111/5000: episode: 45, duration: 0.164s, episode steps:  23, steps per second: 140, episode reward: 23.000, mean reward:  1.000 [ 1.000,  1.000], mean action: 0.478 [0.000, 1.000],  loss: 4.532623, mae: 9.272713, mean_q: 17.774818, mean_eps: 0.802180\n",
            " 1139/5000: episode: 46, duration: 0.180s, episode steps:  28, steps per second: 155, episode reward: 28.000, mean reward:  1.000 [ 1.000,  1.000], mean action: 0.536 [0.000, 1.000],  loss: 4.018282, mae: 9.270877, mean_q: 17.895833, mean_eps: 0.797590\n",
            " 1164/5000: episode: 47, duration: 0.185s, episode steps:  25, steps per second: 135, episode reward: 25.000, mean reward:  1.000 [ 1.000,  1.000], mean action: 0.600 [0.000, 1.000],  loss: 4.185866, mae: 9.400406, mean_q: 18.373386, mean_eps: 0.792820\n",
            " 1184/5000: episode: 48, duration: 0.137s, episode steps:  20, steps per second: 146, episode reward: 20.000, mean reward:  1.000 [ 1.000,  1.000], mean action: 0.550 [0.000, 1.000],  loss: 3.815089, mae: 9.500785, mean_q: 18.560608, mean_eps: 0.788770\n",
            " 1204/5000: episode: 49, duration: 0.162s, episode steps:  20, steps per second: 123, episode reward: 20.000, mean reward:  1.000 [ 1.000,  1.000], mean action: 0.450 [0.000, 1.000],  loss: 4.023802, mae: 9.480820, mean_q: 18.409695, mean_eps: 0.785170\n",
            " 1222/5000: episode: 50, duration: 0.153s, episode steps:  18, steps per second: 118, episode reward: 18.000, mean reward:  1.000 [ 1.000,  1.000], mean action: 0.556 [0.000, 1.000],  loss: 4.416075, mae: 9.546217, mean_q: 18.493650, mean_eps: 0.781750\n",
            " 1278/5000: episode: 51, duration: 0.390s, episode steps:  56, steps per second: 143, episode reward: 56.000, mean reward:  1.000 [ 1.000,  1.000], mean action: 0.554 [0.000, 1.000],  loss: 3.977235, mae: 9.709287, mean_q: 19.017588, mean_eps: 0.775090\n",
            " 1301/5000: episode: 52, duration: 0.153s, episode steps:  23, steps per second: 151, episode reward: 23.000, mean reward:  1.000 [ 1.000,  1.000], mean action: 0.478 [0.000, 1.000],  loss: 5.322044, mae: 9.839118, mean_q: 19.002369, mean_eps: 0.767980\n",
            " 1317/5000: episode: 53, duration: 0.116s, episode steps:  16, steps per second: 138, episode reward: 16.000, mean reward:  1.000 [ 1.000,  1.000], mean action: 0.688 [0.000, 1.000],  loss: 3.927511, mae: 9.788312, mean_q: 19.087645, mean_eps: 0.764470\n",
            " 1393/5000: episode: 54, duration: 0.504s, episode steps:  76, steps per second: 151, episode reward: 76.000, mean reward:  1.000 [ 1.000,  1.000], mean action: 0.461 [0.000, 1.000],  loss: 3.855681, mae: 10.021038, mean_q: 19.736191, mean_eps: 0.756190\n",
            " 1408/5000: episode: 55, duration: 0.101s, episode steps:  15, steps per second: 148, episode reward: 15.000, mean reward:  1.000 [ 1.000,  1.000], mean action: 0.533 [0.000, 1.000],  loss: 4.269795, mae: 10.073568, mean_q: 19.762176, mean_eps: 0.748000\n",
            " 1440/5000: episode: 56, duration: 0.211s, episode steps:  32, steps per second: 151, episode reward: 32.000, mean reward:  1.000 [ 1.000,  1.000], mean action: 0.531 [0.000, 1.000],  loss: 4.509156, mae: 10.262887, mean_q: 20.270239, mean_eps: 0.743770\n",
            " 1500/5000: episode: 57, duration: 0.394s, episode steps:  60, steps per second: 152, episode reward: 60.000, mean reward:  1.000 [ 1.000,  1.000], mean action: 0.483 [0.000, 1.000],  loss: 5.581698, mae: 10.379912, mean_q: 20.217537, mean_eps: 0.735490\n",
            " 1549/5000: episode: 58, duration: 0.350s, episode steps:  49, steps per second: 140, episode reward: 49.000, mean reward:  1.000 [ 1.000,  1.000], mean action: 0.469 [0.000, 1.000],  loss: 3.132722, mae: 10.514624, mean_q: 20.823757, mean_eps: 0.725680\n",
            " 1663/5000: episode: 59, duration: 0.757s, episode steps: 114, steps per second: 151, episode reward: 114.000, mean reward:  1.000 [ 1.000,  1.000], mean action: 0.535 [0.000, 1.000],  loss: 3.729040, mae: 10.874199, mean_q: 21.629070, mean_eps: 0.711010\n",
            " 1697/5000: episode: 60, duration: 0.238s, episode steps:  34, steps per second: 143, episode reward: 34.000, mean reward:  1.000 [ 1.000,  1.000], mean action: 0.529 [0.000, 1.000],  loss: 4.733762, mae: 11.148207, mean_q: 22.049282, mean_eps: 0.697690\n",
            " 1752/5000: episode: 61, duration: 0.377s, episode steps:  55, steps per second: 146, episode reward: 55.000, mean reward:  1.000 [ 1.000,  1.000], mean action: 0.527 [0.000, 1.000],  loss: 3.672300, mae: 11.319605, mean_q: 22.609088, mean_eps: 0.689680\n",
            " 1811/5000: episode: 62, duration: 0.395s, episode steps:  59, steps per second: 149, episode reward: 59.000, mean reward:  1.000 [ 1.000,  1.000], mean action: 0.458 [0.000, 1.000],  loss: 4.681770, mae: 11.525726, mean_q: 22.819584, mean_eps: 0.679420\n",
            " 1856/5000: episode: 63, duration: 0.318s, episode steps:  45, steps per second: 141, episode reward: 45.000, mean reward:  1.000 [ 1.000,  1.000], mean action: 0.511 [0.000, 1.000],  loss: 5.832302, mae: 11.788347, mean_q: 23.251140, mean_eps: 0.670060\n",
            " 1932/5000: episode: 64, duration: 0.550s, episode steps:  76, steps per second: 138, episode reward: 76.000, mean reward:  1.000 [ 1.000,  1.000], mean action: 0.487 [0.000, 1.000],  loss: 4.360513, mae: 11.871100, mean_q: 23.626411, mean_eps: 0.659170\n",
            " 1971/5000: episode: 65, duration: 0.413s, episode steps:  39, steps per second:  94, episode reward: 39.000, mean reward:  1.000 [ 1.000,  1.000], mean action: 0.462 [0.000, 1.000],  loss: 4.877911, mae: 12.079899, mean_q: 24.076975, mean_eps: 0.648820\n",
            " 1996/5000: episode: 66, duration: 0.255s, episode steps:  25, steps per second:  98, episode reward: 25.000, mean reward:  1.000 [ 1.000,  1.000], mean action: 0.440 [0.000, 1.000],  loss: 4.526495, mae: 12.141723, mean_q: 24.109263, mean_eps: 0.643060\n",
            " 2017/5000: episode: 67, duration: 0.210s, episode steps:  21, steps per second: 100, episode reward: 21.000, mean reward:  1.000 [ 1.000,  1.000], mean action: 0.619 [0.000, 1.000],  loss: 5.826690, mae: 12.247138, mean_q: 24.124509, mean_eps: 0.638920\n",
            " 2096/5000: episode: 68, duration: 0.767s, episode steps:  79, steps per second: 103, episode reward: 79.000, mean reward:  1.000 [ 1.000,  1.000], mean action: 0.506 [0.000, 1.000],  loss: 3.793240, mae: 12.514908, mean_q: 25.070427, mean_eps: 0.629920\n",
            " 2165/5000: episode: 69, duration: 0.979s, episode steps:  69, steps per second:  70, episode reward: 69.000, mean reward:  1.000 [ 1.000,  1.000], mean action: 0.493 [0.000, 1.000],  loss: 4.105018, mae: 12.768217, mean_q: 25.582914, mean_eps: 0.616600\n",
            " 2240/5000: episode: 70, duration: 0.515s, episode steps:  75, steps per second: 146, episode reward: 75.000, mean reward:  1.000 [ 1.000,  1.000], mean action: 0.520 [0.000, 1.000],  loss: 4.538150, mae: 13.022334, mean_q: 26.113723, mean_eps: 0.603640\n",
            " 2321/5000: episode: 71, duration: 0.552s, episode steps:  81, steps per second: 147, episode reward: 81.000, mean reward:  1.000 [ 1.000,  1.000], mean action: 0.481 [0.000, 1.000],  loss: 4.987109, mae: 13.330904, mean_q: 26.715343, mean_eps: 0.589600\n",
            " 2355/5000: episode: 72, duration: 0.233s, episode steps:  34, steps per second: 146, episode reward: 34.000, mean reward:  1.000 [ 1.000,  1.000], mean action: 0.471 [0.000, 1.000],  loss: 5.024401, mae: 13.659659, mean_q: 27.262073, mean_eps: 0.579250\n",
            " 2424/5000: episode: 73, duration: 0.477s, episode steps:  69, steps per second: 145, episode reward: 69.000, mean reward:  1.000 [ 1.000,  1.000], mean action: 0.507 [0.000, 1.000],  loss: 5.416815, mae: 13.688877, mean_q: 27.316048, mean_eps: 0.569980\n",
            " 2470/5000: episode: 74, duration: 0.346s, episode steps:  46, steps per second: 133, episode reward: 46.000, mean reward:  1.000 [ 1.000,  1.000], mean action: 0.522 [0.000, 1.000],  loss: 5.286473, mae: 13.910553, mean_q: 27.824872, mean_eps: 0.559630\n",
            " 2487/5000: episode: 75, duration: 0.151s, episode steps:  17, steps per second: 112, episode reward: 17.000, mean reward:  1.000 [ 1.000,  1.000], mean action: 0.588 [0.000, 1.000],  loss: 7.020080, mae: 13.991868, mean_q: 28.007907, mean_eps: 0.553960\n",
            " 2603/5000: episode: 76, duration: 0.820s, episode steps: 116, steps per second: 141, episode reward: 116.000, mean reward:  1.000 [ 1.000,  1.000], mean action: 0.543 [0.000, 1.000],  loss: 5.857860, mae: 14.172178, mean_q: 28.362771, mean_eps: 0.541990\n",
            " 2626/5000: episode: 77, duration: 0.171s, episode steps:  23, steps per second: 134, episode reward: 23.000, mean reward:  1.000 [ 1.000,  1.000], mean action: 0.435 [0.000, 1.000],  loss: 3.680307, mae: 14.555655, mean_q: 29.277511, mean_eps: 0.529480\n",
            " 2697/5000: episode: 78, duration: 0.476s, episode steps:  71, steps per second: 149, episode reward: 71.000, mean reward:  1.000 [ 1.000,  1.000], mean action: 0.465 [0.000, 1.000],  loss: 5.077192, mae: 14.605070, mean_q: 29.371090, mean_eps: 0.521020\n",
            " 2782/5000: episode: 79, duration: 0.596s, episode steps:  85, steps per second: 143, episode reward: 85.000, mean reward:  1.000 [ 1.000,  1.000], mean action: 0.494 [0.000, 1.000],  loss: 5.397901, mae: 14.847429, mean_q: 29.803463, mean_eps: 0.506980\n",
            " 2840/5000: episode: 80, duration: 0.386s, episode steps:  58, steps per second: 150, episode reward: 58.000, mean reward:  1.000 [ 1.000,  1.000], mean action: 0.517 [0.000, 1.000],  loss: 4.151335, mae: 15.124787, mean_q: 30.663144, mean_eps: 0.494110\n",
            " 2915/5000: episode: 81, duration: 0.526s, episode steps:  75, steps per second: 142, episode reward: 75.000, mean reward:  1.000 [ 1.000,  1.000], mean action: 0.467 [0.000, 1.000],  loss: 5.541218, mae: 15.378236, mean_q: 31.056412, mean_eps: 0.482140\n",
            " 2997/5000: episode: 82, duration: 0.546s, episode steps:  82, steps per second: 150, episode reward: 82.000, mean reward:  1.000 [ 1.000,  1.000], mean action: 0.451 [0.000, 1.000],  loss: 5.244655, mae: 15.586551, mean_q: 31.568414, mean_eps: 0.468010\n",
            " 3088/5000: episode: 83, duration: 0.633s, episode steps:  91, steps per second: 144, episode reward: 91.000, mean reward:  1.000 [ 1.000,  1.000], mean action: 0.538 [0.000, 1.000],  loss: 5.898688, mae: 15.965303, mean_q: 32.241092, mean_eps: 0.452440\n",
            " 3182/5000: episode: 84, duration: 0.650s, episode steps:  94, steps per second: 145, episode reward: 94.000, mean reward:  1.000 [ 1.000,  1.000], mean action: 0.564 [0.000, 1.000],  loss: 5.139606, mae: 16.253758, mean_q: 32.912323, mean_eps: 0.435790\n",
            " 3283/5000: episode: 85, duration: 0.692s, episode steps: 101, steps per second: 146, episode reward: 101.000, mean reward:  1.000 [ 1.000,  1.000], mean action: 0.515 [0.000, 1.000],  loss: 5.039050, mae: 16.568538, mean_q: 33.721701, mean_eps: 0.418240\n",
            " 3414/5000: episode: 86, duration: 1.062s, episode steps: 131, steps per second: 123, episode reward: 131.000, mean reward:  1.000 [ 1.000,  1.000], mean action: 0.527 [0.000, 1.000],  loss: 5.701921, mae: 17.107276, mean_q: 34.611867, mean_eps: 0.397360\n",
            " 3560/5000: episode: 87, duration: 1.266s, episode steps: 146, steps per second: 115, episode reward: 146.000, mean reward:  1.000 [ 1.000,  1.000], mean action: 0.521 [0.000, 1.000],  loss: 5.867044, mae: 17.695767, mean_q: 35.769283, mean_eps: 0.372430\n",
            " 3760/5000: episode: 88, duration: 1.969s, episode steps: 200, steps per second: 102, episode reward: 200.000, mean reward:  1.000 [ 1.000,  1.000], mean action: 0.525 [0.000, 1.000],  loss: 5.095627, mae: 18.352087, mean_q: 37.251680, mean_eps: 0.341290\n",
            " 3916/5000: episode: 89, duration: 1.215s, episode steps: 156, steps per second: 128, episode reward: 156.000, mean reward:  1.000 [ 1.000,  1.000], mean action: 0.487 [0.000, 1.000],  loss: 5.700543, mae: 18.967570, mean_q: 38.510666, mean_eps: 0.309250\n",
            " 4109/5000: episode: 90, duration: 1.325s, episode steps: 193, steps per second: 146, episode reward: 193.000, mean reward:  1.000 [ 1.000,  1.000], mean action: 0.534 [0.000, 1.000],  loss: 5.576251, mae: 19.667126, mean_q: 40.008144, mean_eps: 0.277840\n",
            " 4309/5000: episode: 91, duration: 1.319s, episode steps: 200, steps per second: 152, episode reward: 200.000, mean reward:  1.000 [ 1.000,  1.000], mean action: 0.520 [0.000, 1.000],  loss: 5.869479, mae: 20.552729, mean_q: 41.846954, mean_eps: 0.242470\n",
            " 4494/5000: episode: 92, duration: 1.287s, episode steps: 185, steps per second: 144, episode reward: 185.000, mean reward:  1.000 [ 1.000,  1.000], mean action: 0.530 [0.000, 1.000],  loss: 5.460731, mae: 21.350096, mean_q: 43.441493, mean_eps: 0.207820\n",
            " 4694/5000: episode: 93, duration: 1.343s, episode steps: 200, steps per second: 149, episode reward: 200.000, mean reward:  1.000 [ 1.000,  1.000], mean action: 0.515 [0.000, 1.000],  loss: 5.307369, mae: 22.080310, mean_q: 45.006795, mean_eps: 0.173170\n",
            " 4894/5000: episode: 94, duration: 1.361s, episode steps: 200, steps per second: 147, episode reward: 200.000, mean reward:  1.000 [ 1.000,  1.000], mean action: 0.515 [0.000, 1.000],  loss: 5.345593, mae: 22.918734, mean_q: 46.693623, mean_eps: 0.137170\n",
            "done, took 37.838 seconds\n"
          ]
        },
        {
          "output_type": "display_data",
          "data": {
            "text/plain": [
              "<Figure size 432x288 with 1 Axes>"
            ],
            "image/png": "[encoded data removed]"
          },
          "metadata": {
            "needs_background": "light"
          }
        }
      ]
    },
    {
      "cell_type": "code",
      "source": [
        "dqn.test(env, nb_episodes=20, visualize=False)"
      ],
      "metadata": {
        "colab": {
          "base_uri": "https://localhost:8080/"
        },
        "id": "bkKOscyvlbDf",
        "outputId": "56ebf85d-64e6-423a-e656-c991db6a6519"
      },
      "execution_count": 14,
      "outputs": [
        {
          "output_type": "stream",
          "name": "stdout",
          "text": [
            "Testing for 20 episodes ...\n",
            "Episode 1: reward: 200.000, steps: 200\n",
            "Episode 2: reward: 200.000, steps: 200\n",
            "Episode 3: reward: 200.000, steps: 200\n",
            "Episode 4: reward: 193.000, steps: 193\n",
            "Episode 5: reward: 200.000, steps: 200\n",
            "Episode 6: reward: 200.000, steps: 200\n",
            "Episode 7: reward: 200.000, steps: 200\n",
            "Episode 8: reward: 168.000, steps: 168\n",
            "Episode 9: reward: 200.000, steps: 200\n",
            "Episode 10: reward: 200.000, steps: 200\n",
            "Episode 11: reward: 193.000, steps: 193\n",
            "Episode 12: reward: 200.000, steps: 200\n",
            "Episode 13: reward: 200.000, steps: 200\n",
            "Episode 14: reward: 200.000, steps: 200\n",
            "Episode 15: reward: 183.000, steps: 183\n",
            "Episode 16: reward: 200.000, steps: 200\n",
            "Episode 17: reward: 188.000, steps: 188\n",
            "Episode 18: reward: 200.000, steps: 200\n",
            "Episode 19: reward: 194.000, steps: 194\n",
            "Episode 20: reward: 200.000, steps: 200\n"
          ]
        },
        {
          "output_type": "execute_result",
          "data": {
            "text/plain": [
              "<keras.callbacks.History at 0x7f9dad599d60>"
            ]
          },
          "metadata": {},
          "execution_count": 14
        }
      ]
    }
  ]
}